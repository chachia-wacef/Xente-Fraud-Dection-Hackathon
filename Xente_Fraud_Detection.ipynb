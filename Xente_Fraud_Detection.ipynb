{
  "nbformat": 4,
  "nbformat_minor": 0,
  "metadata": {
    "colab": {
      "name": "Xente_Fraud_Detection.ipynb",
      "provenance": [],
      "collapsed_sections": []
    },
    "kernelspec": {
      "display_name": "Python 3",
      "name": "python3"
    }
  },
  "cells": [
    {
      "cell_type": "markdown",
      "metadata": {
        "id": "0Iuchi0hIOH3"
      },
      "source": [
        "# **INTRO :**\n",
        "\n",
        "\n",
        "> **Fraud detection is an important application of machine learning in the financial services sector. This solution will help Xente provide improved and safer service to its customers.The objective of this competition is to create a machine learning model to detect fraudulent transactions.**\n",
        "\n"
      ]
    },
    {
      "cell_type": "markdown",
      "metadata": {
        "id": "-myL-Mi8IVUu"
      },
      "source": [
        "# **Setup**"
      ]
    },
    {
      "cell_type": "markdown",
      "metadata": {
        "id": "DEH9VbRYI4Yu"
      },
      "source": [
        "\n",
        "\n",
        "### 1. **Libraries**\n",
        "\n",
        "\n"
      ]
    },
    {
      "cell_type": "code",
      "metadata": {
        "id": "_VCEoes4JGBO"
      },
      "source": [
        "'''Importing necessary libraries'''\n",
        "import pandas as pd\n",
        "import numpy as np\n",
        "from matplotlib import pyplot as plt\n",
        "import seaborn as sns\n",
        "from sklearn.preprocessing import LabelEncoder\n",
        "from sklearn.preprocessing import StandardScaler\n",
        "from sklearn.model_selection import train_test_split, StratifiedKFold\n",
        "from sklearn.pipeline import Pipeline\n",
        "from sklearn.model_selection import GridSearchCV\n",
        "from sklearn.metrics import make_scorer, matthews_corrcoef\n",
        "import scipy as sp\n",
        "from sklearn.ensemble import RandomForestClassifier\n",
        "import xgboost as xgb\n",
        "from sklearn.metrics import confusion_matrix, f1_score"
      ],
      "execution_count": 3,
      "outputs": []
    },
    {
      "cell_type": "code",
      "metadata": {
        "id": "_OXKBUdlnYQz"
      },
      "source": [
        "import warnings\n",
        "warnings.simplefilter('ignore')"
      ],
      "execution_count": 4,
      "outputs": []
    },
    {
      "cell_type": "markdown",
      "metadata": {
        "id": "J5t7SwKHIXp2"
      },
      "source": [
        "\n",
        "\n",
        "### 2.   **Get Data From Drive**\n"
      ]
    },
    {
      "cell_type": "code",
      "metadata": {
        "id": "NvKS9gTgHMby"
      },
      "source": [
        "#from google.colab import drive\n",
        "#drive.mount('/content/drive')"
      ],
      "execution_count": 5,
      "outputs": []
    },
    {
      "cell_type": "code",
      "metadata": {
        "id": "x6NcjfPrIkQm"
      },
      "source": [
        "#importing the data\n",
        "#path = \"/content/drive/My Drive/Alliance4AI-Hackathons\"\n",
        "train = pd.read_csv(\"training.csv\")\n",
        "test = pd.read_csv(\"test.csv\")\n",
        "sub = pd.read_csv(\"/content/sample_submission.csv\")"
      ],
      "execution_count": 6,
      "outputs": []
    },
    {
      "cell_type": "code",
      "metadata": {
        "id": "8JgSZo_hB5Nj",
        "outputId": "01770fde-3f90-4653-ffb5-6f0dc4974e10",
        "colab": {
          "base_uri": "https://localhost:8080/",
          "height": 521
        }
      },
      "source": [
        "dfv = pd.read_csv('/content/Xente_Variable_Definitions.csv')\n",
        "dfv"
      ],
      "execution_count": 7,
      "outputs": [
        {
          "output_type": "execute_result",
          "data": {
            "text/html": [
              "<div>\n",
              "<style scoped>\n",
              "    .dataframe tbody tr th:only-of-type {\n",
              "        vertical-align: middle;\n",
              "    }\n",
              "\n",
              "    .dataframe tbody tr th {\n",
              "        vertical-align: top;\n",
              "    }\n",
              "\n",
              "    .dataframe thead th {\n",
              "        text-align: right;\n",
              "    }\n",
              "</style>\n",
              "<table border=\"1\" class=\"dataframe\">\n",
              "  <thead>\n",
              "    <tr style=\"text-align: right;\">\n",
              "      <th></th>\n",
              "      <th>Column Name</th>\n",
              "      <th>Definition</th>\n",
              "    </tr>\n",
              "  </thead>\n",
              "  <tbody>\n",
              "    <tr>\n",
              "      <th>0</th>\n",
              "      <td>TransactionId</td>\n",
              "      <td>Unique �transaction identifier on platform</td>\n",
              "    </tr>\n",
              "    <tr>\n",
              "      <th>1</th>\n",
              "      <td>BatchId</td>\n",
              "      <td>Unique number assigned to a batch of transacti...</td>\n",
              "    </tr>\n",
              "    <tr>\n",
              "      <th>2</th>\n",
              "      <td>AccountId</td>\n",
              "      <td>Unique number identifying the customer on plat...</td>\n",
              "    </tr>\n",
              "    <tr>\n",
              "      <th>3</th>\n",
              "      <td>SubscriptionId</td>\n",
              "      <td>Unique number identifying the customer subscri...</td>\n",
              "    </tr>\n",
              "    <tr>\n",
              "      <th>4</th>\n",
              "      <td>CustomerId</td>\n",
              "      <td>Unique identifier attached to Account</td>\n",
              "    </tr>\n",
              "    <tr>\n",
              "      <th>5</th>\n",
              "      <td>CurrencyCode</td>\n",
              "      <td>Country currency</td>\n",
              "    </tr>\n",
              "    <tr>\n",
              "      <th>6</th>\n",
              "      <td>CountryCode</td>\n",
              "      <td>Numerical geographical code of country</td>\n",
              "    </tr>\n",
              "    <tr>\n",
              "      <th>7</th>\n",
              "      <td>ProviderId</td>\n",
              "      <td>Source provider of Item �bought.</td>\n",
              "    </tr>\n",
              "    <tr>\n",
              "      <th>8</th>\n",
              "      <td>ProductId</td>\n",
              "      <td>Item name being bought.</td>\n",
              "    </tr>\n",
              "    <tr>\n",
              "      <th>9</th>\n",
              "      <td>ProductCategory</td>\n",
              "      <td>ProductIds are organized into these broader pr...</td>\n",
              "    </tr>\n",
              "    <tr>\n",
              "      <th>10</th>\n",
              "      <td>ChannelId</td>\n",
              "      <td>Identifies if customer used web,Android, IOS, ...</td>\n",
              "    </tr>\n",
              "    <tr>\n",
              "      <th>11</th>\n",
              "      <td>Amount</td>\n",
              "      <td>Value of the transaction. Positive for debits ...</td>\n",
              "    </tr>\n",
              "    <tr>\n",
              "      <th>12</th>\n",
              "      <td>Value</td>\n",
              "      <td>Absolute value of the amount</td>\n",
              "    </tr>\n",
              "    <tr>\n",
              "      <th>13</th>\n",
              "      <td>TransactionStartTime</td>\n",
              "      <td>Transaction start time</td>\n",
              "    </tr>\n",
              "    <tr>\n",
              "      <th>14</th>\n",
              "      <td>PricingStrategy</td>\n",
              "      <td>Category of Xente's pricing structure for merc...</td>\n",
              "    </tr>\n",
              "    <tr>\n",
              "      <th>15</th>\n",
              "      <td>FraudResult</td>\n",
              "      <td>Fraud status of transaction 1 -yes or 0-No</td>\n",
              "    </tr>\n",
              "  </tbody>\n",
              "</table>\n",
              "</div>"
            ],
            "text/plain": [
              "             Column Name                                         Definition\n",
              "0          TransactionId         Unique �transaction identifier on platform\n",
              "1                BatchId  Unique number assigned to a batch of transacti...\n",
              "2              AccountId  Unique number identifying the customer on plat...\n",
              "3         SubscriptionId  Unique number identifying the customer subscri...\n",
              "4             CustomerId              Unique identifier attached to Account\n",
              "5           CurrencyCode                                   Country currency\n",
              "6            CountryCode             Numerical geographical code of country\n",
              "7             ProviderId                   Source provider of Item �bought.\n",
              "8              ProductId                            Item name being bought.\n",
              "9        ProductCategory  ProductIds are organized into these broader pr...\n",
              "10             ChannelId  Identifies if customer used web,Android, IOS, ...\n",
              "11                Amount  Value of the transaction. Positive for debits ...\n",
              "12                 Value                       Absolute value of the amount\n",
              "13  TransactionStartTime                             Transaction start time\n",
              "14       PricingStrategy  Category of Xente's pricing structure for merc...\n",
              "15           FraudResult         Fraud status of transaction 1 -yes or 0-No"
            ]
          },
          "metadata": {
            "tags": []
          },
          "execution_count": 7
        }
      ]
    },
    {
      "cell_type": "markdown",
      "metadata": {
        "id": "k6cKPg5_KF5d"
      },
      "source": [
        "# **Data Exploration**"
      ]
    },
    {
      "cell_type": "code",
      "metadata": {
        "id": "SXUpVh6UI2wO",
        "outputId": "e169f04d-c4b1-4bd1-d0b1-31de583c6e73",
        "colab": {
          "base_uri": "https://localhost:8080/",
          "height": 215
        }
      },
      "source": [
        "#viewing a sample of the training data\n",
        "train.head()"
      ],
      "execution_count": 8,
      "outputs": [
        {
          "output_type": "execute_result",
          "data": {
            "text/html": [
              "<div>\n",
              "<style scoped>\n",
              "    .dataframe tbody tr th:only-of-type {\n",
              "        vertical-align: middle;\n",
              "    }\n",
              "\n",
              "    .dataframe tbody tr th {\n",
              "        vertical-align: top;\n",
              "    }\n",
              "\n",
              "    .dataframe thead th {\n",
              "        text-align: right;\n",
              "    }\n",
              "</style>\n",
              "<table border=\"1\" class=\"dataframe\">\n",
              "  <thead>\n",
              "    <tr style=\"text-align: right;\">\n",
              "      <th></th>\n",
              "      <th>TransactionId</th>\n",
              "      <th>BatchId</th>\n",
              "      <th>AccountId</th>\n",
              "      <th>SubscriptionId</th>\n",
              "      <th>CustomerId</th>\n",
              "      <th>CurrencyCode</th>\n",
              "      <th>CountryCode</th>\n",
              "      <th>ProviderId</th>\n",
              "      <th>ProductId</th>\n",
              "      <th>ProductCategory</th>\n",
              "      <th>ChannelId</th>\n",
              "      <th>Amount</th>\n",
              "      <th>Value</th>\n",
              "      <th>TransactionStartTime</th>\n",
              "      <th>PricingStrategy</th>\n",
              "      <th>FraudResult</th>\n",
              "    </tr>\n",
              "  </thead>\n",
              "  <tbody>\n",
              "    <tr>\n",
              "      <th>0</th>\n",
              "      <td>TransactionId_76871</td>\n",
              "      <td>BatchId_36123</td>\n",
              "      <td>AccountId_3957</td>\n",
              "      <td>SubscriptionId_887</td>\n",
              "      <td>CustomerId_4406</td>\n",
              "      <td>UGX</td>\n",
              "      <td>256</td>\n",
              "      <td>ProviderId_6</td>\n",
              "      <td>ProductId_10</td>\n",
              "      <td>airtime</td>\n",
              "      <td>ChannelId_3</td>\n",
              "      <td>1000.0</td>\n",
              "      <td>1000</td>\n",
              "      <td>2018-11-15T02:18:49Z</td>\n",
              "      <td>2</td>\n",
              "      <td>0</td>\n",
              "    </tr>\n",
              "    <tr>\n",
              "      <th>1</th>\n",
              "      <td>TransactionId_73770</td>\n",
              "      <td>BatchId_15642</td>\n",
              "      <td>AccountId_4841</td>\n",
              "      <td>SubscriptionId_3829</td>\n",
              "      <td>CustomerId_4406</td>\n",
              "      <td>UGX</td>\n",
              "      <td>256</td>\n",
              "      <td>ProviderId_4</td>\n",
              "      <td>ProductId_6</td>\n",
              "      <td>financial_services</td>\n",
              "      <td>ChannelId_2</td>\n",
              "      <td>-20.0</td>\n",
              "      <td>20</td>\n",
              "      <td>2018-11-15T02:19:08Z</td>\n",
              "      <td>2</td>\n",
              "      <td>0</td>\n",
              "    </tr>\n",
              "    <tr>\n",
              "      <th>2</th>\n",
              "      <td>TransactionId_26203</td>\n",
              "      <td>BatchId_53941</td>\n",
              "      <td>AccountId_4229</td>\n",
              "      <td>SubscriptionId_222</td>\n",
              "      <td>CustomerId_4683</td>\n",
              "      <td>UGX</td>\n",
              "      <td>256</td>\n",
              "      <td>ProviderId_6</td>\n",
              "      <td>ProductId_1</td>\n",
              "      <td>airtime</td>\n",
              "      <td>ChannelId_3</td>\n",
              "      <td>500.0</td>\n",
              "      <td>500</td>\n",
              "      <td>2018-11-15T02:44:21Z</td>\n",
              "      <td>2</td>\n",
              "      <td>0</td>\n",
              "    </tr>\n",
              "    <tr>\n",
              "      <th>3</th>\n",
              "      <td>TransactionId_380</td>\n",
              "      <td>BatchId_102363</td>\n",
              "      <td>AccountId_648</td>\n",
              "      <td>SubscriptionId_2185</td>\n",
              "      <td>CustomerId_988</td>\n",
              "      <td>UGX</td>\n",
              "      <td>256</td>\n",
              "      <td>ProviderId_1</td>\n",
              "      <td>ProductId_21</td>\n",
              "      <td>utility_bill</td>\n",
              "      <td>ChannelId_3</td>\n",
              "      <td>20000.0</td>\n",
              "      <td>21800</td>\n",
              "      <td>2018-11-15T03:32:55Z</td>\n",
              "      <td>2</td>\n",
              "      <td>0</td>\n",
              "    </tr>\n",
              "    <tr>\n",
              "      <th>4</th>\n",
              "      <td>TransactionId_28195</td>\n",
              "      <td>BatchId_38780</td>\n",
              "      <td>AccountId_4841</td>\n",
              "      <td>SubscriptionId_3829</td>\n",
              "      <td>CustomerId_988</td>\n",
              "      <td>UGX</td>\n",
              "      <td>256</td>\n",
              "      <td>ProviderId_4</td>\n",
              "      <td>ProductId_6</td>\n",
              "      <td>financial_services</td>\n",
              "      <td>ChannelId_2</td>\n",
              "      <td>-644.0</td>\n",
              "      <td>644</td>\n",
              "      <td>2018-11-15T03:34:21Z</td>\n",
              "      <td>2</td>\n",
              "      <td>0</td>\n",
              "    </tr>\n",
              "  </tbody>\n",
              "</table>\n",
              "</div>"
            ],
            "text/plain": [
              "         TransactionId         BatchId  ... PricingStrategy FraudResult\n",
              "0  TransactionId_76871   BatchId_36123  ...               2           0\n",
              "1  TransactionId_73770   BatchId_15642  ...               2           0\n",
              "2  TransactionId_26203   BatchId_53941  ...               2           0\n",
              "3    TransactionId_380  BatchId_102363  ...               2           0\n",
              "4  TransactionId_28195   BatchId_38780  ...               2           0\n",
              "\n",
              "[5 rows x 16 columns]"
            ]
          },
          "metadata": {
            "tags": []
          },
          "execution_count": 8
        }
      ]
    },
    {
      "cell_type": "code",
      "metadata": {
        "id": "nw1x00U0C01b",
        "outputId": "bf5b0e5f-fb20-4c25-ba5c-261d835e1a93",
        "colab": {
          "base_uri": "https://localhost:8080/"
        }
      },
      "source": [
        "train['ProductCategory'].value_counts()"
      ],
      "execution_count": 9,
      "outputs": [
        {
          "output_type": "execute_result",
          "data": {
            "text/plain": [
              "financial_services    45405\n",
              "airtime               45027\n",
              "utility_bill           1920\n",
              "data_bundles           1613\n",
              "tv                     1279\n",
              "ticket                  216\n",
              "movies                  175\n",
              "transport                25\n",
              "other                     2\n",
              "Name: ProductCategory, dtype: int64"
            ]
          },
          "metadata": {
            "tags": []
          },
          "execution_count": 9
        }
      ]
    },
    {
      "cell_type": "code",
      "metadata": {
        "id": "d-8UeL5nEkMi",
        "outputId": "b176b6cc-ac28-42ed-b8b9-272264e1c6b1",
        "colab": {
          "base_uri": "https://localhost:8080/"
        }
      },
      "source": [
        "train['PricingStrategy'].value_counts()"
      ],
      "execution_count": 10,
      "outputs": [
        {
          "output_type": "execute_result",
          "data": {
            "text/plain": [
              "2    79848\n",
              "4    13562\n",
              "1     1867\n",
              "0      385\n",
              "Name: PricingStrategy, dtype: int64"
            ]
          },
          "metadata": {
            "tags": []
          },
          "execution_count": 10
        }
      ]
    },
    {
      "cell_type": "code",
      "metadata": {
        "id": "Wyf59yJCFnE7",
        "outputId": "c8898aee-f397-4396-84bf-623510834678",
        "colab": {
          "base_uri": "https://localhost:8080/"
        }
      },
      "source": [
        "train['CountryCode'].value_counts()"
      ],
      "execution_count": 11,
      "outputs": [
        {
          "output_type": "execute_result",
          "data": {
            "text/plain": [
              "256    95662\n",
              "Name: CountryCode, dtype: int64"
            ]
          },
          "metadata": {
            "tags": []
          },
          "execution_count": 11
        }
      ]
    },
    {
      "cell_type": "code",
      "metadata": {
        "id": "jk9D2efOF6eU",
        "outputId": "68a62980-7b9b-4756-cc4c-e4f1c6eb7086",
        "colab": {
          "base_uri": "https://localhost:8080/"
        }
      },
      "source": [
        "test['CountryCode'].value_counts()"
      ],
      "execution_count": 12,
      "outputs": [
        {
          "output_type": "execute_result",
          "data": {
            "text/plain": [
              "256    45019\n",
              "Name: CountryCode, dtype: int64"
            ]
          },
          "metadata": {
            "tags": []
          },
          "execution_count": 12
        }
      ]
    },
    {
      "cell_type": "code",
      "metadata": {
        "id": "zdxUr0c6F0vK"
      },
      "source": [
        "#cette colonne n'a pas d'utilité \n",
        "train = train.drop(['CountryCode'],axis=1)\n",
        "test = test.drop(['CountryCode'],axis=1)"
      ],
      "execution_count": 13,
      "outputs": []
    },
    {
      "cell_type": "code",
      "metadata": {
        "id": "ssbVvblpGTHM",
        "outputId": "b4dd3ce7-045f-4764-8aae-a1d847c477fd",
        "colab": {
          "base_uri": "https://localhost:8080/"
        }
      },
      "source": [
        "train['CurrencyCode'].value_counts()"
      ],
      "execution_count": 14,
      "outputs": [
        {
          "output_type": "execute_result",
          "data": {
            "text/plain": [
              "UGX    95662\n",
              "Name: CurrencyCode, dtype: int64"
            ]
          },
          "metadata": {
            "tags": []
          },
          "execution_count": 14
        }
      ]
    },
    {
      "cell_type": "code",
      "metadata": {
        "id": "68xYEu5KGb0Z",
        "outputId": "af13484f-f8a9-4ead-a076-fcc841db0f29",
        "colab": {
          "base_uri": "https://localhost:8080/"
        }
      },
      "source": [
        "test['CurrencyCode'].value_counts()"
      ],
      "execution_count": 15,
      "outputs": [
        {
          "output_type": "execute_result",
          "data": {
            "text/plain": [
              "UGX    45019\n",
              "Name: CurrencyCode, dtype: int64"
            ]
          },
          "metadata": {
            "tags": []
          },
          "execution_count": 15
        }
      ]
    },
    {
      "cell_type": "code",
      "metadata": {
        "id": "cRAPc1SXGiM0"
      },
      "source": [
        "# de méme: colonne sans utilité\n",
        "train = train.drop(['CurrencyCode'],axis=1)\n",
        "test = test.drop(['CurrencyCode'],axis=1)"
      ],
      "execution_count": 16,
      "outputs": []
    },
    {
      "cell_type": "code",
      "metadata": {
        "id": "HOnFVea7eW-o",
        "outputId": "c9625373-f7b9-4906-96bb-df4aad0374b7",
        "colab": {
          "base_uri": "https://localhost:8080/",
          "height": 215
        }
      },
      "source": [
        "test.head()"
      ],
      "execution_count": 17,
      "outputs": [
        {
          "output_type": "execute_result",
          "data": {
            "text/html": [
              "<div>\n",
              "<style scoped>\n",
              "    .dataframe tbody tr th:only-of-type {\n",
              "        vertical-align: middle;\n",
              "    }\n",
              "\n",
              "    .dataframe tbody tr th {\n",
              "        vertical-align: top;\n",
              "    }\n",
              "\n",
              "    .dataframe thead th {\n",
              "        text-align: right;\n",
              "    }\n",
              "</style>\n",
              "<table border=\"1\" class=\"dataframe\">\n",
              "  <thead>\n",
              "    <tr style=\"text-align: right;\">\n",
              "      <th></th>\n",
              "      <th>TransactionId</th>\n",
              "      <th>BatchId</th>\n",
              "      <th>AccountId</th>\n",
              "      <th>SubscriptionId</th>\n",
              "      <th>CustomerId</th>\n",
              "      <th>ProviderId</th>\n",
              "      <th>ProductId</th>\n",
              "      <th>ProductCategory</th>\n",
              "      <th>ChannelId</th>\n",
              "      <th>Amount</th>\n",
              "      <th>Value</th>\n",
              "      <th>TransactionStartTime</th>\n",
              "      <th>PricingStrategy</th>\n",
              "    </tr>\n",
              "  </thead>\n",
              "  <tbody>\n",
              "    <tr>\n",
              "      <th>0</th>\n",
              "      <td>TransactionId_50600</td>\n",
              "      <td>BatchId_35028</td>\n",
              "      <td>AccountId_2441</td>\n",
              "      <td>SubscriptionId_4426</td>\n",
              "      <td>CustomerId_2857</td>\n",
              "      <td>ProviderId_5</td>\n",
              "      <td>ProductId_3</td>\n",
              "      <td>airtime</td>\n",
              "      <td>ChannelId_3</td>\n",
              "      <td>1000.0</td>\n",
              "      <td>1000</td>\n",
              "      <td>2019-02-13T10:01:40Z</td>\n",
              "      <td>4</td>\n",
              "    </tr>\n",
              "    <tr>\n",
              "      <th>1</th>\n",
              "      <td>TransactionId_95109</td>\n",
              "      <td>BatchId_45139</td>\n",
              "      <td>AccountId_3439</td>\n",
              "      <td>SubscriptionId_2643</td>\n",
              "      <td>CustomerId_3874</td>\n",
              "      <td>ProviderId_5</td>\n",
              "      <td>ProductId_15</td>\n",
              "      <td>financial_services</td>\n",
              "      <td>ChannelId_3</td>\n",
              "      <td>2000.0</td>\n",
              "      <td>2000</td>\n",
              "      <td>2019-02-13T10:02:12Z</td>\n",
              "      <td>2</td>\n",
              "    </tr>\n",
              "    <tr>\n",
              "      <th>2</th>\n",
              "      <td>TransactionId_47357</td>\n",
              "      <td>BatchId_74887</td>\n",
              "      <td>AccountId_4841</td>\n",
              "      <td>SubscriptionId_3829</td>\n",
              "      <td>CustomerId_2857</td>\n",
              "      <td>ProviderId_4</td>\n",
              "      <td>ProductId_6</td>\n",
              "      <td>financial_services</td>\n",
              "      <td>ChannelId_2</td>\n",
              "      <td>-50.0</td>\n",
              "      <td>50</td>\n",
              "      <td>2019-02-13T10:02:30Z</td>\n",
              "      <td>2</td>\n",
              "    </tr>\n",
              "    <tr>\n",
              "      <th>3</th>\n",
              "      <td>TransactionId_28185</td>\n",
              "      <td>BatchId_11025</td>\n",
              "      <td>AccountId_2685</td>\n",
              "      <td>SubscriptionId_4626</td>\n",
              "      <td>CustomerId_3105</td>\n",
              "      <td>ProviderId_5</td>\n",
              "      <td>ProductId_10</td>\n",
              "      <td>airtime</td>\n",
              "      <td>ChannelId_3</td>\n",
              "      <td>3000.0</td>\n",
              "      <td>3000</td>\n",
              "      <td>2019-02-13T10:02:38Z</td>\n",
              "      <td>4</td>\n",
              "    </tr>\n",
              "    <tr>\n",
              "      <th>4</th>\n",
              "      <td>TransactionId_22140</td>\n",
              "      <td>BatchId_29804</td>\n",
              "      <td>AccountId_4841</td>\n",
              "      <td>SubscriptionId_3829</td>\n",
              "      <td>CustomerId_3105</td>\n",
              "      <td>ProviderId_4</td>\n",
              "      <td>ProductId_6</td>\n",
              "      <td>financial_services</td>\n",
              "      <td>ChannelId_2</td>\n",
              "      <td>-60.0</td>\n",
              "      <td>60</td>\n",
              "      <td>2019-02-13T10:02:58Z</td>\n",
              "      <td>2</td>\n",
              "    </tr>\n",
              "  </tbody>\n",
              "</table>\n",
              "</div>"
            ],
            "text/plain": [
              "         TransactionId        BatchId  ...  TransactionStartTime PricingStrategy\n",
              "0  TransactionId_50600  BatchId_35028  ...  2019-02-13T10:01:40Z               4\n",
              "1  TransactionId_95109  BatchId_45139  ...  2019-02-13T10:02:12Z               2\n",
              "2  TransactionId_47357  BatchId_74887  ...  2019-02-13T10:02:30Z               2\n",
              "3  TransactionId_28185  BatchId_11025  ...  2019-02-13T10:02:38Z               4\n",
              "4  TransactionId_22140  BatchId_29804  ...  2019-02-13T10:02:58Z               2\n",
              "\n",
              "[5 rows x 13 columns]"
            ]
          },
          "metadata": {
            "tags": []
          },
          "execution_count": 17
        }
      ]
    },
    {
      "cell_type": "code",
      "metadata": {
        "id": "MNkT6Jk4kWNU",
        "outputId": "f74e21b7-ae60-4bc8-83cf-3fed3ea16368",
        "colab": {
          "base_uri": "https://localhost:8080/"
        }
      },
      "source": [
        "#checking the shape of the train and test datasets\n",
        "tr = train.shape\n",
        "te = test.shape\n",
        "print(\"train_set_shape is: {} and test_set_shape is: {}\".format(tr,te))"
      ],
      "execution_count": 18,
      "outputs": [
        {
          "output_type": "stream",
          "text": [
            "train_set_shape is: (95662, 14) and test_set_shape is: (45019, 13)\n"
          ],
          "name": "stdout"
        }
      ]
    },
    {
      "cell_type": "code",
      "metadata": {
        "id": "oEKQvnHHkUG-",
        "outputId": "183dc1b1-431b-43d9-bb88-f13c34a79e1d",
        "colab": {
          "base_uri": "https://localhost:8080/"
        }
      },
      "source": [
        "#train set info\n",
        "train.info()"
      ],
      "execution_count": 19,
      "outputs": [
        {
          "output_type": "stream",
          "text": [
            "<class 'pandas.core.frame.DataFrame'>\n",
            "RangeIndex: 95662 entries, 0 to 95661\n",
            "Data columns (total 14 columns):\n",
            " #   Column                Non-Null Count  Dtype  \n",
            "---  ------                --------------  -----  \n",
            " 0   TransactionId         95662 non-null  object \n",
            " 1   BatchId               95662 non-null  object \n",
            " 2   AccountId             95662 non-null  object \n",
            " 3   SubscriptionId        95662 non-null  object \n",
            " 4   CustomerId            95662 non-null  object \n",
            " 5   ProviderId            95662 non-null  object \n",
            " 6   ProductId             95662 non-null  object \n",
            " 7   ProductCategory       95662 non-null  object \n",
            " 8   ChannelId             95662 non-null  object \n",
            " 9   Amount                95662 non-null  float64\n",
            " 10  Value                 95662 non-null  int64  \n",
            " 11  TransactionStartTime  95662 non-null  object \n",
            " 12  PricingStrategy       95662 non-null  int64  \n",
            " 13  FraudResult           95662 non-null  int64  \n",
            "dtypes: float64(1), int64(3), object(10)\n",
            "memory usage: 10.2+ MB\n"
          ],
          "name": "stdout"
        }
      ]
    },
    {
      "cell_type": "code",
      "metadata": {
        "id": "5Nzaqld4kaY-",
        "outputId": "eb2d374e-3011-4d5e-c408-0f858200fa85",
        "colab": {
          "base_uri": "https://localhost:8080/"
        }
      },
      "source": [
        "train['FraudResult'].value_counts()  # Imbalanced data :)"
      ],
      "execution_count": 20,
      "outputs": [
        {
          "output_type": "execute_result",
          "data": {
            "text/plain": [
              "0    95469\n",
              "1      193\n",
              "Name: FraudResult, dtype: int64"
            ]
          },
          "metadata": {
            "tags": []
          },
          "execution_count": 20
        }
      ]
    },
    {
      "cell_type": "code",
      "metadata": {
        "id": "WHE-AVC0kcj0",
        "outputId": "08bf4046-ba18-4f9a-f8f0-8e40449417b7",
        "colab": {
          "base_uri": "https://localhost:8080/",
          "height": 299
        }
      },
      "source": [
        "#Visualising Fraudulent and non-fraudulent cases\n",
        "plt.bar(\"Fraudulent\", train[\"FraudResult\"].value_counts()[1], color=\"red\")\n",
        "plt.bar(\"Non_Fraudulent\", train[\"FraudResult\"].value_counts()[0], width=0.5, color=\"green\")\n",
        "plt.ylabel(\"Count\", fontsize=14)\n",
        "plt.title(\"Fraudulent VS Non-Fraudulent\")"
      ],
      "execution_count": 21,
      "outputs": [
        {
          "output_type": "execute_result",
          "data": {
            "text/plain": [
              "Text(0.5, 1.0, 'Fraudulent VS Non-Fraudulent')"
            ]
          },
          "metadata": {
            "tags": []
          },
          "execution_count": 21
        },
        {
          "output_type": "display_data",
          "data": {
            "image/png": "[encoded data removed]",
            "text/plain": [
              "<Figure size 432x288 with 1 Axes>"
            ]
          },
          "metadata": {
            "tags": [],
            "needs_background": "light"
          }
        }
      ]
    },
    {
      "cell_type": "code",
      "metadata": {
        "id": "Ip8rKRNOBky8",
        "outputId": "c3234c0d-dd7c-4452-9d3e-5be00479b30c",
        "colab": {
          "base_uri": "https://localhost:8080/",
          "height": 284
        }
      },
      "source": [
        "train.describe()"
      ],
      "execution_count": 22,
      "outputs": [
        {
          "output_type": "execute_result",
          "data": {
            "text/html": [
              "<div>\n",
              "<style scoped>\n",
              "    .dataframe tbody tr th:only-of-type {\n",
              "        vertical-align: middle;\n",
              "    }\n",
              "\n",
              "    .dataframe tbody tr th {\n",
              "        vertical-align: top;\n",
              "    }\n",
              "\n",
              "    .dataframe thead th {\n",
              "        text-align: right;\n",
              "    }\n",
              "</style>\n",
              "<table border=\"1\" class=\"dataframe\">\n",
              "  <thead>\n",
              "    <tr style=\"text-align: right;\">\n",
              "      <th></th>\n",
              "      <th>Amount</th>\n",
              "      <th>Value</th>\n",
              "      <th>PricingStrategy</th>\n",
              "      <th>FraudResult</th>\n",
              "    </tr>\n",
              "  </thead>\n",
              "  <tbody>\n",
              "    <tr>\n",
              "      <th>count</th>\n",
              "      <td>9.566200e+04</td>\n",
              "      <td>9.566200e+04</td>\n",
              "      <td>95662.000000</td>\n",
              "      <td>95662.000000</td>\n",
              "    </tr>\n",
              "    <tr>\n",
              "      <th>mean</th>\n",
              "      <td>6.717846e+03</td>\n",
              "      <td>9.900584e+03</td>\n",
              "      <td>2.255974</td>\n",
              "      <td>0.002018</td>\n",
              "    </tr>\n",
              "    <tr>\n",
              "      <th>std</th>\n",
              "      <td>1.233068e+05</td>\n",
              "      <td>1.231221e+05</td>\n",
              "      <td>0.732924</td>\n",
              "      <td>0.044872</td>\n",
              "    </tr>\n",
              "    <tr>\n",
              "      <th>min</th>\n",
              "      <td>-1.000000e+06</td>\n",
              "      <td>2.000000e+00</td>\n",
              "      <td>0.000000</td>\n",
              "      <td>0.000000</td>\n",
              "    </tr>\n",
              "    <tr>\n",
              "      <th>25%</th>\n",
              "      <td>-5.000000e+01</td>\n",
              "      <td>2.750000e+02</td>\n",
              "      <td>2.000000</td>\n",
              "      <td>0.000000</td>\n",
              "    </tr>\n",
              "    <tr>\n",
              "      <th>50%</th>\n",
              "      <td>1.000000e+03</td>\n",
              "      <td>1.000000e+03</td>\n",
              "      <td>2.000000</td>\n",
              "      <td>0.000000</td>\n",
              "    </tr>\n",
              "    <tr>\n",
              "      <th>75%</th>\n",
              "      <td>2.800000e+03</td>\n",
              "      <td>5.000000e+03</td>\n",
              "      <td>2.000000</td>\n",
              "      <td>0.000000</td>\n",
              "    </tr>\n",
              "    <tr>\n",
              "      <th>max</th>\n",
              "      <td>9.880000e+06</td>\n",
              "      <td>9.880000e+06</td>\n",
              "      <td>4.000000</td>\n",
              "      <td>1.000000</td>\n",
              "    </tr>\n",
              "  </tbody>\n",
              "</table>\n",
              "</div>"
            ],
            "text/plain": [
              "             Amount         Value  PricingStrategy   FraudResult\n",
              "count  9.566200e+04  9.566200e+04     95662.000000  95662.000000\n",
              "mean   6.717846e+03  9.900584e+03         2.255974      0.002018\n",
              "std    1.233068e+05  1.231221e+05         0.732924      0.044872\n",
              "min   -1.000000e+06  2.000000e+00         0.000000      0.000000\n",
              "25%   -5.000000e+01  2.750000e+02         2.000000      0.000000\n",
              "50%    1.000000e+03  1.000000e+03         2.000000      0.000000\n",
              "75%    2.800000e+03  5.000000e+03         2.000000      0.000000\n",
              "max    9.880000e+06  9.880000e+06         4.000000      1.000000"
            ]
          },
          "metadata": {
            "tags": []
          },
          "execution_count": 22
        }
      ]
    },
    {
      "cell_type": "markdown",
      "metadata": {
        "id": "ubV2JMQtklTB"
      },
      "source": [
        "# **Feature-Engineering**"
      ]
    },
    {
      "cell_type": "code",
      "metadata": {
        "id": "4o6RrLtvkesc"
      },
      "source": [
        "#label encoding columns\n",
        "columns_to_Encode = [\"BatchId\",'AccountId','SubscriptionId','CustomerId',\n",
        "                     'ProviderId','ProductId','ProductCategory','ChannelId',]\n",
        "le = LabelEncoder()\n",
        "for each in columns_to_Encode:\n",
        "    train[each] = le.fit_transform(train[each])\n",
        "\n",
        "for column in columns_to_Encode:\n",
        "  test[column] = le.fit_transform(test[column])"
      ],
      "execution_count": 23,
      "outputs": []
    },
    {
      "cell_type": "code",
      "metadata": {
        "id": "HtbgY5APFHXS",
        "outputId": "d75c687b-f85b-4e2f-fc0d-93e5a719b944",
        "colab": {
          "base_uri": "https://localhost:8080/",
          "height": 215
        }
      },
      "source": [
        "train.head()"
      ],
      "execution_count": 24,
      "outputs": [
        {
          "output_type": "execute_result",
          "data": {
            "text/html": [
              "<div>\n",
              "<style scoped>\n",
              "    .dataframe tbody tr th:only-of-type {\n",
              "        vertical-align: middle;\n",
              "    }\n",
              "\n",
              "    .dataframe tbody tr th {\n",
              "        vertical-align: top;\n",
              "    }\n",
              "\n",
              "    .dataframe thead th {\n",
              "        text-align: right;\n",
              "    }\n",
              "</style>\n",
              "<table border=\"1\" class=\"dataframe\">\n",
              "  <thead>\n",
              "    <tr style=\"text-align: right;\">\n",
              "      <th></th>\n",
              "      <th>TransactionId</th>\n",
              "      <th>BatchId</th>\n",
              "      <th>AccountId</th>\n",
              "      <th>SubscriptionId</th>\n",
              "      <th>CustomerId</th>\n",
              "      <th>ProviderId</th>\n",
              "      <th>ProductId</th>\n",
              "      <th>ProductCategory</th>\n",
              "      <th>ChannelId</th>\n",
              "      <th>Amount</th>\n",
              "      <th>Value</th>\n",
              "      <th>TransactionStartTime</th>\n",
              "      <th>PricingStrategy</th>\n",
              "      <th>FraudResult</th>\n",
              "    </tr>\n",
              "  </thead>\n",
              "  <tbody>\n",
              "    <tr>\n",
              "      <th>0</th>\n",
              "      <td>TransactionId_76871</td>\n",
              "      <td>46980</td>\n",
              "      <td>2490</td>\n",
              "      <td>3535</td>\n",
              "      <td>2584</td>\n",
              "      <td>5</td>\n",
              "      <td>1</td>\n",
              "      <td>0</td>\n",
              "      <td>2</td>\n",
              "      <td>1000.0</td>\n",
              "      <td>1000</td>\n",
              "      <td>2018-11-15T02:18:49Z</td>\n",
              "      <td>2</td>\n",
              "      <td>0</td>\n",
              "    </tr>\n",
              "    <tr>\n",
              "      <th>1</th>\n",
              "      <td>TransactionId_73770</td>\n",
              "      <td>31755</td>\n",
              "      <td>3219</td>\n",
              "      <td>2366</td>\n",
              "      <td>2584</td>\n",
              "      <td>3</td>\n",
              "      <td>19</td>\n",
              "      <td>2</td>\n",
              "      <td>1</td>\n",
              "      <td>-20.0</td>\n",
              "      <td>20</td>\n",
              "      <td>2018-11-15T02:19:08Z</td>\n",
              "      <td>2</td>\n",
              "      <td>0</td>\n",
              "    </tr>\n",
              "    <tr>\n",
              "      <th>2</th>\n",
              "      <td>TransactionId_26203</td>\n",
              "      <td>60272</td>\n",
              "      <td>2713</td>\n",
              "      <td>996</td>\n",
              "      <td>2806</td>\n",
              "      <td>5</td>\n",
              "      <td>0</td>\n",
              "      <td>0</td>\n",
              "      <td>2</td>\n",
              "      <td>500.0</td>\n",
              "      <td>500</td>\n",
              "      <td>2018-11-15T02:44:21Z</td>\n",
              "      <td>2</td>\n",
              "      <td>0</td>\n",
              "    </tr>\n",
              "    <tr>\n",
              "      <th>3</th>\n",
              "      <td>TransactionId_380</td>\n",
              "      <td>1797</td>\n",
              "      <td>3351</td>\n",
              "      <td>974</td>\n",
              "      <td>3733</td>\n",
              "      <td>0</td>\n",
              "      <td>11</td>\n",
              "      <td>8</td>\n",
              "      <td>2</td>\n",
              "      <td>20000.0</td>\n",
              "      <td>21800</td>\n",
              "      <td>2018-11-15T03:32:55Z</td>\n",
              "      <td>2</td>\n",
              "      <td>0</td>\n",
              "    </tr>\n",
              "    <tr>\n",
              "      <th>4</th>\n",
              "      <td>TransactionId_28195</td>\n",
              "      <td>48941</td>\n",
              "      <td>3219</td>\n",
              "      <td>2366</td>\n",
              "      <td>3733</td>\n",
              "      <td>3</td>\n",
              "      <td>19</td>\n",
              "      <td>2</td>\n",
              "      <td>1</td>\n",
              "      <td>-644.0</td>\n",
              "      <td>644</td>\n",
              "      <td>2018-11-15T03:34:21Z</td>\n",
              "      <td>2</td>\n",
              "      <td>0</td>\n",
              "    </tr>\n",
              "  </tbody>\n",
              "</table>\n",
              "</div>"
            ],
            "text/plain": [
              "         TransactionId  BatchId  ...  PricingStrategy  FraudResult\n",
              "0  TransactionId_76871    46980  ...                2            0\n",
              "1  TransactionId_73770    31755  ...                2            0\n",
              "2  TransactionId_26203    60272  ...                2            0\n",
              "3    TransactionId_380     1797  ...                2            0\n",
              "4  TransactionId_28195    48941  ...                2            0\n",
              "\n",
              "[5 rows x 14 columns]"
            ]
          },
          "metadata": {
            "tags": []
          },
          "execution_count": 24
        }
      ]
    },
    {
      "cell_type": "code",
      "metadata": {
        "id": "EcC9yTudkpds"
      },
      "source": [
        "#Extracting time and day from the TransactionStartTime column to create new features\n",
        "train['hour'] = pd.to_datetime(train.TransactionStartTime).dt.hour\n",
        "train['minute'] = pd.to_datetime(train.TransactionStartTime).dt.minute\n",
        "train['day'] = pd.to_datetime(train.TransactionStartTime).dt.dayofweek\n",
        "\n",
        "test['hour'] = pd.to_datetime(test.TransactionStartTime).dt.hour\n",
        "test['minute'] = pd.to_datetime(test.TransactionStartTime).dt.minute\n",
        "test['day'] = pd.to_datetime(test.TransactionStartTime).dt.dayofweek"
      ],
      "execution_count": 25,
      "outputs": []
    },
    {
      "cell_type": "code",
      "metadata": {
        "id": "cinMcj1okuUN"
      },
      "source": [
        "# dropping the transaction starttime column\n",
        "train = train.drop([\"TransactionStartTime\"], axis=1)\n",
        "test = test.drop([\"TransactionStartTime\"], axis=1)"
      ],
      "execution_count": 26,
      "outputs": []
    },
    {
      "cell_type": "code",
      "metadata": {
        "id": "DXKvUb6PJwrK",
        "outputId": "50233ba8-728a-405e-b4fe-8fe004ecbb68",
        "colab": {
          "base_uri": "https://localhost:8080/",
          "height": 215
        }
      },
      "source": [
        "train.head()"
      ],
      "execution_count": 27,
      "outputs": [
        {
          "output_type": "execute_result",
          "data": {
            "text/html": [
              "<div>\n",
              "<style scoped>\n",
              "    .dataframe tbody tr th:only-of-type {\n",
              "        vertical-align: middle;\n",
              "    }\n",
              "\n",
              "    .dataframe tbody tr th {\n",
              "        vertical-align: top;\n",
              "    }\n",
              "\n",
              "    .dataframe thead th {\n",
              "        text-align: right;\n",
              "    }\n",
              "</style>\n",
              "<table border=\"1\" class=\"dataframe\">\n",
              "  <thead>\n",
              "    <tr style=\"text-align: right;\">\n",
              "      <th></th>\n",
              "      <th>TransactionId</th>\n",
              "      <th>BatchId</th>\n",
              "      <th>AccountId</th>\n",
              "      <th>SubscriptionId</th>\n",
              "      <th>CustomerId</th>\n",
              "      <th>ProviderId</th>\n",
              "      <th>ProductId</th>\n",
              "      <th>ProductCategory</th>\n",
              "      <th>ChannelId</th>\n",
              "      <th>Amount</th>\n",
              "      <th>Value</th>\n",
              "      <th>PricingStrategy</th>\n",
              "      <th>FraudResult</th>\n",
              "      <th>hour</th>\n",
              "      <th>minute</th>\n",
              "      <th>day</th>\n",
              "    </tr>\n",
              "  </thead>\n",
              "  <tbody>\n",
              "    <tr>\n",
              "      <th>0</th>\n",
              "      <td>TransactionId_76871</td>\n",
              "      <td>46980</td>\n",
              "      <td>2490</td>\n",
              "      <td>3535</td>\n",
              "      <td>2584</td>\n",
              "      <td>5</td>\n",
              "      <td>1</td>\n",
              "      <td>0</td>\n",
              "      <td>2</td>\n",
              "      <td>1000.0</td>\n",
              "      <td>1000</td>\n",
              "      <td>2</td>\n",
              "      <td>0</td>\n",
              "      <td>2</td>\n",
              "      <td>18</td>\n",
              "      <td>3</td>\n",
              "    </tr>\n",
              "    <tr>\n",
              "      <th>1</th>\n",
              "      <td>TransactionId_73770</td>\n",
              "      <td>31755</td>\n",
              "      <td>3219</td>\n",
              "      <td>2366</td>\n",
              "      <td>2584</td>\n",
              "      <td>3</td>\n",
              "      <td>19</td>\n",
              "      <td>2</td>\n",
              "      <td>1</td>\n",
              "      <td>-20.0</td>\n",
              "      <td>20</td>\n",
              "      <td>2</td>\n",
              "      <td>0</td>\n",
              "      <td>2</td>\n",
              "      <td>19</td>\n",
              "      <td>3</td>\n",
              "    </tr>\n",
              "    <tr>\n",
              "      <th>2</th>\n",
              "      <td>TransactionId_26203</td>\n",
              "      <td>60272</td>\n",
              "      <td>2713</td>\n",
              "      <td>996</td>\n",
              "      <td>2806</td>\n",
              "      <td>5</td>\n",
              "      <td>0</td>\n",
              "      <td>0</td>\n",
              "      <td>2</td>\n",
              "      <td>500.0</td>\n",
              "      <td>500</td>\n",
              "      <td>2</td>\n",
              "      <td>0</td>\n",
              "      <td>2</td>\n",
              "      <td>44</td>\n",
              "      <td>3</td>\n",
              "    </tr>\n",
              "    <tr>\n",
              "      <th>3</th>\n",
              "      <td>TransactionId_380</td>\n",
              "      <td>1797</td>\n",
              "      <td>3351</td>\n",
              "      <td>974</td>\n",
              "      <td>3733</td>\n",
              "      <td>0</td>\n",
              "      <td>11</td>\n",
              "      <td>8</td>\n",
              "      <td>2</td>\n",
              "      <td>20000.0</td>\n",
              "      <td>21800</td>\n",
              "      <td>2</td>\n",
              "      <td>0</td>\n",
              "      <td>3</td>\n",
              "      <td>32</td>\n",
              "      <td>3</td>\n",
              "    </tr>\n",
              "    <tr>\n",
              "      <th>4</th>\n",
              "      <td>TransactionId_28195</td>\n",
              "      <td>48941</td>\n",
              "      <td>3219</td>\n",
              "      <td>2366</td>\n",
              "      <td>3733</td>\n",
              "      <td>3</td>\n",
              "      <td>19</td>\n",
              "      <td>2</td>\n",
              "      <td>1</td>\n",
              "      <td>-644.0</td>\n",
              "      <td>644</td>\n",
              "      <td>2</td>\n",
              "      <td>0</td>\n",
              "      <td>3</td>\n",
              "      <td>34</td>\n",
              "      <td>3</td>\n",
              "    </tr>\n",
              "  </tbody>\n",
              "</table>\n",
              "</div>"
            ],
            "text/plain": [
              "         TransactionId  BatchId  AccountId  ...  hour  minute  day\n",
              "0  TransactionId_76871    46980       2490  ...     2      18    3\n",
              "1  TransactionId_73770    31755       3219  ...     2      19    3\n",
              "2  TransactionId_26203    60272       2713  ...     2      44    3\n",
              "3    TransactionId_380     1797       3351  ...     3      32    3\n",
              "4  TransactionId_28195    48941       3219  ...     3      34    3\n",
              "\n",
              "[5 rows x 16 columns]"
            ]
          },
          "metadata": {
            "tags": []
          },
          "execution_count": 27
        }
      ]
    },
    {
      "cell_type": "code",
      "metadata": {
        "id": "PycU8wkdMb58"
      },
      "source": [
        "#corriger le probléme d'oversampling"
      ],
      "execution_count": 28,
      "outputs": []
    },
    {
      "cell_type": "code",
      "metadata": {
        "id": "6OWBw8BhR5Gs",
        "outputId": "dc7fac71-0991-4ae4-a618-af826dde4ad9",
        "colab": {
          "base_uri": "https://localhost:8080/",
          "height": 300
        }
      },
      "source": [
        "# visualize category class\n",
        "sns.countplot(x='FraudResult', data=train)"
      ],
      "execution_count": 29,
      "outputs": [
        {
          "output_type": "execute_result",
          "data": {
            "text/plain": [
              "<matplotlib.axes._subplots.AxesSubplot at 0x7f6d49ac9e10>"
            ]
          },
          "metadata": {
            "tags": []
          },
          "execution_count": 29
        },
        {
          "output_type": "display_data",
          "data": {
            "image/png": "[encoded data removed]",
            "text/plain": [
              "<Figure size 432x288 with 1 Axes>"
            ]
          },
          "metadata": {
            "tags": [],
            "needs_background": "light"
          }
        }
      ]
    },
    {
      "cell_type": "code",
      "metadata": {
        "id": "SnrUfn0WRYtx"
      },
      "source": [
        "from imblearn.over_sampling import SMOTE\n",
        "\n",
        "count_class_0, count_class_1 = train.FraudResult.value_counts()\n",
        "\n",
        "# divide by class\n",
        "train_class_0 = train[train['FraudResult'] == 0]\n",
        "train_class_1 = train[train['FraudResult'] == 1]"
      ],
      "execution_count": 30,
      "outputs": []
    },
    {
      "cell_type": "code",
      "metadata": {
        "id": "kZ4h50MoRn0s",
        "outputId": "3fcf71eb-40c2-4ce1-9ab5-6cf57ef7c5c2",
        "colab": {
          "base_uri": "https://localhost:8080/",
          "height": 346
        }
      },
      "source": [
        "train_class_1_over = train_class_1.sample(count_class_0, replace=True)\n",
        "train_test_over = pd.concat([train_class_0, train_class_1_over], axis=0)\n",
        "\n",
        "print('Random over-sampling:')\n",
        "print(train_test_over.FraudResult.value_counts())\n",
        "\n",
        "train_test_over.FraudResult.value_counts().plot(kind='bar', title='Count (FraudResult)');"
      ],
      "execution_count": 31,
      "outputs": [
        {
          "output_type": "stream",
          "text": [
            "Random over-sampling:\n",
            "1    95469\n",
            "0    95469\n",
            "Name: FraudResult, dtype: int64\n"
          ],
          "name": "stdout"
        },
        {
          "output_type": "display_data",
          "data": {
            "image/png": "[encoded data removed]",
            "text/plain": [
              "<Figure size 432x288 with 1 Axes>"
            ]
          },
          "metadata": {
            "tags": [],
            "needs_background": "light"
          }
        }
      ]
    },
    {
      "cell_type": "code",
      "metadata": {
        "id": "wiz8IanPSEKh"
      },
      "source": [
        "train1 = train_test_over "
      ],
      "execution_count": 32,
      "outputs": []
    },
    {
      "cell_type": "code",
      "metadata": {
        "id": "ah1kVzxgSPul",
        "outputId": "660a9e8b-35f2-4781-8d21-fd7b9b779ae8",
        "colab": {
          "base_uri": "https://localhost:8080/",
          "height": 215
        }
      },
      "source": [
        "train1.head()"
      ],
      "execution_count": 33,
      "outputs": [
        {
          "output_type": "execute_result",
          "data": {
            "text/html": [
              "<div>\n",
              "<style scoped>\n",
              "    .dataframe tbody tr th:only-of-type {\n",
              "        vertical-align: middle;\n",
              "    }\n",
              "\n",
              "    .dataframe tbody tr th {\n",
              "        vertical-align: top;\n",
              "    }\n",
              "\n",
              "    .dataframe thead th {\n",
              "        text-align: right;\n",
              "    }\n",
              "</style>\n",
              "<table border=\"1\" class=\"dataframe\">\n",
              "  <thead>\n",
              "    <tr style=\"text-align: right;\">\n",
              "      <th></th>\n",
              "      <th>TransactionId</th>\n",
              "      <th>BatchId</th>\n",
              "      <th>AccountId</th>\n",
              "      <th>SubscriptionId</th>\n",
              "      <th>CustomerId</th>\n",
              "      <th>ProviderId</th>\n",
              "      <th>ProductId</th>\n",
              "      <th>ProductCategory</th>\n",
              "      <th>ChannelId</th>\n",
              "      <th>Amount</th>\n",
              "      <th>Value</th>\n",
              "      <th>PricingStrategy</th>\n",
              "      <th>FraudResult</th>\n",
              "      <th>hour</th>\n",
              "      <th>minute</th>\n",
              "      <th>day</th>\n",
              "    </tr>\n",
              "  </thead>\n",
              "  <tbody>\n",
              "    <tr>\n",
              "      <th>0</th>\n",
              "      <td>TransactionId_76871</td>\n",
              "      <td>46980</td>\n",
              "      <td>2490</td>\n",
              "      <td>3535</td>\n",
              "      <td>2584</td>\n",
              "      <td>5</td>\n",
              "      <td>1</td>\n",
              "      <td>0</td>\n",
              "      <td>2</td>\n",
              "      <td>1000.0</td>\n",
              "      <td>1000</td>\n",
              "      <td>2</td>\n",
              "      <td>0</td>\n",
              "      <td>2</td>\n",
              "      <td>18</td>\n",
              "      <td>3</td>\n",
              "    </tr>\n",
              "    <tr>\n",
              "      <th>1</th>\n",
              "      <td>TransactionId_73770</td>\n",
              "      <td>31755</td>\n",
              "      <td>3219</td>\n",
              "      <td>2366</td>\n",
              "      <td>2584</td>\n",
              "      <td>3</td>\n",
              "      <td>19</td>\n",
              "      <td>2</td>\n",
              "      <td>1</td>\n",
              "      <td>-20.0</td>\n",
              "      <td>20</td>\n",
              "      <td>2</td>\n",
              "      <td>0</td>\n",
              "      <td>2</td>\n",
              "      <td>19</td>\n",
              "      <td>3</td>\n",
              "    </tr>\n",
              "    <tr>\n",
              "      <th>2</th>\n",
              "      <td>TransactionId_26203</td>\n",
              "      <td>60272</td>\n",
              "      <td>2713</td>\n",
              "      <td>996</td>\n",
              "      <td>2806</td>\n",
              "      <td>5</td>\n",
              "      <td>0</td>\n",
              "      <td>0</td>\n",
              "      <td>2</td>\n",
              "      <td>500.0</td>\n",
              "      <td>500</td>\n",
              "      <td>2</td>\n",
              "      <td>0</td>\n",
              "      <td>2</td>\n",
              "      <td>44</td>\n",
              "      <td>3</td>\n",
              "    </tr>\n",
              "    <tr>\n",
              "      <th>3</th>\n",
              "      <td>TransactionId_380</td>\n",
              "      <td>1797</td>\n",
              "      <td>3351</td>\n",
              "      <td>974</td>\n",
              "      <td>3733</td>\n",
              "      <td>0</td>\n",
              "      <td>11</td>\n",
              "      <td>8</td>\n",
              "      <td>2</td>\n",
              "      <td>20000.0</td>\n",
              "      <td>21800</td>\n",
              "      <td>2</td>\n",
              "      <td>0</td>\n",
              "      <td>3</td>\n",
              "      <td>32</td>\n",
              "      <td>3</td>\n",
              "    </tr>\n",
              "    <tr>\n",
              "      <th>4</th>\n",
              "      <td>TransactionId_28195</td>\n",
              "      <td>48941</td>\n",
              "      <td>3219</td>\n",
              "      <td>2366</td>\n",
              "      <td>3733</td>\n",
              "      <td>3</td>\n",
              "      <td>19</td>\n",
              "      <td>2</td>\n",
              "      <td>1</td>\n",
              "      <td>-644.0</td>\n",
              "      <td>644</td>\n",
              "      <td>2</td>\n",
              "      <td>0</td>\n",
              "      <td>3</td>\n",
              "      <td>34</td>\n",
              "      <td>3</td>\n",
              "    </tr>\n",
              "  </tbody>\n",
              "</table>\n",
              "</div>"
            ],
            "text/plain": [
              "         TransactionId  BatchId  AccountId  ...  hour  minute  day\n",
              "0  TransactionId_76871    46980       2490  ...     2      18    3\n",
              "1  TransactionId_73770    31755       3219  ...     2      19    3\n",
              "2  TransactionId_26203    60272       2713  ...     2      44    3\n",
              "3    TransactionId_380     1797       3351  ...     3      32    3\n",
              "4  TransactionId_28195    48941       3219  ...     3      34    3\n",
              "\n",
              "[5 rows x 16 columns]"
            ]
          },
          "metadata": {
            "tags": []
          },
          "execution_count": 33
        }
      ]
    },
    {
      "cell_type": "code",
      "metadata": {
        "id": "05_tvB3Iky-t"
      },
      "source": [
        "# dropping non-predictor feature columns and the target(train-set only)\n",
        "target = train1[\"FraudResult\"]\n",
        "train1 = train1.drop([\"FraudResult\",\"TransactionId\"], axis=1)\n",
        "\n",
        "# we need it for the Submission Creation\n",
        "test_id = test[\"TransactionId\"]\n",
        "test = test.drop([\"TransactionId\"], axis=1)"
      ],
      "execution_count": 34,
      "outputs": []
    },
    {
      "cell_type": "code",
      "metadata": {
        "id": "EvnK0tKelC7g"
      },
      "source": [
        "columns = train1.columns\n",
        "X = train1\n",
        "y = target\n",
        "\n",
        "X_train, X_val, y_train, y_val = train_test_split(X,y,stratify=y, test_size=0.25,\n",
        "                                                  random_state=17)"
      ],
      "execution_count": 35,
      "outputs": []
    },
    {
      "cell_type": "markdown",
      "metadata": {
        "id": "oqhOrPxMlJwO"
      },
      "source": [
        "# **Modeling**"
      ]
    },
    {
      "cell_type": "code",
      "metadata": {
        "id": "DiAJ2tfKlGxk"
      },
      "source": [
        "import lightgbm as lgb\n",
        "trn_data = lgb.Dataset(X_train, label=y_train)\n",
        "val_data = lgb.Dataset(X_val, label=y_val)"
      ],
      "execution_count": 63,
      "outputs": []
    },
    {
      "cell_type": "code",
      "metadata": {
        "id": "P8v5RNtClPHO",
        "outputId": "4c8587b2-cb21-4364-a626-2e0e8b7ec491",
        "colab": {
          "base_uri": "https://localhost:8080/"
        }
      },
      "source": [
        "%%time\n",
        "\n",
        "weight = 10\n",
        "param = { 'num_leaves': 80,\n",
        "    'boost': 'gbdt',\n",
        "    'learning_rate': 0.03,\n",
        "    'metric':'binary_logloss',\n",
        "    'scale_pos_weight': round(weight, 1),\n",
        "    \n",
        " \n",
        "    \n",
        "    'objective': 'binary',\n",
        "    'random_state': 42,\n",
        "    \n",
        "}\n",
        "\n",
        "lgb_model = lgb.train(param, trn_data, 5000, valid_sets = [trn_data, val_data], \n",
        "                      verbose_eval=200, early_stopping_rounds=200)"
      ],
      "execution_count": 64,
      "outputs": [
        {
          "output_type": "stream",
          "text": [
            "Training until validation scores don't improve for 200 rounds.\n",
            "[200]\ttraining's binary_logloss: 0.00224508\tvalid_1's binary_logloss: 0.00259173\n",
            "[400]\ttraining's binary_logloss: 2.62159e-05\tvalid_1's binary_logloss: 0.000696211\n",
            "[600]\ttraining's binary_logloss: 2.76083e-07\tvalid_1's binary_logloss: 0.000740144\n",
            "Early stopping, best iteration is:\n",
            "[433]\ttraining's binary_logloss: 1.19082e-05\tvalid_1's binary_logloss: 0.000673534\n",
            "CPU times: user 37.6 s, sys: 245 ms, total: 37.8 s\n",
            "Wall time: 19.5 s\n"
          ],
          "name": "stdout"
        }
      ]
    },
    {
      "cell_type": "code",
      "metadata": {
        "id": "nvB7jc6CljWV"
      },
      "source": [
        "# Validation - Performance\n",
        "pred = lgb_model.predict(X_val,num_iteration=lgb_model.best_iteration)"
      ],
      "execution_count": 65,
      "outputs": []
    },
    {
      "cell_type": "markdown",
      "metadata": {
        "id": "NuPDPxfcovpt"
      },
      "source": [
        "\n",
        "\n",
        "> Our Evaluation Metric is [F1-Score](https://medium.com/@kennymiyasato/classification-report-precision-recall-f1-score-accuracy-16a245a437a5) \n",
        "\n"
      ]
    },
    {
      "cell_type": "markdown",
      "metadata": {
        "id": "5vIG4jpsoRYu"
      },
      "source": [
        "![image.png](data:image/png;base64,iVBORw0KGgoAAAANSUhEUgAABDIAAAKXCAYAAABwqGpHAAAgAElEQVR4Aey9MYwt2ZGmR5NmYywC4xBYGTRWAM12BqBJZ6U2adAgDQEEKAg06dERRJMmTZpt0hHQJk06ghpyRHk02yR2dnZbKwkoIVjzz/tfvIiTJ/PmvTcz75dAMeJE/BHn5Je3q14Fb1V957/5b//7Nz5gwGuA1wCvAV4DvAZ4DfAa4DXAa4DXAK8BXgO8BngNnOE18J18yP/hf/yf3/63//3/fPuP//wvb1wQgMBxCMR/k/HfZvw3mv+7fdSazw/HeT1wEghAAAIQgAAEIAABCLwSAf9+6KNBxi/+p//llThwrxA4LYH4b/VRwwvtw+eH075cODgEIAABCEAAAhCAAAQuReCjQcbX/8f/damb42YgcFUC8d+qBgyPsnx+uOqrifuCAAQgAAEIQAACEIDAuQh8NMj4Z36c5FxPj9O+LIH4b/VRAwztw+eHl325ceMQgAAEIAABCEAAAhA4FIGPBhmHOhmHgQAEhgQ0YHiUHR6GJAQgAAEIQAACEIAABCAAgQcRYJDxINBsA4G9CTxqgKF99j4//SAAAQhAAAIQgAAEIAABCGwhwCBjCzVqIHAAAhowPMoe4JY5AgQgAAEIQAACEIAABCAAgTcGGbwIIHBSAo8aYGifk2Li2BCAAAQgAAEIQAACEIDAxQgwyLjYA+V2XoeABgyPsq9DljuFAAQgAAEIQAACEIAABI5M4N8GGf/u3/93Rz4nZ4MABBKB+G/2UUMMPj8k+CwhAAEIQAACEIAABCAAgacR+PsgI75J4RuVpz0DNobAJgL67/bewwzts+mQFEEAAhCAAAQgAAEIQAACENiZAIOMnYHSDgKPIqABA4OMRxFnHwhAAAIQgAAEIAABCEDgCAS+o2+GwnJBAALnIeD/7d5rmOF7nIcMJ4UABCAAAQhAAAIQgAAErkyAQcaVny73dmkCPmQIf+9hRu5/aZjcHAQgAAEIQAACEIAABCBwGgIMMk7zqDgoBD4mkAcNDDI+5sMKAhCAAAQgAAEIQAACELgmAQYZ13yu3NULEMiDjD3flVH1fgGk3CIEIAABCEAAAhCAAAQgcAICDDJO8JA4IgQqAtWwYa93ZVS9qzMQgwAEIAABCEAAAhCAAAQg8GgCDDIeTZz9ILATgWrYwCBjJ7i0gQAEIAABCEAAAhCAAAQOS4BBxmEfDQeDwJhANciI2K3DjK7v+DRkIQABCEAAAhCAAAQgAAEIPIYAg4zHcGYXCOxOoBs4MMjYHTUNIQABCEAAAhCAAAQgAIEDEbBBxn840LE4CgQgsETg3/37//BWDTPuM8jg88PS8yAPAQhAAAIQgAAEIAABCDyGAIOMx3BmFwjsToBBxu5IaQgBCEAAAhCAAAQgAAEInIAAg4wTPCSOCIGKAIOMigoxCEAAAhCAAAQgAAEIQODqBBhkXP0Jc3+XJdANMm75hZ/Vj6q8x/jRksu+kLgxCEAAAhCAAAQgAAEInIwAg4yTPTCOCwERYJAhElgIQAACEIAABCAAAQhA4JUI/OsgI35pIP+P6ys9eO71/ATeBxn7/sLP+h0ZfH44/6uFO4AABCAAAQhAAAIQgMB1CDDIuM6z5E5ejACDjBd74NwuBCAAAQhAAAIQgAAEIPB3AgwyeCFA4KQEGGSc9MFxbAhAAAIQgAAEIAABCEDgJgIMMm7CRzEEnkeAQcbz2LMzBCAAAQhAAAIQgAAEIPA8AgwynseenSFwEwEGGTfhoxgCEIAABCAAAQhAAAIQOCkBBhknfXAcGwIMMngNQAACEIAABCAAAQhAAAKvSIBBxis+de75EgQYZFziMXITEIAABCAAAQhAAAIQgMBKAgwyVgJDDoGjEGCQcZQnwTkgAAEIQAACEIAABCAAgUcSYJDxSNrsBYEdCTDI2BEmrSAAAQhAAAIQgAAEIACB0xA4xCDjH/7xn966j6OS1Hn3Ot/e/fY6F32OS+Dqg4yf/vyXb7MfekrSa409BoG9n4v6hX30pb2X9p3VLfV5pfwss1ndnuzuvee9+wcL7VHZjlVoubYREOel6lmd99lS4/Wv5ItV2CNffs6tZ91atycX3cdMT2nXnFs16p/Xit/TrjnvPc8RvY90lnvfa9X/MIOM6nBH/ub+lrNFbb5u6Zd7sX4NAlcfZFRPcekT9jO+oFXnfIXY0rNwBns+lz17+Rkrv7rH2f1nddW+rxCbZTuruzezPZ/ns+6p2rfjpvtdU9P1etW4GC7d/6zO+2yp8fpX8c/CqTpnFRs9t9D7ldeem/G31s+ee1aXz5rr8jrr77GOPWevNdrZnqHTfd+r/5qzPFN76EGGwFTf+Ct3Rnu1+znjM7jCmRlkfPoU9Yn90wyRvQk864vnI/et9uI1ts8rqWJbdZ7VVbVHjVX39IjXVbVvxcjPMltT9Xn1mHPcm8U9e+991mf2O8vrtztnF6+YZm1eVzWj2Nb6qJupndGMzqfc7H7S72HX7LnXffq5ff979Pe9ju6fZpBxpW/+r3QvR3+BX/l8DDI+fbr+yf3TLJE9CTzri+cj96324jW2z6uoYlt1ntVVtUeNVff0iNdVte8Soy01Sz1fJX/PZ3rP3ld6Pmd4/Y7OOMrl55S1eZ31S+ut9VE3UzujWTpj5Gf3m+m1RjN7/lndmr1de+/+vtcR/VMMMgJc9c1/xPwjA/ac/KxRb+XD+qW467Kf16rpenleGsV8b++7lM/a3If19QgwyPj0mfoXNPmjT/KuGenyTqM65aJmxldvaWUVl/W4+8q7VT5babq48mE7TY5r7TUjf2YP18jXPtkqH3aU83z2vYfnqn6KZV3Xw+Oqdev5ke814VfXkibntVYvrWUVD+sx+WG7yzWuy3GtR3tIoz5a570Vl+3yvpd6Zm1eVz0Vc5vrfO0690OjtfsR6y7pZTudx0f9XOf+1hqdS9Z7yldOVnG3ysl6LnyPuy+dYrKKz9qoq66ZuO8pv6pTLu+juKznPSY/7MwlfWjdV61isopnvfJhu8s10sl6TaUb5aseS3rVaK/Qu696xWQVl1U82y6veGejz+hayketa/K5tPY9FJMd5WY0Vb3H3Fe/bEeaKqeY+vhavttKF7G4cs5jVU75vxc3/6O6bF0+yrlu5EePV75OO8jQAMAfnseqb/y7mPcIv+rjMWk8pt4eq3SKhfVL9Tnm6/C7/lU817K+FgEGGZ8+T/+i4NnqE/1szPuEv1Q3OoNya3tq366+6tedM8fzWntVPT3W1UU857qY9+v2ndXkPat+OkelzftU9Yqpj9fknlmT197L+1R+7q1a185qOl2OV+uIdfEtZ/Ea3VPV/xad1+r8M3t4XXU29XJdFfO8/Ly/98+5vJZWvWQrnXKyMxppZdfWhD7XdDHtIVvVKSdbaar+oc/aLqbela16qE+V81j4+vDerul6ZY106qO+WZfX0rsd1eZ6aVWvdaWTRjZrIq56aRTzdY51NVX/UR/l1K+qn4mpXv1kq3jVT3rZJc1SPvpUmiq2RlvVRyzHcyyvdZ/Z5j46W47nfmvX2rery/vpHKqTzbq8li7bTlfFq1jul9dbanKPM69POcjI37TrAXjcfeWzndVUuoh5PK99L9dFPK8V87j7uZfnwve1tF1ceez5CTDI+PQZxif06pN6jlea6NbFtVOX93j4vvbaLi6N29wnr12b/U5b7R+1Hnff++Z4XqvPTLzS+F4jv6qtYtV5Qtdpqz0rbdcjx6t1tcdSrDpDruk01RkqbRWLPTyee/kZss5z8l2Te7tmiy7XdP1CV2m7uProvF7rvutm/Kq2O0OOV7U639Le6lXZrrbb7xb9TM9Oo7Nr/7z2uHy3XV/XuF/pFZPt9JHvNB7POs95b/dzjXJdXPmwM5qs17qrzfFYV9caneq7XsqPbFWbz6D6Shu5rM/rmXppKtvtK+1SPnSVZjam+qzPa52nsq4N39eVXnt2uRz3frn/0lq91uhU49bPEPG8dq37la6KqWeX857ur9V77RX8Sw0y4oHom/qZb+SlHT3Irk+O57X3zPvktc7tcfe9l7SKha7TdnHVYs9NgEHGp88vPqF3n9Q97n7ucmsu6qseo3g+g9bep6uX1m2n9X5Zr3Wnibzn3PfamXilUY8lW9VWMfXxXPi+lqazlXbUw/VZl9fdnjnuPXNO65HGc90ZXKOeYT3e1VY67+F+7uc59XGNYku6XON6z4Xv607ncfm5Nq+lm7HVGUb9XO9+3muUC+1SPvfbUhN7LO2zlF/a1+u7/VyT72uUy9rqLKqXVU21zrFKGxrXuS99trnG80v1o1rvI9/7jWqzTvXZrtWN9sy989r3Uq7rV2m9xv1KW8Wipot7P/mVXarv9qjqqpj2zLm8lq6yrg3f15U+YjMa1bo2919ae49RH9fJzzbX53y19hrlq9hMThq3o16uu6p/2kGGvoGvrD8sz3s8/Jlv9FVf1Xp9p6v28Tr1zfWVxrXud9ourlrsuQkwyPj0+cUn9O6Tusel6+ynnd8jnV7xULnvfUZx17kfNbq6euXddlrvl/Vaq7azrpMvqxqtZXM81luvqraKqb/nwve1NJ2ttKMeru90iru22z/iM7qRxnPh+1r7VrG8d1fb6aTPdrSntNLk3opnXay7y3O5zmtc53H5Xa3iS/XqE7bSqo/r5Lteus6qprLep8pXsS010cfPl/vO9BxpPKd9qj2Uq2zWj9Z5P9cu5Tw/qnOd+17jfmg6XRdX/VKt8m5na10nP1s/n+9R+V7reY+PfN9LOvXRWrbSVrm19aO+0f/WfNej6lvFqnvseioeffKH9xnt4zr5bnNfraVZu56tyzrtk63r5I9s1Oerikkzyknjdq3ea6/gn2KQseab/NFDyd/Y53VVm/eWJsfzWrqweZ+8lsbj7nsvaRULXaft4qrFnpsAg4xPn198Qu8+qXvc/U+79JGZutBUulG829H7dPVVbaf1fl7ncfddk/1KF7GZeKXJ/bt1VVvFVO+58H0tTWcr7aiH60c67ed6xbK9VeP13Zlc4/t7vKsNfdZ5j873GmmqPWZ0lcZ7ut9pu/hMrWvkj2y1V8SqePTxuPujParcltotNXnv3COvsz7WI43nwve1elUx5dZa3yP39bX7uocc094eDz+vpetsrnGd9/K4/K52FF+qjbzv675qZT3nvvIzdrau0kWsi3d7u35tvddW/Uf5Uc57VbrZmPpkfV6HLmJd3PtUGuVlK82W/rkmr30/33OkU83Ieq+1ulHtKFfts1Zf9Thz7DSDDId8yzfoXuu+93c/NJUux/M69xitI5frqz073Ujr++JfiwCDjE+fZ3xC7z6pe9z9T7v0kZm60FS6UbzaMevzuqpRrNNGvLo87n6lVazSRWwmXmnUd8lWtVUs+kTcc3m9dS/v6T08PruX13gv+Uv50HWafIa8XtrD+3a1eX+vUf/KVrpqjxldpdG5PFf119lcp5jbUW3W+bryq71G/V3vftV7FNtSu6WmOoP3cb/SRqzTRNxzea1+rlHsFqt+suqltaziYSNWxZWTNuu6GulV3+m6uOrzfh6X79b7dbWhzzrvIT/Xe400s3amttLkM2i/Shu5rM/rmXppOjvau6vxeFU/G4s+1T2trdd5ql7Kud2rf94vr7Vnjue16+SPbNTPXJWuikWv7kyjfbpeo5or5Q49yMjf3Dv46pt313d57xH+ks57em2Oa537KZ5rfa1zVLWVzmNVf+VzP8Wx1yDAIOPT5zj6IpA/2ed1dBvVa7eluq5HF9e+6i+b9xnVq0a20+aerpcfttLlnjMa9cy1oz1U09lq39l+1Tm6fUY9Z86Q96pqqlh1nkqXY3ldnT80MzqdwbWq9Zj2qGLqIat6X8uXzZqI596K5XheS6feWlc65Vyb/ajzWvelrWLKua10EaviUZfjeS1NFV/a1/OVv9Qz11T6rbGZutBUujhXFXe9+/k+8nqk7XJdPJ+t0kUsXx6raqR3nWJuu9oqnmN5nfuO1pGr6iOWL9d1+VxTrbvaKh71VTzHYp1jXe0o7uetelYxr3H/1vPM1ldnyrG89nO63+2Z47nf0jr26Hp4PPdZezbv5bXZ73RVvIrlfnm9pSb3OPP6MIMMfUOe7QjuknYpr94jnXLSyua4r+WH7a6s0TrrFZft8jke66jhui4BBhmfPtv4hN59Uq/i0st+2rGOSC/rqioW+S6uWuVlFZft4sq77bQRr64qrh6yXZ3n3Xf9UrzLew/5oe0u9ZHNui6edb5WTdi4tHaNfGk6nWplVTdjVSNb1SgnmzWjeNbGOvS6vFa+56WTdU2nc03Uaa0esoqrj9bKyyouq7hsF4985EZXVauY7Kg+51QTNi6ts065HJdeNuertfaqch5Tz8q6rvNz3S26pV7Kb9ljqTb3DH11jeKjnHp151BcVvqwVUz5yI2upVrl1Ud2y77eS31k/YyVbk3ete6P9nKd+7Nn8Zrwq71G8are9875pXW1f9fP41Wd9nJdFVOtbGhUI31nvcY1qpdVT2k8rlzVSzrltO76KC4rvazisuqr9ciqR67xeM7N9tvaY9T/TLlDDDLOBKw7azdo6PTEIXArgVccZNzKjHoIQGAbAf1jaVs1VRA4JoE13zwc8w7OdyqY3+eZwfU+XKuufD2sqDwnxiBjJ+4MMnYCSZtpAgwyplEhhAAEbiTAP9xuBEj54Qjwjd/9Hkn3+QLm92V+v+50dgK8jp3Gc30GGTvxZ5CxE0jaTBNgkDGNCiEEIHAjge4bkxvbUg4BCFyUgD5nuL3orR7mtvgG+zGPAs6P4TyzC4OMGUpoIHBAAgwyDvhQOBIEIAABCEAAAhCAAAQgcHcCDDLujpgNIHAfAgwy7sOVrhCAAAQgAAEIQAACEIDAsQkwyDj28+F0EGgJMMho0ZCAAAQgAAEIQAACEIAABC5MgEHGhR8ut3ZtAgwyrv18uTsIQAACEIAABCAAAQhAoCbAIKPmQhQChyfAIOPwj4gDQgACEIAABCAAAQhAAAJ3IMAg4w5QaQmBRxBgkPEIyuwBAQhAAAIQgAAEIAABCByNwHf+07/817d//k//99t//Odvj3Y2zgMBCAwIxH+z8d9u/Df8L//5//n7x3/+L//vW3z8l2//v00fqlc/Pj8MHgApCEAAAhCAAAQgAAEIQOApBBhkPAU7m0LgdgIMMm5nSAcIQAACEIAABCAAAQhA4HwEGGSc75lxYgj8nQCDDF4IEIAABCAAAQhAAAIQgMArEmCQ8YpPnXu+BAEGGZd4jNwEBCAAAQhAAAIQgAAEILCSAIOMlcCQQ+AoBBhkHOVJcA4IQAACEIAABCAAAQhA4JEEGGQ8kjZ7QWBHAq82yPjpz3+5I731rWJ/fayvfr2KW57XTO2M5szUj/BaO8IZzvwMr3T2M70W7vW54d4M7t3/Sq/Hs9/L2tcor42zP3HOfy8CDDLuRZa+ELgzgVcaZKz9or83+nv/I+LZ97c3r+h3yz3N1M5o7nFf9+hZ3UvEqvg99u96HuEM3dmIP5bAnq+Fe72udcY9+lc91P9e5PfuX91DnL2L3+u+6PspgbXPYO/XxqcnIgKBcxJgkHHO58apIfD3P5n8Kn9+de0X/b1fHvfe/9799+Yx0++Wf3jN8JjRzJzzCJrqXm7ht9c9HeEMe90LfY5DoHq933o6f63u0b/q4Xvcet6qfu/+1T3Evl28OhOx+xBY+wz2fm3c567oCoHHE2CQ8Xjm7AiBXQjwjoxdME41WfuPjqmmJrp3f9vqoe7W+5qpm9E89GZv2Ky6l4hV8Ru2WV16hDOsPjQFhydw79f1Hv2rHvf+72Hv/tU9xIujix/+hXOhA659Bnu/Ni6Eklt5cQIMMl78BcDtn5fAqwwyui/4/oVdfqeNp+yarFPOde4rL+uvGsVkPSdfOdkunvPSuZXGreflez786lrSKB+17quXYrKKy0Z8yzVT12l0Flnf32Pyw3aXazrdjGa2v3qFvvK7M7je67p9PS69bJXzWPjSyuZ8pQltdamHrGs85r5rwo/c6Mp59ZLNtVmvfNb72n3ps5XGbdbE2vPhV9eSRnnv532Ul/Vc5Vc6xdxWtYq5zn3lw3o8/C3X1rpqf53Hc+6P9lKt7NK9uE6+bFWrnKw0Ws9a1YXNNVXOdZ6XHz1GV86P9ow+Wa/eqqvWOSeNrPLZdnnF3Xa1rgm/0kUsX5VOGuW0xkIAAu8EGGTwSoDASQkwyKh/+Wb1Bb/7R4MevWoqXWjWxLM2r6t+lUZncxu6rO1iXje7Z9c7x6t+Vayqy+eq1jN1lWYpFnl9+L5LddJmXV6HroqpvrNVTcT04XWd1jXhV7oZjddt3b+r897dGV2jPh7L96B1p8nxvK7OEZpO53HpPKbzZCutx7uYa8LP/fO601T9K20Xi7iu3CuvQ1fFVO82dNVVxatYVeuxLTVeH37VI2L6cH2ndU3X0zXqnfspnrW+rvrnPtKvibtW5/CYembbaXI8r7v76HQeD18f+Tx53emqeMTydWss1+d17Oex8H2dz8MaAq9KgEHGqz557vv0BBhk9F/Y/Qu++/7QPR6+r10XfpWrYlnbaWb6Z03uXeVv1cR5/cx5rT1do1i1d6fzmsrXvkvWa7u9PK5+Xhd+jntN1mrdabq46ipb1URsJl5pYo8urv2X8urhOvfVZ40u1/havu8Rvq+lqWyn87j73iPinstraXM8r6WrrPev8hG7RZPPktfas9uji3uda9yXZtZWtVUs+kW8y3X7rdVXfaoe3VlyvKrVvVR7KZb7KJ5rZ/vP6nL/0b5dT69Z0y/Xqdb3Cd/XqsnxvJausp222kdnUp+RxnPuq1a9POd+1mkdmk4nDRYCr0iAQcYrPnXu+RIEGGT0X9j9C777+cErF1Z+1sS6ylUx1Sonq3hn1+iWtEv57n50Nq8P39eVRjFZ17uv/IydqcuavPZ9lAsr3/Phe9z9rNN6pBnlVO+20kesikedx933nlm3JidtPsPsXrlO/dzO9JrpM+qZ62f2jH65TnvkeF5LV9kZbWiWrpHGc91+rsl7LeU83/XPPau191G+is3kpHE76uW6kV/1iFgVjz4edz/vsZTr8h53f9S/01XxKqbeyoWVr9zIZm2uz3nv5blcJ12O57V0le20Ea8uj7uftZ5z/1Zd9Br1y/1ZQ+BVCDDIeJUnzX1ejgCDjP4Lu3/B1z8AOhsvDOW6F4n3k0Y1nVVf6Ue26r+k175ZN9NrpPHcaA/lKqszeS/FZuxMXdZU5/BY7Kt1dQbv536l9V7qmW1XV8Wr/dRvSS9dZ6v6iFV7Zq16Kj6qqXKqX8q5Tr7OWNXqPNlm7dLa610bvq+ly/G8lm5kVdP1H9VGrqpTjee0j3KyindWumyl7+KRn70qbRVTv1FOGrdr9V4rv+oRsSoeNR6XrrPaI1vpc3xrfz+T96zi2ruzOkNV673dz9qldVerM3k+/BzP66z3daeNeHV53P2s9Zz7S7rQdh9Rq1zuwxoCr06AQcarvwK4/9MSYJAx/4/KpYe89I+EyOerim3RRM1Mr9xb61yb19K5HWk8F76v1aOKKed2Vuc14c/UZU1e557q2+k87n7VR7263Np4tV/Eqnjeu9MsnWGmLp9hVDPK5TNX6+q8ef9Kk2N+DveX9nRtt2+O53U+y9La91w6n3rlGsVzfXe2Ub33yn7Xz3WzvStdFVPvUU4at2v1Xiu/6hGxKh41Hndf/Wbs3v27c1TxKpbPPDpf1mrtfd2PfF6rJue6fXM8r71f9jttxKvL4+5nrefc36pTXfQa9ZMOC4FXI8Ag49WeOPd7GQIMMvov7P4F3/3u4S/9I6HqUcVy/xlN1Mzqcn+tvd595bPtNBH3XF6rj2sUq+ysLtfO1GVNXueesQ5Np/O4+1Uf9epya+PVfhGr4nnvTrN0hpm6fIauJuu6vb3e/ZF+Ruf10stWOY+FH1rX57X0OZ7X0q2xed+lWte7Np8lr6Xt6pXvbNcv62f6V5oqFr1n9/VzdL1cs+RXPUZncb37S/t4fu/+3TmqeBXzs4U/Ol/Waq2+soqrn6/l533yeq1Oerejnq6T7+d3X/mwueetulFvz+FD4JUJMMh45afPvZ+aAIOM928+8j8W8j8m4iFnjWKKVzX+4pDOY+pRxVzvvrQ5ltfSZVvptsZm6kJT6eJcVTzrsybn8/1pnesUd1tpupjiYeV7r/BzPK/XaFQbVn7ez9eVZlSb9Xmts1bxmX2lqc5Q9cyxvNZ51Fe20ykeVr5qZuyoruo3E1NP1yo2e6as817KzcRmNZUu9qniEavifi7Pu+8a+SNb1Ya+ilexUe+uj2qi30zPSjOqzfq81rmqeD5b1sS6iqlONutyjevku6303tN9r1vyR3Xdnrln1qmnxxXLtdW603o/r8vxvA7tmljW5rX6KR5Wfs75OfEh8GoEGGS82hPnfi9D4FUGGfHA/Au4HqB/YZdf6bJeWsXVf6nW9e6rn6zn5Csnq7hb5cKOLteNtDO6JY3y3XmUl826iPvV6VwTfq7L+ZFGe8h6bRVTvtpTellp3SonW+U81vmqDxuX1pVeGs9JL+u5kS+9rGurWOQVl/Ua+crJKp6t8rKer2Ke7/yoG13qK9tplVc/raXPa8U7K73sLTr1kM29urh0yssq3tlKp5hsV1vFVRPWL4/nnOuyn+t87VrFPdb50oaNS+tKL43npJf1XOW7Tn7Y7nJNp3ON95mJ556q8T4zfu6Ta9RXNue1Vl79tM55rUc210qr3lrLVnH1kJU2W+VlIx9+vpSX9XyO5bVr8SHwSgQYZLzS0+ZeL0WAQcbH/w/FpR7uBW6Gf2i9P8TgwPVYAjB/LO+z7cbr47FPDN6P5c1uEHglAgwyXulpc6+XIsAgg0HGkV/Q/OO1/n/djvzMrnA2XndXeIr3uwdeH/djW3WGd0WFGAQgsBcBBlRPmdUAACAASURBVBl7kaQPBB5M4JUGGYE2/4Mo1jn24EfAdgMCPJsBHFJ3I8Dr7m5oaQyB1QT473E1MgogAIEVBBhkrICFFAJHIvBqg4wjsecsEIAABCAAAQhAAAIQgMDzCDDIeB57dobATQQYZNyEj2IIQAACEIAABCAAAQhA4KQEGGSc9MFxbAgwyOA1AAEIQAACEIAABCAAAQi8IgEGGa/41LnnSxBgkHGJx8hNQAACEIAABCAAAQhAAAIrCTDIWAkMOQSOQoBBxlGeBOeAAAQgAAEIQAACEIAABB5JgEHGI2mzFwR2JMAgY0eYtIIABCAAAQhAAAIQgAAETkOAQcZpHhUHhcDHBBhkfMyDFQQgAAEIQAACEIAABCDwGgQYZLzGc+YuL0iAQcYFHyq3BAEIQAACEIAABCAAAQgsEmCQsYgIAQSOSYBBxjGfC6eCAAQgAAEIQAACEIAABO5LgEHGffnSHQJ3I8Ag425oaQwBCEAAAhCAAAQgAAEIHJgAg4wDPxyOBoERAQYZIzrkIAABCEAAAhCAAAQgAIGrEmCQcdUny31dngCDjMs/Ym4QAhCAAAQgAAEIQAACECgIHGKQ8Q//+E9v3Udx5qmQ+k2JEUHghAQYZJzwoXFkCEAAAhCAAAQgAAEIQOBmAocZZHR3EgOJLReDjC3UqDkTAQYZZ3panBUCEIAABCAAAQhAAAIQ2IvA4QcZcaNbhhkMMvZ6idDnqAQYZBz1yXAuCEAAAhCAAAQgAAEIQOCeBBhk3JMuvSFwRwIMMu4Il9YQgAAEIAABCEAAAhCAwGEJnG6Q0b07I78DI6/1BBSXVVxWcbfKYSFwJAIMMo70NDgLBCAAAQhAAAIQgAAEIPAoAocfZMRAwS8NGDwWfo7ntTRVnWJdTcS5IHA0AgwyjvZEOA8EIAABCEAAAhCAAAQg8AgChxlkaIiQbYag/FI862JdXR53v9ISg8CRCDDIONLT4CwQgAAEIAABCEAAAhCAwKMIHGaQkW+4GypEvMrleLXOe2itfrlGeSwEjkiAQcYRnwpnggAEIAABCEAAAhCAAATuTeCwg4y4cQ0YHEI3bMjxbq14ttUeoeGCwFEJMMg46pPhXBCAAAQgAAEIQAACEIDAPQkcfpCRhwkaQGQoOV6tc83MOu8/U4MGAo8gwCDjEZTZAwIQgAAEIAABCEAAAhA4GoFDDzICVh4k5AGFgOZ4tZZ2rc1nWFuPHgL3IMAg4x5U6QkBCEAAAhCAAAQgAAEIHJ3A4QcZATAPEqp1NbiodPmBeF3WV3vnetYQeBYBBhnPIs++EIAABCAAAQhAAAIQgMAzCZxykBHANIDQ8EFrwczrHN+aVx8sBJ5NgEHGs58A+0MAAhCAAAQgAAEIQAACzyBwiEHGM26cPSFwdgIMMs7+BDec/89/fnuLDy4IQAACEIAABCAAAQi8MAEGGS/88Ln1cxNgkHHu59ee/ttv397+9Ke3t9/+9u3tJz95e/vBD97evvOdjz9+//u2nAQEIAABCEAAAhCAAASuToBBxtWfMPd3WQIMMi7waP/yl/ehxW9+8/b2s5/VQwsNMb73vbe3H/3o7e2LL97eoo4LAhCAAAQgAAEIQAACL0qAQcaLPnhu+/wEGGSc4BnGj4HEuytiUBEfMYSIYUQMJTSgyDbegRFDjXhHRtR+880JbpQjQgACEIAABCAAAQhA4HEEGGQ8jjU7QWBXAgwydsW5rdlf//o+bIgf9fBBxWef9YMKDS5++MP3ocavf/329rvfvff529+2nYMqCEAAAhCAAAQgAAEIvBABBhkv9LC51WsRYJDxoOcZw4qvvnofVPzqV+/Dh+r3VmhAIRuaePdF1MSQ449/ZFjxoEfGNhCAAAQgAAEIQAAC1ybAIOPaz5e7uzABBhl3eLjxYxwaWvz4x29vo3dWfPe774OK+HGRGFTEuzLiR0Fi8MEFAQhAAAIQgAAEIAABCNyNAIOMu6GlMQTuS4BBxr/y1S/MjCHC7MeXX378DovPP+9/FCRyv/jFuz6GHLEHFwQgAAEIQAACEIAABCDwNAIMMp6Gno0hcBuBQw8y4l0Jf/jD+58PjR+vyB96F0O8kyE+8gAiftFlxOPPj0Zt/D4J/cjGvWy8+0I/ChJnj1/UyQUBCEAAAhCAAAQgAAEIHI4Ag4zDPRIOBIE5AocdZMSPWNxr2OB99Tso8pBkaR3DkRiS6Bdsfv31HHBUEIAABCAAAQhAAAIQgMAhCDDIOMRj4BAQWE/gkIOM+NGLGDbE74+Iv8ahH8XI77iIdbzrQe/ICBsDiPi9FIrpd06E9ttv1wOiAgIQgAAEIAABCEAAAhC4JAEGGZd8rNzUKxA45CAj/kJHDDJiCMEFAQhAAAIQgAAEIAABCEDgDgQYZNwBKi0h8AgChxxkxO+2iEFG/HJMLghAAAIQgAAEIAABCEAAAncgwCDjDlBpCYFHEDjkICP+fGn8WEkMM+KviXBBAAIQgAAEIAABCEAAAhDYmQCDjJ2B0g4CjyJwyEFG3Lx+vCR+18WN109//su3pY9qC9VUuVFMddmOas6Wi3s7+uX8j35WzndfAnot3HeX43afvf9Z3SPv9FFnetQ+92S35R621NzzHvbsHfd29Cvzz+vZ82+91637zZ5rSffs/ZfOt3f+1e53b3736scg415k6QuBOxM47CAj/gpIvCMj/sTqjZe+cIysb5F1nlvyc21eL9WfIe/3dNTz6oxHPR/nuh+BePb52vv1UO2R9zzSevb+Z3WPvLd7nKl6fvfY55GcYq8t97Cl5tH3tXW/6jlv7XWvusw/r2f3zfea112frft1/dbGn73/2vPeqn+1+72V16PqGWQ8ijT7QGBnAocdZMR9xo+XfPbZzXe85guHtG5nD6CaSj/KVfojx+Je4pI94lmPfLYj8rrSmapnH7EqvvW+9+y19Qxr6va+/zV736q9x9mr53ePfW69d+pvI1A959s67l+dX3d5Pbtjvte8nu3zaN3W+330Odnv2gQYZFz7+XJ3FyZw6EFG/BnVeFdG/OnUG641Xyhd6/7M9mv1Mz2PqIn7jEv2yGc84tk4030JVK/Lvf/brPa4713d1n3v+7/tNOuq73H26vndY591d4p6bwLVc957j1v75dddXs/2z/ea17N9Hq3ber+PPif7XZsAg4xrP1/u7sIEDj3IiD+/GoOM+H0ZN1xbv1CurduqV52s36pi2c5qcl2s/VLeYyO/qh/pPed7yc/9Kr20VS5inpefbVUrjee6fh5XnazqtZZV3K1yslUuYsqH7S7XdLoZTe6fa27pnXt1e0VcWtcoJuu57EuTbe7t+dxDa9eEryvHtVa+s9LJVjrlZLNG8Wyl6+KRV859j+Ue1Vr6sN3lmkqX85Um91ZNxOXLZu2SRnXZep37oZu51G+pttJ5f+VlPSdfOVnFw45iyoX1S3GPea+lfNbmPqO1esu61mPyw3aXa6STXaqJvOpdq5is5+QrJ6u4W+Vkq5xilUa5kY26uFSfbVcrnecVc+v5ke814S9d0odO/qjONVmnnPdyX3lZnU1rWcXdKifrufA9Lj9svpTr4l1+SZ/rtJbN9bFWTnatxuvkhz3jxSDjjE+NM0Pg7e3t0IOM+IslMcj4/PObnpU+wa5tsrZOetnRftJUVnVVzmMjXeRcm/1cq/WSjT5+5bXnsu9n8JziOebr8H0v1XjM9WviWdv1Vtz30bmqHq6ranNM66Ve2tP7V7Hcp9JUPXKdzuXarKl6z2qq/lW/Lubn6jTaI5+pWs/G8r7dOverzjir6XQ5Xq0j1sV19qzRuqpTjWzW5PtUL+mVr+oqTdZ1/bxWe8zGZntW/bpaP7c0HlOvmdiSRv29Z66Z1aiHbNeniqums/kMocsxrWf6Z03VrzpLt4fqc03eJ69znfp7nxxbWnvtyM9nyeuudmb/rKl6VZoqlmulCetXtV6KjXrl2thL+tG+0rmmiqlX3qdaV7Gl/lU+99G5cjyvpat6KhY1uS7HtK506nMWyyDjLE+Kc0IgETj0ICPOGr8j48bfk+GfbDs/Yfn7Utoq18VUk23WK1/FFRtpIqdLOo9FTnHpZLu48p3N/aXr4srLjvb1Hu6rNqzHR72yVj28XjFpPdf1HsW9n3zvqVi2rhn1z7rcJ69d77kuLs1SPnS3aKLW6/N66RxeK222lWa0T6Vf6jlTEz1mdJ0m4p7La53RNYrlvbvaJV1Xl+OzZ/Dzzfp5L6/zfd3PmpzL69BHbE18aQ/lvedoD+nd5lrPVX7u7/WVPmKzNZWu6p913b5V3Pt1fXLca7xn1nlOfqcZ9fRa+Wut989nyOvZ3t4zavK665P3m63r+uX4Ur+8v+q7uPKy3r+rGcXVx23u6Tn5uWdez+p8L9XM2NF+Vb3v475ru3inGZ1hppf3fbbPIOPZT4D9IbCRwOEHGfo9GfHujI2XPtl2tmsrfZcfxVWbrWoU17qynSbH81q91sZV19noV11dPGu784TOe7hf9ZB+Ruf1s/rQVdpR3PeRX/VQTtY1Xf/QZp3qO+v6rFnKjfL5LLm31qMengvf12vrpXfb9aviUdfFRz1narb27vaNPat9q1jeu6td0q2p83O7r/ONerk++6M69Y4a96seHqu0s/t4H/mztZ2uOo/3Dn+kca3ruv2kV99c43n3s87Xnc7jS773C9/XXutx910T/iinfKWpYuqtnKzia6zXhj9az/b1HlGT112fvfYf9e9yOmd31i7u/VyT70W6UVwat7mn59zPOl/P6roar6/8qKtqq1jUe9z93HuUq/p0+i6e9zvKmkHGUZ4E54DASgKHH2TE78eIHy/54x9X3tkHeXxC3fJJdWvdh50/eN5L/uhMI41y6p7XEVdsZFU/Y9Wn0o5yrh/pIqdLus6GTjnVZOv9lKtiVa7rPYqrj9u8n+qzVY3iWrv1Xu67xn316qxrK9/rcn52/1yntddrH+VkFe+sdJX1/sqrj9Zus17abEc1nnM/9/ac/JHGczqP6mRdo1hYj3e1S7q1ddJnm8+lvMc7f6SNnC73FZPNubwOXcSquHLqVdnZ2k6neGdnziBN9MiX9+1yilf1VU49lXM76iGd6rPNea3den/3XRP+KKd8pYnY6EO1eb9q3fWRVvlurfiSjT5+5bXn3M/7K6f4bJ+o8xr31bOy0nU5j0ubrTSKay07ikvjNvS63FdM1nPdHqEd6TynvjO226/r53HVdlb7z+ald+v7efyoPoOMoz4ZzgWBBQKHH2ToF37+5jcLd9Kn9cm4V9SZrXVVN/XSJ3etK61inSbH83qpXvk1VnuM7FI/1Va6yOlyX7FsR71CW/WoYurrua73KK4+bmd7qqbrH/ncSzWddX2nmY3nXnld9RlpPBe+r9Wriim3ZKvabp/o5fpO55pcMzpPrqu0I43nwve1elWxfMaudkm3pk7nWWO7s3uPPc6Q98lrcajiyvmZsr/mjNUeVazaI8fyenQOafNeuSbnVRfWc7mu03lcfle7pb/XqL/sKBeamXOoV7ZLvWf75zPkdd63W+fz5PWobkm7lJ+91+oM0bvr7/FON6txnc5RxXQvS5pKN9vPde5rzxkbdVVtFavOurTHTP9Ok/db2usIeQYZR3gKnAECGwgcfpDx9dfv78j40Y823N17yeiT7ajp2rrQd1fulddVXafJ8bxWry6u/Kyd6XOrJup1ua9Ytkv7VT2qWPTNvfJae4/i0rj1/dwfaWZ13qPyuz6Vdibm/dzvajtNxD2X1+rnGsVmbVXb7RM9Xe++75fjee1a92d0nSbinstr7eMaxcJ6vKtd0q2p873X+H7Oqu7WM1T11Z6VTuep9MqFna3tdEv9tYfvWfld/6z1/XKN57yu0o20Xpv9mbq8n/fwevezpstJ1+2xVBf1t2i8Np8hr3XWJes9Z88nXa6t9lrSdPkurj0i32k87r5qdX6tu16juGrd+l7uZ43nuj2iZqTznPdf8rv9un4ed7/bp9N4PHxfe68u7poj+QwyjvQ0OAsEVhA4/CAj7iV+2ef3vrfirj6Wjj7Zfqz88A9S1bjN2rx2bfhxVbEu7tpK43n1d134flV6j4VWa6/Lvu+Vc75e0mmvrFN8qZfr3Pc6+XmPUTxru96juPq79b5VbY7lddcr4t5buhzLa9VV8a6HapSXrXrkWF5XvUJT6SqtYp1+6WxdncfD93W3Z9Zo78pW2hzLa+3r/UIzo1ONa1XrMe3hMem8h+cVV+1oLY3qZZdqPO89cn2sq1hVPxvL/VTXxT3fncdrK433kC+b9d7LNe67xn3XyA+b91DMNVWsqlNNta9y6pU1uV9e5/rRutvDa5Y0+XyVvtNon+oecmztWr2zzWfJ66zXutpfOdmZXrlP1FYx9ZQdaXzfSpdjeb20h/eXNmyO53WnqXRZG5qsy+tcE+t8VX1CU/Wq4pXOe7qvvXMsr6Wr9vPcEX0GGUd8KpwJAhMETjHIiHdjxO/J+POfJ+7oU8nok21WS9vZrM/rri7i+eq0rluj8Tr5S/XKS1/Z0MxcSzrfS/6oxjVZp1x3rqx3nWplPRf+lnjuoT4eV1/ZrPG412WdctLLKu5WOVnPdb60srfo1EM29+ri0ikvq/iSlT5sXFpXddIoJ62s6pWXVT7XK+/WtZ1+SaO89w1/1E9ar5Vf1SlX1SkmO6rPfbxGuapeOrfSR0z+qNY1szrv7XvLH/XJtb6/6mWV0zpb5WVzPtbKybpmFKty3s/7eHxtnWpzv7xWX9lc5/GqtoqpJmzul/XKSzvKq+8WjWplta96eVy5iOnKecWz9RrlVFvlskbrsF43qvWarm6pXnvlXurncWlls8bjVZ3Hcq3nok++1Fu2y+d4rL3fUn2Xz307ne/lNVVcPWRdr3Mrp3pZz+c65ar4UWMMMo76ZDgXBBYInGKQ8dvf3vzjJQsYSD+AgL4gPmArtoAABCDwMAJ8bnsYajaCAAQgsDsBBhm7I6UhBB5D4BSDjG++ef/RknhXxg2/9PMxRNmlI8A/9jsyxCEAgTMT4HPbmZ8eZ4cABF6dAIOMV38FcP+nJXCKQUbQ/dOf3t+VEcOMP/zhtLxf+eD8Y/+Vnz73DoHrEuBz23WfLXcGAQhcnwCDjOs/Y+7wogROM8gI/vpTrDHMiB834YIABCAAAQhAAAIQgAAEILCRAIOMjeAog8CzCZxqkBGw4t0Y3/3u+7szfvazt7dvv302QvaHAAQgAAEIQAACEIAABE5IgEHGCR8aR4ZAEDjdICMO/dVX73+SNd6Z8YMfvL19/TUPEwIQgAAEIAABCEAAAhCAwCoCDDJW4UIMgeMQOOUgI/D99a9vb59//uH3Zvz61/d5d0bsE7+fI39s/FOwx3nynAQCEIAABCAAAQhAAAKvTYBBxms/f+7+xAROO8gI5vFjJfFXTPSjJt///vv6yy8/HTzkQYSvf/e797roFR8/+tHb2w9/+GFIEu/8qD6ijgsCEIAABCAAAQhAAAIQOCUBBhmnfGwcGgIn/dGS/OD+8pe3tx//uB42VAOINbF418cXX3wYdMQ+MeiIWOzLBQEIQAACEIAABCAAAQickgCDjFM+Ng4NgYsMMvQg43dl6F0VW238/o14t8Y336grFgIQgAAEIAABCEAAAhC4IAEGGRd8qNzSaxA49Y+WvMYj4i4hAAEIQAACEIAABCAAgTsQYJBxB6i0hMAjCDDIeARl9oAABCAAAQhAAAIQgAAEjkaAQcbRngjngcAkAQYZk6CQQQACEIAABCAAAQhAAAKXIsAg41KPk5t5JQIMMl7paXOvEIAABCAAgWMT+OnPf3nsA3I6CEDgUgQYZFzqcXIzr0SAQcanTzv+EaWPT7PjyNa6cVeytxLY8lxma2Z1t95DV6/9K9vVHDGu8996tr36zJ7j0fvNnuvROnFwW50h8rrc95j3cF+aR1jtu2avLTVr+oc29tDlvsd0jmyleYbVWbR3XiseNnL58phqK5vr7rnW/mv22FKzpv+9tDp3Ze+150xfnUfavI54xLggMCJwiEHGP/zjP711H6PDK6darbEQeAUCDDI+fsrVF8GPFR9W1RfHNfUfOj3Hq87/nJPcf9ctz2W2ZlZ3r7u8ynPci+NefWaf16P3mz3XI3XVa3DERXpZP2sVi/yon9fv5W/Zb0vNlvOKkaz3qGLKj3LS3MvG3r5/Xvu+rov40lq1o57S7Gm37LelZs8zb+2Vn4H3GeVcdw8/88zr2POZ57vHPdNzfwKHGWRUtzY7oJjVVXsQg8BZCTDI+PjJrfmCV2mrL6If73CcVXX+45zu+SeZfZazunvd0VWe47M53uv5XL3v6PXX5UbPuqsJjqPc1Tn7/W3l90yG+cx5rfurnnGO5bVqn3l/foYr+iPmz+Qe5/Kz5bXO5porPh/u6TYChx5kxK3FkIILAhD4lACDjI+ZrPliV2mrL6If73CcVXX+45zu+SeZfZazunvd0VWe47M53uv5vHLf/NrUM66sOOUaxcOqzmOv5Ov+KysOI35iKO0jrc6sPfPa4/Jl8z3ltXRhu76ueXV/xK9js1SzlO/63hrPzzuv1f9Z59P+2GMTOMUgg2HGsV9EnO45BF5pkKEvcLJOXLFsXSM/a7SOfOVHrLukl806xd1mTaw9H/7oylqt1aeq7XpWcfWTrfp5rOoxyquvbNaqn+fdr/RV3mPyZaseHgtfWtmlfOi2XGvqdBbZvJ/HK18xWdVrLat42IhVV9bmtWoUl1W8s5VOMbddfY57TfhxycrXWjb30DrnY+0f0lV9pXPNkq8a2axX3K1rFPfYGj/qq2vUt6uJPl7X+dpPeVnF3SonW+WqmPRh/VLcY+ErLtvlszbrtO76qF66ykZtvtRPNudjrZzsWk2uy2v1i7hfeR25KqYa79v5Wes65WSVk1U87CimXFi/FPeY91rKZ23uM7POZ9qjpuqpe5Gt9lFOdq0m1+W1+kWcCwIdgVMNMvxHSDo/blS5ymYQWbOUDz0XBI5A4FUGGdUXsdlY95y6+ojnXF5Hz6VY1yfX5XXXO9/HmrrqLNU+a3r6eaq63L86Q45pnfsprj3zWnt5nTQeG+nUWxpf55h6u6aKeb7z8/nW6HKtztDFc2/pPb61NvfK69ijivnelaaqqWK5j3rleK6t1rmm6hV1+fKY+nqs6pN7SFPVeUz9vT7H8tq1S35XG3Fd7o9iVU79Z3tkXV7HHh4Lf7SWfkaj88t6jfep4qqRdY37VV4x2Vl91uV19PNY+L5W3mNZk9eq0VllvccoVuW0x2yPrMvr2MNj4Y/W0s9odH5Zr/E+VVw1szb3mKkb1VS5mdiSJvJZk2NLa91b7qM4FgJB4BSDDD0qHzooFlZxj2W/0lRDCY91Na7J+7CGwKMIvMIgo/sClr8ABvNOWz2PSlv1VF/Xu++9Pe6+a9zvNF18qbaqU0y261HlQxvxLqdeXb6Lq079te726uKqk/X9RjUjnefUN6zH3XfNFj96dR/q1+2nOtdV2qxzvXy33mNUO6PzvuF7Tc4p7xr3K30X6+oi7rlqXfXMNTMar5E+76f4jPV+7s/UrtVs7d/VRdxzea3zuUaxsB533zXu5/571lS9q/5Z5+frfNVUNtdUe4bG4+7n+qW114Y/Wud91dtrRjHVuz7vOVO/pFG+28/zlZ/P5Od1faWrtFnnPTq/6tNpFdc+lZVGtuvvcfdVN2u9NvzRWj1doxgWAiJw6EFGHiTktW6ii4/y3TDC4+6rFxYCRyHwyoOMeAb5i1tej55TpY1YFc97dRrXjXrpXDN9pM22q81xrWXVZ2ktXdis9Zz8rIl1jknr1jVdTRf3PuHP9FrSeY+u/+x5cn21Hu0n/Ujjue5co7j2cLulZ7eH9w3fe+ec8q6Z7Zt7eY9Rruqfa7Mm572/crmm0nhsxlfv0I76z/QaaXyfka7K6VyVdb3yHgt/tLdysrnW17l/XrtWftaM9vFcrlO/sK7zeOdX+iq21Fs1st1+o7jXhj9ad+fxGu2lXpWVRv26ete5L72s57Kv/RXPa8XdZs1oH8/lutzT19lX7cjmmrz2syhXxSLXxT030qh/Z702/NFaPVyjGBYCInCYQYaGEdnqoGGV89goLl01kKhiWd/tJx0WAs8kwCDjw9uc4zms+WJXaSNWxXNv6TrrrwnXeFw9PZ/9rPd1aKvL4+6H1tfu51zum7U5X9VXNRGrPtRPOa1lq7hi2Y5qPOd+9NCV++W1dGE95/E1vu/d1Y00ntN5cp9RPGtjvaVntYdi2VZ7Kiat1rKKh525RjrPqa/39HzEq7XqKquaXKc9urjyXp/7uybrcm7LeuZso76z9bqv3EvxzoZ+Zg/Vj/p3OcVH+3iu22v2rNpvpPf9pNe+nR31Uw/ZUQ/18TNI7/Xy3XqN4lVMObd5D+UU72zoZvZQvfrKKl71UM618rP1+lznWtd5vPPX6qNPV1PFIzb6GPXLZ+76SKd8t/a4fCwEMoHDDDLywap1N1jo4tGjG1ioprO+v2s8jg+BZxJgkPHxNzXxRXH2qrT5i6r3cr37rlnyc11eL9V7vquNuHKyqvO1+5HPa9Us5Tpd7hfrHMu9RxqvHel0nk6ztKfvo14z9p51o96eC9/XOvcoLo1b7zGqHelGdb5X9rs61/m+Hnd/pPFct1/WzPaWrusbee8tvduudqbO+6z1l/rP9JvtsfUe4wwze3T9/R5yn1yT811trut0Hu/8bs9qj07rvWc1lc5j4S+tfV/5XjOKKec276lc1VM52VnNki7nY+0x97W3rOdynTRhXefxzl+rH+1RnWum/6ym0nks/NFaDFyjGBYCInDpQUY3xIibH+UEp7Jb66pexCBwC4FXHmTkL4DBcc0Xu0pb9dTzcb37ys9ar3V/tl66Ua1ysrkmxyNfxRTvcuorK52s4urja/mu/3RGSAAAIABJREFUDd/XrvG4+9KE9Xj4vp7VdTVe3/lbamdqOk3EPZfXOucoLo3bLT3zHt6j6+1x+bmP4tl2/aXr8rl/Xuf6qk8VU51s1zfyS/Vdvotrz5nernV/dF7XLfkzZ4we3X4z9bOaWZ3uKZ+pq690I636z9iuj5h5j5FWuls0Xhv+0lp7uvUaxauYcm7znsrN1M9qZnW+t9e4L03YiHsur7PW10u+913SKj+qybm8Vg+3t2i8NvzRWnu6RjEsBETgsoMMvYtCN5rtLQOJW2rzOVhDYCuBVxhkBJvqi9hsrGPb1Vfx6gyVLmKKy/r+a2KVdqmX8lHb1S/l1EO266O8W/WuapSr9IpVmsjleF6PNKH1K9fmtXp5jWLqJeuaHKv6ul5+rlM820qXY92eo3jeJ9ZVX9epn+sUky6v1ddrpHWb6yp9FfMe8itd1X+kq3LRv4p7b/d1HtmqVjn1zprcL+dVt9TH8/Jzb8W32OpcVZ/RnlWPrO802mutPupyjWLqKZv3ruo6reKdzb2zLufzOvT5PJ1GvbO+6+F9vMbj6ilb5aqY9G59D4+HX/XI+k6jXmv12jf3zWvptI/WlU451y75XZ9R3VJNzue1zulx97W3x8L3ddfDNVWN6rQHFgKZwCUHGUtDDEGoBhJe2+VVj4XAMwm8yiAjGOsLnGzF3b8gVvkcUy/VaZ11sZbGc9LLek41ylX10rtmpJNe1usUk+36dHGvG/WVrrOj/t5XOtnop3zuXcUVk1W9anPc19KoJnL5kl52az7X5XW1d9ZorbPIKi67Ja5at9WZ1Fs5rVWX1xFXTFYx1VTWtcorJqv4jFWNbNSEr8vjism6TjG3qpWtch6Tv9Q3dOopq5h6aK181VM5r6l86Tpb1XSx6hyVVntVuYgpL1vplJN1zShW5XxP7+PxtXWqzf1G69hjdFV5nUu2qldONmsUl418+Lo8rpzystJmm/N5nfVah26kVV5WdW6Vk61yVazSh24pvpT3veRHzb2vpT2qvO5FtjqjcrJZo7hs5MPX5XHlPO86+VgIZAKXHmRoKOE2A/BcN7hwTa5nDYFnEXilQcazGLMvBCBwLQLVP5SvdYfcDQQeR2Dpv6el/ONOyk5nJBCvH15DZ3xyjzvzIQYZj7tddoLAdQgwyLjOs+ROIACB/Qh0//jlH8T7MaYTBGYI8N/cDCU0HQFePx0Z4iLAIEMksBA4GQEGGSd7YBwXAhB4GAENM9w+bHM2ggAE/o0A34z+GwqclQR47awE9oJyBhkv+NC55WsQYJBxjefIXUAAAhCAAAQgAAEIQAAC6wgwyFjHCzUEDkOAQcZhHgUHgQAEIAABCEAAAhCAAAQeSIBBxgNhsxUE9iTAIGNPmvSCAAQgAAEIQAACEIAABM5CgEHGWZ4U54RAIsAgIwFhCQEIQAACEIAABCAAAQi8BAEGGS/xmLnJKxJgkHHFp8o9QQACEIAABCAAAQhAAAJLBBhkLBEiD4GDEmCQcdAHw7EgAAEIQAACEIAABCAAgbsSYJBxV7w0h8D9CDDIuB9bOkMAAhCAAAQgAAEIQAACxyXAIOO4z4aTQWBIgEHGEA9JCEAAAhCAAAQgAAEIQOCiBBhkXPTBclvXJ8Ag4/rPmDuEAAQgAAEIQAACEIAABD4lwCDjUyZEIHAKAgwyTvGYOCQEIAABCEAAAhCAAAQgsDMBBhk7A6UdBB5FgEHGo0izDwQgAAEIQAACEIAABCBwJAIMMo70NDgLBFYQYJCxAhZSCEAAAhCAAAQgAAEIQOAyBBhkXOZRciOvRoBBxqs9ce4XAhCAAAQgAAEIQAACEAgCDDJ4HUDgpAQYZJz0wXFsCEAAAhCAAAQgAAEIQOAmAgwybsJHMQSeR4BBxvPYszMEIAABCEAAAhCAAAQg8DwCDDKex56dIXATAQYZN+GjGAIQgAAEIAABCEAAAhA4KQEGGSd9cBwbAgwyeA1AAAIQgAAEIAABCEAAAq9IgEHGKz517vkSBBhkXOIxchMQgAAEIAABCEAAAhCAwEoCDDJWAkMOgaMQYJBxlCfBOSAAAQhAAAIQgAAEIACBRxJgkPFI2uwFgR0JMMjYESatIAABCEAAAhCAAAQgAIHTEGCQcZpHxUEh8DEBBhkf82AFAQhAAAIQgAAEIAABCLwGAQYZr/GcucsLEmCQccGHyi1BAAIQgAAEIAABCEAAAosEGGQsIkIAgWMSYJBxzOfCqSAAAQhAAAIQgAAEIACB+xJgkHFfvnSHwN0IMMi4G1oaQwACEIAABCAAAQhAAAIHJsAg48APh6NBYESAQcaIDjkIQAACEIAABCAAAQhA4KoE7j/I+POf397+9Kf5j6++env7zW9u+/jyy+X9rvpEua+XIcAg42UeNTcKAQhAAAIQgAAEIAABCBiB+w0y/vKXt7cf/ODt7TvfOebHb39rGHAhcD4CDDLO98w4MQQgAAEIQAACEIAABCBwO4H7DTI+//x9gBHDjC3vsPjxj9/efvSjt7ef/Wxb/dKeMWjhgsCJCTDIOPHD4+gQgAAEIAABCEAAAhCAwGYC9xlk/OEP70OMH/7w7e3bb9cfLn4UpXonRww24uMnP/kw3Fj6MZL40RYuCFyQAIOMCz5UbgkCEIAABCAAAQhAAAIQWCRwn0FGvJsiBhF//OPiAUpBDD9+8Yv3oUUMLqqhxtFiGrLIfvHFh2GL3h0SAx79vpC//a289V2Cf/3r+z6///37GcLyDpRd0B6pCYOMIz0NzgIBCEAAAhCAAAQgAAEIPIrA/oOMGEJ897tvb599tu3dGKM71zfoMQyI33ERA4Jf//rDwENDhL1s3Me9BybxozdxXv0ITQwdNOyo3k3ivzxVg4qojR7f//74vKHjugwBBhmXeZTcCAQgAAEIQAACEIAABCCwgsD+gwz9WEi8I+HVLh8yBIfqL7Bo6BA/dnOPIUkMM2Ko8atfffyOkO99730/fsnpZV6VDDIu8yi5EQhAAAIQgAAEIAABCEBgBYH9BxnxjXJ8g/673604xotL9Q6MYBbvMtGwQ+8s0cBD67Dx4zuhDd5R//XXY4iRjz7xDhCuSxBgkHGJx8hNQAACEIAABCAAAQhAAAIrCew/yIhfxBnfMMc311zHIqA/h8vvyzjWc9l4GgYZG8FRBgEIQAACEIAABCAAAQicmsD+gwz9yMQ335wazCUPH79PJIZM8UtHuU5PgEHG6R8hNwABCEAAAhCAAAQgAAEIbCCw/yBDv+hzw2EouTMB/Vnc+JEUrtMTYJBx+kfIDUAAAhCAAAQgAAEIQAACGwjsO8jQ72H4/PMNR6Hk7gTil4/GOzL46yV3R/2IDRhkPIIye0AAAhCAAAQgAAEIQAACRyOw7yDjyy/fv1H+xS+Odp+cJwjE78aIQUb8slCu0xNgkHH6R8gNQAACEIAABCAAAQhAAAIbCOw7yNBfLOFHFzY8igeUfPvt+yAj/kQr1+kJMMg4/SPkBiAAAQhAAAIQgAAEIACBDQT2HWT86lfv3yjzyyQ3PIoHlcQ7MhhkPAj2fbd5hUHGT3/+y7fRx30Jf9pdZ/k000e21PTd1me0/4xVd2m17uysrqtXfK8+6ncve49zRk9d9+iv3ke1umfnMHtW1c7qz6w7y73qnKPnKc2Zn8dVz77Xs1nTZ/RauQfn7myK6zyye51h7357netefcRzqf+sbqnP1fLictTXjc73bO77DjL0p1fjdzGsuD77X799G32saLUo1T6Lwh0Fz9izPX4MMuIXsnKdngCDjPchxyMf5JZP3Ftq7n1PS18YZ888q1u6n736LO1za/4e54yeuu7R33vLP4pdc7/OSedfU6+as9oz3OvsGStdxLgeS6BiXj2bLada06c6x5Y9q5qqd3W2Llb13BqrzrK11xnqZplWujPcn854j+e6hsmt+2+tX3NGsbqH3XeQEb97Ib5Rjl/6ueKKb/Qfdd17qFDdy733XMUu3o0Rz4jr9AReaZBRPSx9Et36Sbjq+SqxJWZi+yo8nnmfS89ir7M9ap81511zpkobsSq+5gxn0Z7hXm95FrfUnuUZHu2cFfNnvM6qc+zFarb3rO6Wcz1ij1vO94jaKzK4xz2t6blGWz3jrfVRt7W2OsfW2L6DDH2T/M03q85TffO/qsEK8b2HCo+8lxW3/UGqZ/QhgndSAq8+yIjHdpRPpGd7CS198YHr457o0rPY6ySP2mfNedecqdJGrIqvOcNZtGe411uexS21Z3mGRztnxfwZr7PqHHuxmu09q7vlXI/Y45bzPaL2igzucU9req7RVs94a33Uba2tzrE1tu8gI35kYcOPLTzym38GGbwjY+t/LEerY5Dx6SBDn1izjWeXY9Un4ErjOuX9taCY2ypfxbwmfL9yzteVzmNLft4r67VXxOVXNcp5vWJuPV/50npOMbeeH/leE75fykVMfta43n3pFfO1/FEv10gn6+dRf9mqTjnZTpPjWqsurGKynvN89rPO1+olO8pVGumVyzbyirkfse6SXrbTKe46+WHzVcVCoxrptc62yyuee3X1lV7aKpf7uib76iPrecWydY370kVMfraVXppRLmu0lvXabv+s6dbqKVvplJPNGo/P+KqXVlZxt8rJKqd1tpFXTL5qKhva7vI+rlFcNnJVH+Vlqx6qHWmUk/Ua95XP1veVv1UTdTPXUv+cn+mrmthf/qjONZ0ua7JO+byn4tJrLd2IkWqkUa2s4ktWetmsj3h1uV5+tlWdx0b6nNPa6+Url63yYdfkpF1b7/pn+PsOMjb+IsmlQcbavIYVsg42x7reWaceist2cc+7L31YxWU953n3Q3vTFc+IHy25CeFRihlkfPgkrWeiT8RuI+fr7I9qpc2avJbObdbktWvd36pT3YyN/UZXdZ7Q5zrp1CuvVZPrpJfNdXm9tU9Vp975THmts7lVrWJa59q81jlUJ6v6bj2qW6rJZ8hrr5cvm7U6Z45Ln22lm43lXlp39RHPubyOHrMx7aeamf6VxuvVc1anWtVpXdV3Ma9VvWKqCTtzVbrZWNVf+3uu6hf5Ku6xqpfqXKdY3rPS5JjXyK80OZbXozNkbaz1oT1ls7brK71srstr9fG4++ojna+zH3W5Nq/VJ8fzWjrtEXl9KJY1ine9cjyv1/bTfqO6ao9clzWx9lheaz/XeE/5qss6xaVTP19Xsa7O+3eaqneuy5ruDFnnfXJO60qTY7HOMZ0hx/Na+1S20s7Gqn46U5Wb7dvpcjzWHsvr6gyPiO03yPjb396/Qd7wFzFmvjnvNB4P39cBMMeW1oI+o8sa7acesmt0qlGv2VqvG/oxxPjss6GE5DkIvNIgQ58wK+tPy/NV3GPhS59914VGl+tHNdJXmtxD2hzXOqxfintsrZ975vpujxyv1rnXzHqvPt1e0V9X3msprnzYXJvX0uZ4rKur0rnW/ap+FMu1eR21VUxxz4Xv6zX7Slv1mO2pM6mXbNVTWu/tvmql83X21/Sv9sj1ea39qtp8vq620qmvW99j1Mtrcm/PVT18D9dmf7a26+fxqtfSuXUe76PYjJ2p6zT5vHmt/Udxadz6fu67JvuVLu9baaJPF9cea/p4L/fVK++Xe0tXxat+a3Tqnc/Qxav9VNvlvFfle537lbaLRV1X63H3vVeu73SjmshVdbO9vdb9vKevsz+q81z4vlafKl7ppHfb6W7pGf2rvlVM2pzLaz9z9l0bvq+z9lHr/QYZf/3rTYMMfcOerUBEvLq6uGtdo/7K5/VSXHlZ7x2xvFbM4+6rT6ertBGr4t6r9Te+a6btR+JpBBhkfPrNYfeJdSbeafwBZ43WYbtLGuXzuovP6lS/xo7OG326vZXTXlmX19It2VyX10v1S/nop2vU23XSu821eZ21Wo/6ei7385x6zdpcm9fRp4qpv+fC97U0lR3pci6vq36KVdqIVfGo8bj76ie7lOvyHg/f197b4yOdatzO1IY+67yH+9J153CtfNVo7Tbn8tq17lf7V7VVTH2Uq3qFRnnpZT3e1UrbWe+xReP13RlG8aU9vX+njXilq/bNukqT98ma3MP1nnPfNX7e3Nt1uT6v1SfH81q6Ue8qV/WRbpSTprJeF76vK30VG9V5P/dzH8+N+qmu0niPNbrcq+rj/eRnO1uX91OfKj7qqbqwI13O5bX3yX6lrWKqy7m8lq6yrg3f15X+EbH9Bxnxl0tWXrPflGfd7Df0Xpdr8lpH7+LKy3rviOW1Yh53X31kPRe+r6VRT19P+TcMm6b6I3oogVcaZMyCrT6xKjZrR3uph2sUc1vlI9ZpPKdaabWW7eLKz9joMbpGe3htp1PctVv2W9sn9vAa97W/Ylq7jdzoyrV57bXey33XhO+53M9zuc7Xqss2a3wd/qi/59Q311drr8v5nMvrrPd1pY1YFY86j0vXWd/Hfek9Jr/qr5xsrs9r18l3O7NH6Cud9spWeq/xPbM/0uVcXudeWocua/M6tNJ11jXqLVv1k14aWe+v2Mh2vb1mpPGc9vba8Jfiymer2tyvWkdtvtTP41mX166Vn/uMajynus5Gf+W0l1vvJa3nFZvVea327ax6e437eU/PyR/1lias6zze+dJXeT+X+1lb5dR3lPM+W3W5zvetfN/T/dyny6mn58Ov4qOeXj/S5Vxee5/sV9oqprqcy2vXRS5/5LzWz7L7DTL+8pf3d2Q8eJCRwemb/2ylU7xbj+KqzVY1YSOXL+kVrzRVLtdJE3bUw3Uf+Tc8o4/6sDgEAQYZnz4GfcLNmS7uuls1qpdV76X1rTrVr7FxptGVz+xarx3pVON6xbK9dx8/w2gv1+UzxjrX5rXXeC/3XaOeiuV+o7quxuPyw1a9qphqPBe+r6Wp7EiXc3ld9VOs0kasikeNx91Xvxm7pn+1R67Pa52hqq3uYVanvp3tzlHpuz3z+ap11U+63Devpet6KN7dS9VvpmdXp/1meixpfI/R+V2n/auYcrIzmu6Mo/Os6Z/7jM7kOfe1X7a5t+dzfV6HtqrvdKPenpNf9ZnJhaY6l+LqUdnRntJ3vXP/Ua9RLvfROtfkdadTPGxcuS6v/1W2aEZ1ngvf12pcxSud9G5HupzLa++T/UpbxVSXc3kduoh1ce9TaZR/lN1vkPGnP919kBFQ/Bt495XLMcUFNPKuyestOtXkvRTPe/j+0sh6LtdJE9Z1Hh/6ekZffDGUkTwHAQYZnz6n0SffpU+4Xa3vskWTa/Ja/XM8rzud4mts9B5d3d5R47Ujnff3Go/L37OPerr1/Ud7uc7r5efavJYurPdyP2s8l/t5zuvc7zQ5ntf5jLmn68P3tWuz3+mqHp0294x1pa16qtb17is/Y9f0r/bI9XmtM1S1kfN4V1vp1Lezo165xs/guapHp/W68GdrZ/pVvbRH3ncUd+3Svkv50T75vHmtc4zi0nR25nzdGZf2XdPbte77ufN+nW5Uk3OjdeTynop5XRWbPVvuo15L9V2+i/s+S5rIdxqPu5/7d7ms0zr0uSavQ1vpFHervl3M851f7a9+nhudyXWq7fbzeK5Trtqr06rGbaWtYlEzu9eoXntXvZR7pN1/kPGTn6w+/5pvyqWV9c2qWOQ9Hv5orX6VTjm33ivvJd2aXt4v16lft4/nS//LL9+HTT/7WZkmeC4CDDI+fV7dJ1bFZaNSfti8rmKucV/apVjk4/J9K/9fZf+m01pWNd1a8ZH1M1e6vIdrvDbrPKeaKqac7L36RP+qd3emLj46Z1eT43k9e7aurjtT1Vcx1bhd6q/aSud93K+0szHv435XX8WjLsfzWpoqrn0j1+VzvFrn+rz2feS79Z6q9VhoFe/qFHed+8qPbN4ztLOxqm+1f9VvtI/0Va+uLsfVw89YxTwvv9LlWF7n/bXudFVcNTqHbGhd775r5IftNFVc+i7nfTttVRuxHM/r3K+q0f65Nq9zr65OOuVlZ/rNaNTPbdTl2hzL+aivYt5XmtzL466v+uVYXqtX7pN1ea26UbzKqc73U6zTS1vlZ2Kh0Yd6aU9fj/yZffbo2fVYs3/W5nvP69F93zO3/yBjwzfJ/s370s3qm/uqRjnvkWN5HdrcSxqPKzbqXfVSzHsp5r2qWLWnanI/xYf2979/H2T85jdDGclzEGCQ8elzGn1iVS5b75JzWkvTrRWXlT7sKKac7FJd1a+q9T6VHzWja9TTayudYrKjfZSrtIrJSrtkpZcNffi6PK6YrOsUc5tr8zprfR2+9LKKSedxxaRRLmy+PKe8rGtd18VHdV6z5PteVc+o7+Jdb++p+q5HFff6Kp/3lT7HtXeOS6/eWkuX1x6X71Z9Iua18j3vda6X1vNVzPOVrxrZTlPFc6zroXhYvzze5VwfftYpn+Oj3qrp7Eztkkb5vEcXl055WcXdKifrOfnKhY1La+XdSuOxzu/6KC4b9VVf5WV9nyqm/FIv7Zd1eS2d+rrV/rKek6+cbMTDX7qkl63qlJNd6qkeoXdf66pevWW3aLpaxcP6ebo9qrhi3kv9lBvZ2TrXRT+tc2/Fwy5dru30Xbzr7T1d4/FRT9ep3mOqlQ2N8tI/yx5mkKFv2iub4Yy+ic/1Uet65auennNfWsVkc+9KJ03U5Et9ZLt8jse66lfpPor9+tfvg4wYaHCdnsArDDJO/5C4AQhAAAIQgMAFCPg3MRe4nZe6haN80/lS0LnZhxA4xCDjIXfKJm9v8WM/8edXv/oKGhcgwCDjAg+RW4AABCAAAQgcnABDjIM/oIXjMchYAET6tAQYZJz20W04ePxFmRhkxF8v4To9AQYZp3+E3AAEIAABCEDg8AQYZBz+EQ0PyCBjiIfkiQkwyDjxw1t99O9//32Q8e2nP+ayuhcFTyfAIOPpj4ADQAACEIAABCAAAQhAAAJPILD/IGPDXy15wn2/3pYxvIh3Y3zve6937xe9YwYZF32w3BYEIAABCEAAAhCAAAQgMCSw/yAjfnyB63gEvv76fZDx4x8f72ycaBMBBhmbsFEEAQhAAAIQgAAEIAABCJycwH6DjL/+9f0bZQYZx3xJfPnl+/OJv1zCdQkCDDIu8Ri5CQhAAAIQgAAEIAABCEBgJYH9Bxmff77yCMgfQkB/ejUGGlyXIMAg4xKPkZuAAAQgAAEIQAACEIAABFYS2G+Q8be/vf8//vELJbmOR0B/sSTeOcN1CQIMMi7xGLkJCEAAAhCAAAQgAAEIQGAlgf0GGbFx/DJJBhkrH8ED5PGLPr/7XX7R5wNQP3ILBhmPpM1eEIAABCAAAQhAAAIQgMBRCOw/yOCvYhzl2X44x5/+9D5k+uKLDzG80xNgkHH6R8gNQAACEIAABCAAAQhAAAIbCOw7yIh3Y8S7MuIdAFzHIRADjHgu/H6M4zyTHU7CIGMHiLSAAAQgAAEIQAACEIAABE5HYN9BRvxpz/iG+S9/OR2Iyx5Yf3Y1frSEAdOlHjODjEs9Tm4GAhCAAAQgAAEIQAACEJgksO8g4xe/eB9kfPXV5PbI7k5A78b41a/uvhUbPJYAg4zH8mY3CEAAAhA4J4Gf/vyX5zw4p4YABCAAgZbAvoOM3/72fZDx+9+3G5J4IAH9boz4vSW8G+OB4B+z1SsMMuIfn2f+B+ia8z/6PruzKa7zyO71qt67317nulcf8VzqP6tb6rM1r/0ru7XnM+p0/lv33qvP7Dkevd/suR6h073PWJ1npJXGbejzpdioV86pR477Wpot1vtk3/vlnK+zztf4EIAABK5EYN9BRvwOhvjRkl//+kqMznkv8WdWP/vs/Xn84Q/nvAdOPSTwqoOM+AfbWS7943LmvPe8r6p3dbYuNnP+WU11ltnaM+pmmVa6R97vVZ7LXhz36jP7DB+93+y5nqVbej12+Y5j1ud1vs+t+W7/3L9bL+2ruk6X9+906oOFAAQgcGYC+w4y9PsY4ndlcD2HQLzzIt4RoyHGz372nHOw690JvMIgo4J41X+Y3fO+ZnvP6qrnMht7xB6zZ3mW7ogMjnimLc8n7uMq97Ll/q9Ss/QMR/mcy+tgVMWc3S35pVrfJ/uztSOd58L3dd6PNQQgAIEzE9h3kBEk4pdKxjfRXPsTiCFF/LhIfPzud29vv/nN+0cMK370o7e3zz9/fwdGvCsmPuJ3lvAjJfs/h4N0ZJBxkAex0zHu+Y/N2d6zultu+RF73HK+R9QekcERz7TlWcR9XOVettz/VWqWnuEon18DlbaKObtb8nn/vfrO9sn7L92L98WHAAQgcCYC+w8y4hvq+CY6vtnmmifwt799GFLEj+jEkCJ+QWc1oNCgorLxJ3B/8pO3tz//eX5vlKck8AqDDP8Hmfxs/eGtyUmreq1lFZdV3K1ynZU25xWXjXz4+VJe1vMekx/WL4+7Hxqt3VcsW+8pf6sm6maupf45P9NXNbG//FGdazpd1mSd8nlPxaXXWroRI9VIo1pZxdfY3HNUq31ks9bjla+YrOq1llU8bMSqK2vzWjWKyyre2UqnmNuuPse9Jvy4ZOVrLZt7aJ3zsfYP6aq+0rlmyVeNbNYr7tY1intsyY+a0TXK5/2yNq+rfZY0o3zkunwX1xmW8jO6vP9sT/XGQgACEDgLgf0HGfFjDfEN9g9/eO4/wxo/JqN3P8RfYdG7H9zGwCAGDVs/9OMf1UCiisWQIvaKfXWOGHrEORlcnOW/ud3O+WqDDIHr/lFWxT0Wvq+9X45X65mYespGTVWnvOwaXa6Z7a862S17eq182dlzZJ3qZbtzed2MRv3cqs57RV7xrPW1dB7r6rx/p/E+6p3rskY6j3uN4lVMuc7O1lS6HIu1Pny/Khb5Kh4xvypNVZt1eV3V+D7yc11ez/aRTn1lc79qLa3b0PmV15HzmPp6LGu8n/uqHcW2arxn5efzZs0o7zn31aOKKSe7pBnlt+Zi71Gtzrakyz3y2vvgQwC4cVA6AAAgAElEQVQCEDgzgf0HGfGjDDHE0Dfi4cfvzNA33n/844cBQXwDvsePPnzzzcc9NYAIG4MV7S2rdzr4AGLtUEH3t4eNvyqis8SfS9U5dR/xbg0uCCQCDDI+AOn+oebx8H2t6ioWOY+7r7oZG3Ve677Xr9GpLteM4tW+VX2nU++wlSbHR5ou53tUvte5X2m7WNR1tR5333vl+k43qolcVTfb22vdz3v6esbX/pVV/Wg/z6mH6mRHcWncbunZ7eF9w/feOae8a9yv9F2sq4u456p11TPXzGi8Rvq8n+Iz1vu5P1M7q1nq2+Uj7jn3tXcVU052SdPlI97lovcop7x6ZKuzSedr+arReqR1DT4EIACBMxLYf5ARFOIb7/hm/Ac/+DDQ2OMb/kf1iOGLBgv+7gcNGMLGuzQ0aNhi46+KcEHgBgIMMj7AG/3jULnqH3jRQfkP3d49j3e1uSavc533rLSKzehyb9WGzfV5LU2O57V0o95Vruoj3SgnTWW9LnxfV/oqNqrzfu7nPp4b9VNdpfEea3S5V9XH+8mfsaNeqh9pPBe+r72+i0vj1rWzPTud9w3fe+ec8q6Z7Zt7eY9Rruqfa7Mm572/crmm0nhsxlfv0I76z/TqNL5HpdG+lXV91aeKeU34S5pqX8W8l2Ijm/W+7vzZflEfWi4IQAACVyRwn0GGk9IvqPztb9+HG/GnWTUkkN36boj4xaLqUVkfPMiPP0WaBw+848GfGP5JCDDI+PCgRv+o0z/ipPlQ9e4pPxNXj66m6uFa9yutYr5P5YdOcdW4zfvkdVff6XJv7V1Z9fYa96s9PK/6rrdrXePxzpe+yvu53M/aKqe+o5z32arLdb5v5fueS37uXelHGs/pLLnHKJ61sd7Ss9pDsWyrPRWTVmtZxcPOXCOd59TXe3o+4tVadZVVTa7THl1cea/P/V2TdTm3Zb10tqW8zlTtfUut+s30kNbtUt1SXr1mdaFfo1V/LAQgAIEzELj/IOMMFDgjBE5IgEHGh4c28w+10FS6Khadu7h2Xcqrh+vcVx9Zz7mvfLah6XQ5ntfRq6rvdL53pfG8eueY1kv11bmWes7kpen297j7OrfsKKc9pNU61+R1p1Nc/XJdXku3xc70Gmk8F76vdZ5RXBq33mNUO9KN6nyv7Hd1rvN9Pe7+SOO5br+sme0tXdc38t5berdd7Uyd99ni77FH16OL+zmXNEt57+X+Ut1SXr1mdaFfo1V/LAQgAIEzEGCQcYanxBkhUBBgkPEBysw/1EJT6apYdO7iH3Zd1uQ9u56zurz3qF/W+jr8vKdilc5j3Z4zmmpPrwu/69/FvX5JM9rfa93P/btc1mld7Vn1qHTRQ1pZ9fWcx7b6Vf/cq9NE3HN5rT6juDRut/TMe3iPrrfH5ec+imfb9Zeuy+f+eZ3rqz5VTHWyXd/IL9V3+S6uPWd6u7byl/ZYyo/OcEutzjrTQ1q3S3VLefWa1YV+jVb9sRCAAATOQIBBxhmeEmeEQEGAQcbHUKp/rEVMcfe9UnmPhe9x96WrYsrJhibr8lp75XheZ13kK410OkO1VizX57V03msU83r3VR+xKq68emdNrst51XmfylefXK+412RNtcesJuvyWr1H8SqnOj+3YtKHlZ91vp7RqLfXVbFuz1E89+z6uk79/OyKSZfX6us10rrNdZW+inkP+ZWu6j/SVbnoX8W9t/s6j2xVq5x6Z03ul/OqW+rj+cqv+rrulvxSbeyzpFnK+1ndX6pbyqvXrG7mXtQTCwEIQOBsBBhknO2JcV4I/CuBVx1kxO3HP+L04S8IxWSrnMfUK8equHrKVjU51mkVl632U0yasH4p7jH5WRtx6ZXTWjXS+LqLKa4e6lnVZk2n9VqvkV5WukqjXGdVE3n5ua/XuqbTLWmU977V/p1O2lzva9XKVjmPVX7Uzl7aRzbXbYnnHrGuzqTeymmt+rxWH8W9TjWVld5zisl6bslXjWzow9flccVkXaeYW9XKVjmPyV/qGzr1lFVMPbRWvuqpnNcs+VUfrzl63s+6xl+6L/Wa1YV+jVb9sRCAAATOQIBBxhmeEmeEQEHgFQYZxW0TgsBmAvEPev5RvxkfhTsT4LW4M1Brt8R2KW+tTu3Gfb7KvZ76QXF4CEBgEwEGGZuwUQSB5xNgkPH8Z8AJzkWAf9Sf63ld4bTda45vLp/7dF+F/6vc53NfTewOAQg8iwCDjGeRZ18I3EiAQcaNACl/OQLdN5UvB4IbfigBve7cPvQAbFYSeIVv8l/hHsuHSxACEHgJAgwyXuIxc5NXJMAg44pPlXuCAAQgAAEIQAACEIAABJYIMMhYIkQeAgclwCDjoA+GY0EAAhCAAAQgAAEIQAACdyXAIOOueGkOgfsRYJBxP7Z0hgAEIAABCEAAAhCAAASOS4BBxnGfDSeDwJAAg4whHpIQgAAEIAABCEAAAhCAwEUJMMi46IPltq5PgEHG9Z8xdwgBCEAAAhCAAAQgAAEIfEqAQcanTIhA4BQEGGSc4jFxSAhAAAIQgAAEIAABCEBgZwIMMnYGSjsIPIoAg4xHkWYfCEAAAhCAAAQgAAEIQOBIBBhkHOlpcBYIrCDAIGMFLKQQgAAEIAABCEAAAhCAwGUIMMi4zKPkRl6NAIOMV3vi3C8EIAABCEAAAhCAAAQgEAQYZPA6gMBJCTDIOOmD49gQgAAEIAABCEAAAhCAwE0EGGTchI9iCDyPAIOM57FnZwhAAAIQgAAEIAABCEDgeQQYZDyPPTtD4CYCDDJuwkcxBCAAAQhAAAIQgAAEIHBSAgwyTvrgODYEGGTwGoAABCAAAQhAAAIQgAAEXpHAUwcZ//CP//Q2+6GHI73W97Z5v7y+9/70h0BHgEFGR4Y4BCAAAQhAAAIQgAAEIHBlAk8dZFRgY1Awuh49SMj75fXorOQgcE8CDDLuSZfeEIAABCAAAQhAAAIQgMBRCZxukPFokAwuHk2c/WYJMMiYJYUOAhCAAAQgAAEIQAACELgSAQYZC0+TQcYCINJPI8Ag42no2RgCEIAABCAAAQhAAAIQeCKB0w0y8mBB62zFtIsrH3akUU760Vq5sN3lmpGuqycOARFgkCESWAhAAAIQgAAEIAABCEDglQhcZpCRH5oGBh6vBgdLsdynW+c+eR3nmI35mfEh0BFgkNGRIQ4BCEAAAhCAAAQgAAEIXJnApQcZ1YPzYYL7rvV4+GvW6lPVKefWe3scHwJLBBhkLBEiDwEIQAACEIAABCAAAQhckQCDjOapasBQDSSUi9Kc93ZZ5zn3XedxfAiMCDDIGNEhBwEIQAACEIAABCAAAQhclcDLDzI0iKhsPHTF9QJYWkunWq1V11npsBCYJcAgY5YUOghAAAIQgAAEIAABCEDgSgRefpCx9DA1eJBuaS1d2NDqcl8xLARuIcAg4xZ61EIAAhCAAAQgAAEIQAACZyXAIGPhyS0NLnLe2/nwwn3X4ENgKwEGGVvJUQcBCEAAAhCAAAQgAAEInJnASw8y4sFVAwYfTrgvvdfkvL8YXKdazyuWdVnDGgIVAQYZFRViEIAABCAAAQhAAAIQgMDVCbz8ICMesIYRsv7Qc2xpnWt9vbRX1rKGwIgAg4wRHXIQgAAEIAABCEAAAhCAwFUJHG6QcVXQ3BcE9ibAIGNvovSDAAQgAAEIQAACEIAABM5AgEHGGZ4SZ4RAQYBBRgGFEAQgAAEIQAACEIAABCBweQIMMi7/iLnBqxJgkHHVJ8t9QQACEIAABCAAAQhAAAIjAgwyRnTIQeDABBhkHPjhcDQIQAACEIAABCAAAQhA4G4EGGTcDS2NIXBfAgwy7suX7hCAAAQgAAEIQAACEIDAMQkwyDjmc+FUEFgkwCBjERECCEAAAhCAAAQgAAEIQOCCBBhkXPChckuvQYBBxms8Z+4SAhCAAAQgAAEIQAACEPiYAIOMj3mwgsBpCDDIOM2j4qAQgAAEIAABCEAAAhCAwI4EGGTsCJNWEHgkAQYZj6TNXhCAAAQgAAEIQAACEIDAUQgwyDjKk+AcEFhJgEHGSmDIIQABCEAAAhCAAAQgAIFLEGCQcYnHyE28IgEGGa/41LlnCEAAAhCAAAQgAAEIQIBBBq8BCJyUAIOMkz44jg0BCEAAAhCAAAQgAAEI3ESAQcZN+CiGwPMIMMh4Hvu9dv7pz3+5Vyv6bCAA/w3QKIEABCAAAQhAAAIHIMAg4wAPgSNAYAuBVxhkxDeao48t3Pas0dnUM68V7+yMXppsu56PiOssS3vN6rzPlhqvX+N3eyk+Y9fst6d26Wx77pV7ae8cz+tZXa7bstZend3S8541Oqf20HrGRs2STn1l1+ilVe0aq9oZq77Sat3ZWV1Xr/hefdTvXvYe54yeuu7RX72PanXPzmH2rKqd1Z9Zd5Z71TlHz1OaMz8Pzt4TYJDRsyEDgUMTYJDxYcjxrAeVv0Dm9ehcM1ppOjvqf8+czuN7RCxf/39797YdS25dadgPqhtd66XdkkrnoyXL3W612ANVnrEXVyEOmQwyM8gvx6ABrBMi/wRBYSZ2eRbXY/p4ljOr3fNuHc/mSY34jrTJ+ej2kc+Wuet7Hrb+msX1mLPGmWuvvWe+2Xu7p07NyXPGlvGRduQcjbu1fo/P+C3teNatV97LVszwHY37qDp787zVf9b7rc9RP4v3qJ+56jyxPbq95f3Onv+W/Ee/17fOf4X3evQZZ3HD5vU5CBAyPsfn6F18QQJfSchY+3hnf6DWYt/D3ufv460592K3/Fu+rTnfy5fnGe3Zr/eqnbpHnveW2CP1zojZeqb4RvsRr4+eb/ae8gwz37Dt+ffyzma59zxv8Se3PnNse+8z/r34xB1p63PM4s+ca1af7RuBvc/iW+Tbeh81zy1PecszzWKHbWa/5RmuEnuF9/qWz+ItuVf5DL/KcxIyvson7X1+OgKEjPsPJ2cthv7Hvo+35tmL3fNv1f5oX551tGe/3qt26h553ltij9Q7I2bvmfb8ZzxDamSu0T7qlWdYm3/Pv5d35ns78ix7Mbf6z45f4zWzj7m3XnvPtpXLdxuBvc/itmrr0R81z/oT/NhzyzPNYodtZv/xTNe3XOG9vuWzeEvu9T/dz/UOCBmf6/P0br4QAULGXMjIH+Da9mVRfbVf46o9/eof/W7v4x6f8ZG4IzGpV58leaOtr2rv/Rp3S6212MydeWpcn6v7Zjmx9Xav1szf51uLqfbMW23px7fWJi5t4jIebWy1rf5ZP7EzX61Z/cnpbY2puTWuxsS+Fjv81df73zvL/6n1amzsqVdSftRN7I8c/2OY+WOrbc2v9tpPTLWlH99WeyR2L+ZW/63x4/lnOTPb1ntNna2YWjP90fZXfNUeW22rf9ZPbPXFVtvq3+rXnNGvr/iGLf0eU+NrP/Gx1XH6W7VqTOLS1udJ/bSzvPjSrsV0e8bJG21saauv+nu/x9VxaqXd8s1iEh9fb4c/ttoftrVX4tOuxcVe49IfbX/NbCMmOYnPuLdr/th7rbX8WXxiZ75et8b0fuqkrf7Yeltjaj9xw5Z+b2fxidny9ZiM09bctfl7jPFtBAgZt/ESjcDTECBkfPujlA8lfzxm7dkxo17m6bUzXmt73iwuMWlnMbElZtYeiRl5ec1qxNZjxji+3lZf76dO2uT2uNjX2uTXNrHV1vtHYmrOVnx8tR25Gdc6M3viZm3PrePEV1vtd3/Ga21y1/zDnldixjj93lZf76dO2uTWuNhqm/hZm7iZr9aNP/Gzdi+m1tvKT53eJqfb63gv5lb/rfHjWWY5M1t97ll/5Gy9UrPHzcbVlrxae2ar/tHvMX08i+k11mJ6rYxHW199XH3pJ7ePe24fj/g1W7WPfh1v5fVnyDg5R+oktubObHmuXrPnZTyLO2pLjd6u5Q979/XxqHXUVudN7Z47G3db5qz20a/jzDWz97jErNlTK/PWcbet1eo5Gfc5e72tuPhqm/m7rY7T35t7Vmvkzuy91lpMj8uzaI8RIGQc4yQKgacj8JWEjPwBmLX1g4m/2ka/2mu/xg371muW1219vFbv1rjEp+11j9gTM9r6ij22Po69tj0m49HWV+yx9fGwx5bcjHtO/N2e8axW9dV+n6P6Zv2t+PiOPN+onfjM08d79u5P/qxN7Gjjr7aZfS2u5vWYjEdbX7HH1sfDHltyM05O2jV79ydu1iZ2rU1O9cc22vqKvdpGf81e486ISY2tdjbn0fij76XOsdYfc2698kw9pttn455zZHxWnbW5Rv28+lx79vhH23P7OLHdPsaz1yyuxtb+LH/L1nP7eOTObLFX3+jX8S3zJnZW42jNPFNqpZ3VTGytXfvJTVwd9/4t9Wdz9Pw+znyz3P58a7mzuNStbZ1jq1bN6bWrb1ajzlFje/9o7lq9ap/V2nvuPE+tE5v27QQIGW9nqAICDyFAyPjx/1jb+iOTPyJrMXsfYvJSZ8THltw+jr22R2Jq/Ognp7eJiz3jtNVe+/GPttszHu3aKzHxZ9xzYu9xGY92Lyb+vdqzWnWe9FMv4yPtVs6a76j9aFx/zuSttWvxe/Zar8dmnJg+Hvb6Wou7NWbE91q1RvUnrrc9fjauOfHPbHW+xKVNfMaz9oyY1Fhr+7xrcbH3+DHe8s3i12yjztZra56a2+P6eGuO6ut5fVxj7+mPenlt1a5xia9tz+3jHpvxVt3q6/WqL7WOtj23j0edmS31q2/06zgxs3Yrrvv6eFYvtlnssM3sI6faaz/10u751vzVPvp1XGtX+1Zccmp7JHfE97hao/YTt/YcNTb95GRc2+7r4xpb+7P5Z7kzW+rEN6s1YuJPfNpqX8tNrPY+AoSM+7jJQuDhBL6SkNFhz/4gxHa07TX7eKtOYhOzNo69tj2n+o72a430t9pRN/4+x8weW21rXuyxZTza+op9zRZ/zYstORnXmO4b4624xNe4atvrp/Ysbs13xJ6YrXY257AlZ81f7YkdbX/FV+2x1Xbmj+1o3IhPbO0PWx8nrrffB07+T+K6a82+N1/qJH+0eVXbWj+xszY5M19sezF7/tRJuxa/Zh95W77UPdKOOluvrXlq7lpc7DX2nvlurTPmqDm1n/ljy7i2w7f16rl9XHNrrdqvMaNffb1e9fW8Ok5eb3tMHY/+Vv3qS92ePxvXvO7vvj7u8XU8ix22mX3kVXvi1to6T+0nvtrSn9WPL23P7+Mal35tj8wx4mdxmau3ia85dc7e34rrvj7utTIecT22j0ds4tbaGpPaaWf1Ep+YtLV+bNr7CRAy7mcnE4GHEvjKQsYAnz8G9UOY2ap/Le9ITGqPNq/Y1sax17bnVN/RfmrkWTLeyl+LWbOPWvGlTf218bDXV4+rNXs/eT0n41675ycuddbao3E1fytnzXfUvhZX55/1b81bi1+zjznjS5vnWBsPe331uFqz95M3y4lvq93Km/m2bMOXV+KqbfhiT9wt7ZHcvZg9f3+erfg135q9194bjzpbr615au5WXOrX+Nh6+9516jNszVXj+jOOcc/t45pTa9V+jUnN2Hq9rby1nGpPf7SzWjNbcqpv9Os4MbN2K677+nhWL7ZZ7LDN7COn2ms/9Y60t9SfzdHz+zjPMMudvYejcam71q49xyx+bc7+fLPxrF7iet0+TtxajdjX3sus3pGaa3mZT7tPgJCxz0gEAk9JgJDxw/+oqH8I1v7I1A/w3pjkbc2XmDpf7e/5e2wd136v08c1Nv21mDV78kbbY/p4FrNnS43R1lfse7b4E5829ll7JObWvLWaR+1rcbPnqLZb89bi1+xbc81ybrUlfrT1FXu1Helv5cVX54qt1o6txg1/7LPYajvan9XruXsxe/5b6qXWaOsr9mq7p9/r9hpb89Tcrbhas+ZUe/pn1knN2tb5t+aqcTU//Z7bx4kbba1V+z2m+nq96qt5tb8W0+193J+x16zxo1/HNbb31+JmNdZie80xnsXOaia3xtd+/EfaW+rP5uj5fZxnmOUOX7Wv5c7iUnet3arVc+ozVN+sxlpszRv9o7lH6s1qZY4+75a9xh6Zt8brvyZAyHjNwwiByxD46kLG+KD6H5WM09aY/LGIL+1eTPenTrWP/njVmv9jetXs+WtwYtPW+tW2Zk/MaGvM94PyfxJXY5KzZytllvc+y61xazUTU5+n22rtI77EpJ3Vjm+r3cpb88U+2vGq49jW7DV27bkSs+bv9sSvtf1Zkl/juy3jvdwatxabmDrf6O/F97yMe5u6sWc8myO2tdhhr/mJr7bkztrEzXyx7cXs+VMn7V78zH/UljnW2lFn6zWbJ/E1t8dV3yw+tt6+V50xz6z27DkT25+tjt9SazbnkXpreXmuXiPvo+f1cc1PP22Pnc2R2Fnb80fMUdus3lb+rO4sfhY3bDN7nmHL3/Nm457fx3We9Gtbaya32kZs7Gt5sde42o9/q+1zjtijtlnd2fyzelvzJH5Way2v21OjPuPMVv36+wQIGfuMRCDwlAQIGd/+qNY/BvlD09v6IXZfxkdiRmxePa+PE5d2z5+4tImftYlJO4sZtrzizzhtt2fc28SPNr6Zrfpqfy222m+pnbzMMdq9V2L34rp/K++ILzG1rXNUe+3XmN5PXLdvjZPT25rTfRnPYma2Gl/7a7HVnn7yehv/rE3szDds8Y82r2rr/cT03CP5NXfWz1wzX2x7MXv+1Em7Fx//aMerj4/WSVxtU7Paaj9zVVv6NXcWF1va5G21s9jY0m7lV1/i0w7f6OdV7bGlrXGx1bbn9nGPrePRT3za2BJX7bElJr7R9lf1xZ+2xta4NftWXs3Z69e5ZjVH/pp9rXatmfy1GjN7zZ/5+7yJ7/bM3e2JT+2ME9fH1Z5+bVNn2Gpu+tVf82p8Yqt/Zqv+WT85addiZvZuW6sR+2jrq9rXfDV+9Htc/N2+VTs52tsIEDJu4yUagach8BWEjKeBfcKD5A/YCaWUKASOcj0aV0rrIvAuBLIWR/usrzzjsz6f50IAAQQQQICQYQ0gcFEChIyLfnAe+1QCDlyn4lTsgwg8+7p99uf7oI/JNAgggAACT0xgETL+42//+4kf06MhgEAnMH5nx8/f/v5/Xv7+n//98p//+L/Lzz/+658v9/ykxqg3fkbtMccQTbwQeDYCDlvP9ol4nqMEnnntPvOzHeUrDgEEEEDg8xP4XsjIYeXzv13vEIHPQyAiBiHj83ym3sntBMahywuBKxJ45rX7zM92xc/aMyOAAAIInE+AkHE+UxUR+BAChIwPwWwSBBBAAAEEEEAAAQQQeDIC/1avjz/Zs3kcBBDYIBAhI/8MJP8s5J5/UpKc1EjN3NbyT0s2PgguBBBAAAEEEEAAAQQQ+FAChIwPxW0yBM4jQMg4j6VKCCCAAAIIIIAAAgggcB0Cr4SMf/7z/13nyT0pAl+YwPhdrUJGblKMNrcr7mlTx42ML7y4vHUEEEAAAQQQQAABBJ6cwPdCRv55yT/+67+f/HE9HgIIDALjdzX/kc/x+xsBgpBhfSCAAAIIIIAAAggggMBnJ/BKyBjf8I4D0vi291//+tdnf+/eHwKXIjB+J8fv5vgdrbcxCBmX+hg9LAIIIIAAAggggAACCLyRwCsho/6H/f7y13+8/Pkv//nypz///eWPf/rbyx/++B8vv//DX19+9/u/vPz2d39++c1v//Ty69/88eVXv/7Dy3e/+v3LL7/73fc/v/jlb1/Gz89/8Zvl53/9/NcvR35+/otfv/jB4GprYG9t19+F/H7k92X87ozfofG7NH6nxu/W+B0bv2vjd2787o3fwfG7OH4nx390MyLG7EbGPf+cpObkZod/WvLGnVU6AggggAACCCCAAAIIvBuBfxsHl35oGQelcWA6KmZUQaOKGuOwloPbkfaX3/32xQ8GV1sDx9b2D0Lf+J0YvyNVwLhVxIiQkd/biA9v/WclQ9BIrdSu4ua77UIKI4AAAggggAACCCCAAAI3EPiRkFEPLntiRr2dkRsaETXGt8z5ycFtr/3Vr8e3034wuNYa2F/X334Xcvsi4kW9hbF3E2PvNgYh44adTygCCCCAAAIIIIAAAghclsD3QsY4APVvYOutjH4zo/9Tkwga+Scn43CWn3FgO/rzm9+O6/V+MLjWGjiyvvP7kHb8ruSfkXQBo/9zkvpPSt7zNoYbGZfdxz04AggggAACCCDwJQj85Kc/+xLv05vcJ/AjIWMIGrmVETGj3syo/92MCBr572fkv6ExDmb5yYHtSPu78d8H8IPBxdbAobVdficiXOS/g5H/FkYVMOp/EyM3MbqIMX5X809BzriNQcjY3zDPjBh/iM/4Y3xLnTPmu4XB2rPFnudJe0vtrdiz623N9Qy+8Nx7lqNxe3U+mz9cnnXd5Pk+C/dnfT9Hn+to3CM/rzzjrH3kc906d57/1rwef1adXndt/NHzrT3HI+x570faPN9WbGJqO+L7K7atWt2XGt1ex4m5p611er/WG769V42p/b28z+5fhIx+K2NNzKi3M/IfAh0HsCpqVGFjHNb8YGAN/LAGxu9GfvJ7EwGj/kc9cwujixjj9zK3p84WMQgZ77fdz/7oDNvMfutT3FLnjPnWnm9We/Zsa7a1uvfYZ89yT52r5BxlOou7ynscz/ken+stTN46/735tzzjGZ/nvc95dO6Pfj9vea4Zi2d9/vo+Z89d/Vfpn8X6rDpHuX30fEef61Fxe+txzb/Gscf3cX+f9/rX5u/118Z78ybvyDy1Vu2nxldt/60eXrbEjH47I4JGbmiMQ1h+6gGt9nOA0347zGLxeVnUtV/7+T1JO36HcgNjJmDkJsZ7ixh1L4hYEkFzCCpe9xOY/dE58ofr/hnnmbPnmEfebj1a+2jc7U/wLeMj5vg223P2PiOD93hPt9S8JXa2Ku7NH3n35s6eY8/23nN99PvZe8A8FzsAACAASURBVL9b/vdmsTX3W3xXfe7+nq+0VvqzG38jsLcet/zd18djlpnt2+xv8+/VrvP0/tHcEbcXW/1H4vuzfNbxj4SMKmbkn5nkMDMOVDNBo4oaOZTlkKb9JvBggUV+P9KO3538DLGg3sCYCRj9n5OM39chQJz1k1sehIxzt/z6ByiVH/GHaPYceZ63tkdrH417y/N8xBxveb6PyP2MDN7jPd1S85bY2Wd8b/7Iuzd39hx7tvee66Pfz9773fK/N4utud/iu+pz9/d8pbXSn934G4G99bjl72tgFjuzfZv97ULGWv01e+be8/e4rfju6+PU+mrt90JG/Sa2H2SqmLEmaOQAlgPZWpvDm/aHb+Bx+Nwc1n4PYs/vTdoIhVXAqLcw3lvEqPvAswkZY8OuP7ONuvpnG3z8I/dIP3MkNm3stY0vbXwZ93b4Y0s/ObN2xK69ap0aE3va4ZvViT/trEZyt2LiS1tzaj/+3tZ50783ZuQdee3V7/4jdZMz5k9/K6/GrMX1mB4Xf58z9sRnnLgtRslJTHLTxr7XJj5tjx/22avGp9/bWV61bcV3X8Y1P/34ehv/aG/xJfbW/Bq/1k/ttLO4+NImJuPeDv+wzV6J7b7Y01b/zFb9o19j0h/t2qvGrMX1mB4Xf50/trTVl/7aM838qZO258Ze2x5zZDzyj77qXLO8+Ee9WT+2tJk347Sxp04dp99j+7jHrfkTl3YWF1ttE7/X1pzRH6+06Wecdq1m949x/al5sdc5en6Nn/VTI22Pib22NSb2atvrj5yt15a/z9dj+3g2z17Mln/41vxr9jzDnr/H3TLX0dqZ47O2i5BRDzEzMWNL0KgHsBzKtD98u44DDrM1UH9nan8IF/mJmJA2v5dpz7qFUeukduaMeDnew6Nes8262/p4PGu3jXF+6nuJrcfPasxsR/LWYqq99vvz1XHvj7ye28d57m7v48RljuHPT2w9Jva1Wt3ex7fWy3xbebM5el6PGeNq6+PMV2NqzfST1+NiT1zq1fHMtpZX66/FzGr3vB6z9gw9rtbpvoxnMd02xt2WZ+j2Ps48s3YWe9Q2q5dnmvmO1l2L6/YxrrY+XnuGmpPnndl6/tGYHjebY8T0uG7r4/48te5ercT2Gkfzatzsuao/c/S4WczsuWZx1dbrpkaNyTPstUdzZnHdNsb5qfPObGvPvFaz1pvl9jn6eJbTa85i7q2TWn2OXm827jmzWiOvv6otdattVqfXSMwsr9pSv+Z3Wx/X2LV+nWMWs+WvvtpPnZktvrR7MVv+e31j7q3cPFuPGzmzvG7r41rvK/VfCRkzMWMcbHKoqW0OW7WtBzL9H/4ZDg44rK2B+ruTfv0dSz/iQm2r+HBmP3Nk7vFc4/kfJWQc2ajXYoa9+vo4G/2WPTG17TWrb61fcxLT553FjNg1+z11aq3aT60+34iZxc3sb41be4Y1+2y+PP+ar9aa9Wte7c9i12wjby232mu/1ur5a3FbOcM3yztau+bWfp+zjnt/K6/6Rr+OU2dmn8UlvrZrcW+pOerP6s5sie2+Pq7P3Ps1dvTruMdujWte7R/NSdzaM6zZk5e2zn0kZyum18octe35NafG1X7PGb5ZXo+bxfTct8TUZzzazzPO2tTYeqbqS43kpd2yJ6a299Rcm6PWHf1au/virzG1P4tfs63lDXv1zcazmj3nSEzNSXyfL/Yjba1X+0dyj8bs1V3zD3v11X7mntniS7sXs+Yf9jXfqL3liz81eptnS9zW+GhMrfFV+j8SMnIoyoGmtjnc9DaHMO23b9OxwOLoGui/TxnX37308/v5Xm3myTOM93BVIaNv/Pkj0jf3LXuPzXjkjFfa2NfaWdxs3h43i+lz9Jheo8ZXX+3XmNGPb7Tpr8XEPoub5a/FpU6dv9rST37a2Gu75atxvV/zRr+Oe+zaeCuv1qv9Xqv6tuolbxZTa9wS12vN6tR66ff2aF6fL3Vm9q2ayRvtVlz39XGt0/uz2Jkted3Xx4mbtTV29Ot4Fr9mq3m1vxY/7LO4YbvF3uvX3LVaNWcrpteqebXf4+q4xqU/m3OWcySux8zq1HlHv+fEf0+7NV/qbcVU39pzbdkzR23vqbk2R607+rV298VfY47W7bVqjS3frH7P7THdX+vH13NmMdV2pJ/aI3ar/pFaazF1jllM5p21NX5WZ2arOaO/FzObN7ZaK7attsfX8Vp/1Ouvbtsb9/yvMl4VMsZBKYeatTaHHe1/T2+t4ILLLWtg7fcs9vcSL2rdzJXn/upCxt4fq/6HZe0PxywutWtOj+vjGpt+r7OVU33JW2tH/fgyV21rrcRWf2xH42pu5l1rU7vm1H6fs/rS36qdmNHWuGpf6yd+5q/PVfs9duZL3S1frXNvXM+r8876dc7a73XWfKlZ/aM/s2/VrPlbcd3Xx7VO789iZ7bkdV8f17jh6z/dn/Fa2/MzTvwYH3nN4nqt1JnZY+vtVk58aZObcW2HL6/ajy3tzJe6W77kj/beuJ5X5531+5yJqfZb+n3+We5WTPWtPcuWfW++rdy9uZPb29mcsSU247Sxj/bIayuu+lK31qz+YZ+Nkzdrk9PzMseaPf6a3+vXmB7XffeM955tz59nms39ltzUO1IjsbXdy9vzp9YsbtiqvfZHXh+n1ldrN4WMHHByuDnS5gCkdYi3BtbXwJHfpcTk9/Aj2syZz+6rCxl7fxCO/iGZxQ3bmj3zzvzxpe11tnKqr/ZTq7e9dvX3/D4esbP8tbit2tWX/qzOEd+ImT1X7Kkxa7fmTPxa7V5/q9aWr9fJuOf08Vpc7KMdr57Xx/8Tttts5VXf6NdxCs/ss7jE13Yrrvv6uNbp/VnszJa87uvjETdsa/ZaZxYT/y11as5afzbX1nPW+K24zLcWE/9ot2L6fDWv9mtctaff/bM5e8zIncXFvlU7vlva2fxH8o/kbcVU3+jXcebfsiemtrXGVu5W3FZenav31/JqXJ232mt/K6b61ubrMUdrJ26t7vDX2omv7Vrukbxa557+GXOs1Viz1+fci9nz11q1v5e350+ttbhqr/2R18ep9dXaQ0JGPUDloKP9v7s3VjDC6N41UH/nPrKf5/0MQsbY5OtG38fZ7LfsiVlra/21mGGfxe3NO8uZzdHrrOUdjatz9Jzu2xoP3yx/9nzd1sd1nvTXYoZ9zXckNzFr7ZHaazHVXvt1rmFf8/W4jGc5sxqzuFEjsWlTt/qq7Uh/Viv1qm/06zi1Z/ZZXOJruxb3lpp59jrPmi32/hx9nLhes9tnz91zZrVndXrebDyrtfYM3T7LnT3HWlyep9eNfVar+tLfyk/MrFZ/rj5Ozpo9/jrHmq3HrI1nc63Fxn4kZy1m2Kuvj+scNa7a069tjT1as8fVGmu1qz39Xif23q7VT9yav9fv454/qzOzJS/tWt3h38tf86/ZM+eR2jV21t+bY8+/9Qxvyc2zHqmR2Nru5e35U2srLr60R3IS8xXam4WM2aEqhx+tg7s1cPsamP1OPcqWz+9ZhIyxCffNe2Y7GrMWN7PP5omtxtf+8I9Xt/VxYmb2Pd/3E5T/M2r0On28VnMvblY7U/fcPr51ztRNe6TekZjUq+3I67nd1v0jf2ardRPTa1V7jZ/V67Y+Tq1ep8f1cfK27DNf8up8sa3FJ3bmP2IbMflJrcxZx1v9I/OcUXOtxi3z99j+3vt49r5nMWu2nj/i6quP4+v21K/22JIz2m7r4xqbfmJGW1+xd1sdj/4s70jM0bwelzlnz5d5t3KSn9i0PWerfnLWalV/+r3+LHdtzi176te2zzUb95p74zxvr1XnncXM4me2Xie1uv3Icya3x9Zas2eo8bVf81K72+p4ltttY9xf3dZzevxs3Gv0mLf493LHXHsxe/7+vBnv5e35b6nTa/Vxan219hQh41GHLvP+8wUDDM5cA88oZIxNeWzY9We2UVf/bIOPv+eu2RMXf9rYaxtf2upLP77RjlfG8dc2MdW21l+rE3vakT+rG3/aOs/MFv9erczX4/o4calb28yftvrSjy/tsI/+3ivxaWd58aXdq5kaI772M57lp3bae2LWcmMfbX2etTlm9thqrdSLb6s9mlfjRr2Me+3YR7v3qrFr8Wv2tdq1Zo2p9q2aNS751ZbctCMm/sSvtYlLm9weH3/a7k/ezB/baGtcrVFjalxi4s941taY9FNrKz6x98Ss5cae+TNem2Nmjy25aWNPG3va2NOu2eNPO+KOvlIzbc+7x95rjPHsmVI7voyT38epE3vNS86sTXz1xZa2+vb6yUk74kc/r2qPLW2Ni622yU0781Vb+nt1R1xqpo0tNTKOf1Yzvpqz15/VqTnP7q/Pekt/732l1l7c8PeYPk6tr9YSMv7LQfjMg7Ba115PzypkfLWN2R+o637is//Bcd1348kReAwBv0eP4W7W+wn4u30/u73MPbZ7/r36V/PbH799YoQMQoZbHdbAsgYIGd82x0f1vtof5Edxfq95/Q+M9yKr7lci4PfoK33a13mva+vS3+3HfoZfjf9Xe79bq4uQ4RC7HGLdprj2bYozPj9CxtZ2+TE+f6A+hvN7zTI+P5/he9FV96sQ8Hv0VT7p673PrM3aXu9dfL4n/kp/d7/Se91bqYQMQgYhwxpY1gAhY2/L5EcAAQQQQAABBBBAAIFHEyBkOMQuh9gzvtFX49q3OggZj96SzY8AAggggAACCCCAAAJ7BAgZhAxChjWwrAFCxt6WyY8AAggggAACCCCAAAKPJkDIcIhdDrFuU1z7NsUZnx8h49FbsvkRQAABBBBAAAEEEEBgjwAhg5BByLAGljVAyNjbMvkRQAABBBBAAAEEEEDg0QQIGQ6xyyH2jG/01bj2rQ5CxqO3ZPMjgAACCCCAAAIIIIDAHgFCBiGDkGENLGuAkLG3ZfIjgAACCCCAAAIIIIDAowkQMhxil0Os2xTXvk1xxudHyHj0lmx+BBBAAAEEEEAAAQQQ2CNAyCBkEDKsgWUNEDL2tkx+BBBAAAEEEEAAAQQQeDQBQoZD7HKIPeMbfTWufauDkPHoLdn8CCCAAAIIIIAAAgggsEeAkEHIIGRYA8saIGTsbZn8CCCAAAIIIIAAAggg8GgChAyH2OUQ6zbFtW9TnPH5ETIevSWbHwEEEEAAAQQQQAABBPYIEDIIGYQMa2BZA4SMvS2THwEEEEAAAQQQQAABBB5NgJDhELscYs/4Rl+Na9/qIGQ8eks2PwIIIIAAAggggAACCOwRIGQQMggZ1sCyBggZe1smPwIIIIAAAggggAACCDyaACHDIXY5xLpNce3bFGd8foSMR2/J5kcAAQQQQAABBBBAAIE9AoQMQgYhwxpY1gAhY2/L5EcAAQQQQAABBBBAAIFHEyBkOMQuh9gzvtFX49q3OggZj96SzY8AAggggAACCCCAAAJ7BAgZhAxChjWwrAFCxt6WyY8AAggggAACCCCAAAKPJkDIcIhdDrFuU1z7NsUZnx8h49FbsvkRQAABBBBAAAEEEEBgjwAhg5BByLAGljVAyNjbMvkRQAABBBBAAAEEEEDg0QQIGQ6xyyH2jG/01bj2rQ5CxqO3ZPMjgAACCCCAAAIIIIDAHgFCBiGDkGENLGuAkLG3ZfIjgAACCCCAAAIIIIDAowkQMhxil0Os2xTXvk1xxudHyHj0lmx+BBBAAAEEEEAAAQQQ2CNAyCBkEDKsgWUNEDL2tkx+BBBAAAEEEEAAAQQQeDQBQoZD7HKIPeMbfTWufauDkPHoLdn8CCCAAAIIIIAAAgggsEeAkEHIIGRYA8saIGTsbZn8CCCAAAIIIIAAAggg8GgChAyH2OUQ6zbFtW9TnPH5ETIevSWbHwEEEEAAAQQQQAABBPYIEDIIGYQMa2BZA4SMvS2THwEEEEAAAQQQQAABBB5NgJDhELscYs/4Rl+Na9/qIGQ8eks2PwIIIIAAAggggAACCOwRIGQQMggZ1sCyBggZe1smPwIIIIAAAggggAACCDyaACHDIXY5xLpNce3bFGd8foSMR2/J5kcAAQQQQAABBBBAAIE9AoQMQgYhwxpY1gAhY2/L5EcAAQQQQAABBBBAAIFHEyBkOMQuh9gzvtFX49q3OggZj96SzY8AAggggAACCCCAAAJ7BAgZhAxChjWwrAFCxt6WyY8AAggggAACCCCAAAKPJkDIcIhdDrFuU1z7NsUZnx8h49FbsvkRQAABBBBAAAEEEEBgjwAhg5BByLAGljVAyNjbMvkRQAABBBBAAAEEEEDg0QQIGQ6xyyH2jG/01bj2rQ5CxqO3ZPMjgAACCCCAAAIIIIDAHgFCBiGDkGENLGuAkLG3ZfIjgAACCCCAAAIIIIDAowkQMhxil0Os2xTXvk1xxuf3bELGT376s809cs8/knvMGHfb5iScCCCAAAIIIIAAAggg8FQECBmEDEKGNbCsgSsKGXuiRPcTMp7qb5CHQQABBBBAAAEEEEDgZgKEDIfY5RB7xjf6alz7VsdnEzK6iDF2SELGzX8nJCCAAAIIIIAAAggg8FQECBmEDEKGNbCsgWcTMsZuORMjqn1LmJjlbsU/1e7sYRBAAAEEEEAAAQQQQGBKgJDhELscYt2muPZtijM+vysKGWNnmwkWa/YqZKS/lp8aa3Gx17jRzyv+tLGPdmarfn0EEEAAAQQQQAABBBCYEyBkEDIIGdbAsgaeVcgYh/7+qrbaT9zMNnzDnp/Exl7HR2ypM5trz5bcPqcxAggggAACCCCAAAIIbBMgZDjELofYM77RV+PatzqeUcgYW1gXBWbjmW22/a0JCN3e66VWtfecWUxso6251a6PAAIIIIAAAggggAACxwkQMggZhAxrYFkDVxUyxpbXRYI+zra4Jj70Gmv5NW6t1pHcPI8WAQQQQAABBBBAAAEEbiNAyHCIXQ6xblNc+zbFGZ/fMwsZVRyo/Wx51Vb78acdvjV/tSdurR314kvttLGvtYnTIoAAAggggAACCCCAwO0ECBmEDEKGNbCsgWcVMsbWNkSB2s62u6Mxies1qr32e1zGI2YWN7MlR4sAAggggAACCCCAAAJvI0DIcIhdDrFnfKOvxrVvdRAyvv1HRY+IEYSMt/0Bko0AAggggAACCCCAwD0ECBmEDEKGNbCsgWcWMsYGtycurAkLdXPciun1+zjPEPsttW7Jrc+rjwACCCCAAAIIIIAAAq8JEDIcYpdDrNsU175Nccbnd3UhY2xvERleb3XfRveKD7O8me3bTN/+GxqzuJmt5uojgAACCCCAAAIIIIDAnAAhg5BByLAGljXw7ELGfBtjRQABBBBAAAEEEEAAga9EgJDhELscYs/4Rl+Na9/qIGR8pe3fe0UAAQQQQAABBBBA4JoECBmEDEKGNbCsAULGNTdyT40AAggggAACCCCAwFciQMhwiF0OsW5TXPs2xRmfHyHjK23/3isCCCCAAAIIIIAAAtckQMggZBAyrIFlDRAyrrmRe2oEEEAAAQQQQAABBL4SAUKGQ+xyiD3jG301rn2rg5DxlbZ/7xUBBBBAAAEEEEAAgWsSIGQQMggZ1sCyBggZ19zIPTUCCCCAAAIIIIAAAl+JACHDIXY5xLpNce3bFGd8foSMr7T9e68IIIAAAggggAACCFyTACGDkEHIsAaWNUDIuOZG7qkRQAABBBBAAAEEEPhKBAgZDrHLIfaMb/TVuPatDkLGV9r+vVcEEEAAAQQQQAABBK5JgJBByCBkWAPLGiBkXHMj99QIIIAAAggggAACCHwlAoQMh9jlEOs2xbVvU5zx+REyvtL2770igAACCCCAAAIIIHBNAoQMQgYhwxpY1gAh45obuadGAAEEEEAAAQQQQOArESBkOMQuh9gzvtFX49q3OggZX2n7914RQAABBBBAAAEEELgmAUIGIYOQYQ0sa4CQcc2N3FMjgAACCCCAAAIIIPCVCBAyHGKXQ6zbFNe+TXHG50fI+Erbv/eKAAIIIIAAAggggMA1CRAyCBmEDGtgWQOEjGtu5J4aAQQQQAABBBBAAIGvRICQ4RC7HGLP+EZfjWvf6iBkfKXt33tFAAEEEEAAAQQQQOCaBAgZhAxChjWwrAFCxjU3ck+NAAIIIIAAAggggMBXIkDIcIhdDrFuU1z7NsUZnx8h4ytt/94rAggggAACCCCAAALXJEDIIGQQMqyBZQ0QMq65kXtqBBBAAAEEEEAAAQS+EgFChkPscog94xt9Na59q4OQ8ZW2f+8VAQQQQAABBBBAAIFrEiBkEDIIGdbAsgYIGdfcyD01AggggAACCCCAAAJfiQAhwyF2OcS6TXHt2xRnfH6EjK+0/XuvCCCAAAIIIIAAAghckwAhg5BByLAGljVAyLjmRu6pEUAAAQQQQAABBBD4SgQIGQ6xyyH2jG/01bj2rQ5Cxlfa/r1XBBBAAAEEEEAAAQSuSYCQQcggZFgDyxogZFxzI/fUCCCAAAIIIIAAAgh8JQKEDIfY5RDrNsW1b1Oc8fkRMr7S9u+9IoAAAggggAACCCBwTQKEDEIGIcMaWNYAIeOaG7mnRgABBBBAAAEEEEDgKxEgZDjELofYM77RV+PatzoIGV9p+/deEUAAAQQQQAABBBC4JgFCBiGDkGENLGuAkHHNjdxTI4AAAggggAACCCDwlQgQMhxil0Os2xTXvk1xxudHyPhK27/3igACCCCAAAIIIIDANQkQMggZhAxrYFkDhIxrbuSeGgEEEEAAAQQQQACBr0SAkOEQuxxiz/hGX41r3+ogZHyl7d97RQABBBBAAAEEEEDgmgQIGYQMQoY1sKwBQsY1N3JPjQACCCCAAAIIIIDAVyJAyHCIXQ6xblNc+zbFGZ8fIeMrbf/eKwIIIIAAAggggAAC1yRAyCBkEDKsgWUNXF3I+O67f38ZP14IIIAAAggggAACCCDweQkQMhxil0PsGd/oq3HtWx2EjM+72XtnCCCAAAIIIIAAAgh8FgKEDEIGIcMaWNYAIeOzbO3eBwIIIIAAAggggAACn5cAIcMhdjnEuk1x7dsUZ3x+hIzPu9l7ZwgggAACCCCAAAIIfBYChAxCBiHDGljWACHjs2zt3gcCCCCAAAIIIIAAAp+XACHDIXY5xJ7xjb4a177VQcj4vJu9d4YAAggggAACCCCAwGchQMggZBAyrIFlDXxlIeMnP/3Zy9Gf/AHYik/MLe1Wve67pe7Zsf1Z6vjsuVIvc2S81h6NW8tnRwABBBBAAAEEEHh+AoQMh9jlEOs2xbVvU5zx+X1lIWO2XY9D8dZrzX/mYXptjq3nem/f2jOd+b77e5jVnj3HLK7XMkYAAQQQQAABBBC4NgFCBiGDkGENLGuAkPF6Q58dlGvEln/LV2vs9c+qszfPLf6tZ9ry3TLHkdiPnOvI84hBAAEEEEAAAQQQ+BgChAyH2OUQe8Y3+mpc+1YHIeP1xrt3UN7yD9+W//VM66MzaqxXv8+z9Uxnve8jT7b1HEfyxSCAAAIIIIAAAghckwAhg5BByLAGljVAyHi9ke8dlLf8Zx3o1+ao9Xv/9bv4YVRjqj/2tNW31h+xa69ZndjSznLjq22Ni33Y0u9t9aVfa/T+yK+vWb3q10cAAQQQQAABBBB4DgKEDIfY5RDrNsW1b1Oc8fkRMl5vzP2g+9r7w4G62zKuuf2APBsnr7e1TvXVGjN7tY1+4qt9Vntmqzmp1W0Z9/w+nuWPmB7XbX08qxNbrVX7ecbEbY1nMTVeHwEEEEAAAQQQQOBxBAgZhAxChjWwrAFCxuvNeO0QnKg1/7Cv+ZJ7tF2rszbHUftW3b1n28qtvtqvNYe9+mq/xtV+zxm+WV6Pm8X03CMx9Vn0EUAAAQQQQAABBB5LgJDhELscYs/4Rl+Na9/qIGS83pDXDriJyqF51ibmre3aM2TOXv+ofa3uqLfliz/z9LY+z1ad6kuNmtv7s5haI/FH4nrMrE6tl74WAQQQQAABBBBA4DkIEDIIGYQMa2BZA4SM1xvz1gF3RO75X1e7b7Q2x7DPfEftiVtrt552Nu8sfitu5qvP0uvFV+1bNbbiel5qr7W1lj4CCCCAAAIIIIDA4wkQMhxil0Os2xTXvk1xxudHyHi9KfcD72vvcSFj7YBc7b12xmvPkNzEpT1qX6ubOlvt0dytuC3fmLv7x3hm6885i+v1jtTpdY0RQAABBBBAAAEEnocAIYOQQciwBpY1QMh4vTn3A+9r748P291/xnjtGbYO7LOcHj+LOfq8R3PX4vqzrM1b82c51Z8as7jhS2zaxFdftekjgAACCCCAAAIIPC8BQoZD7HKIPeMbfTWufauDkPF6s54demvEnr/G3ttfm2PYt3x1vsT2+D4eOYmt+b0/y+sxGc9iu62PR263jfHMlnnSzuJSb80Xf2qk3YpPjBYBBBBAAAEEEEDg4wkQMggZhAxrYFkDhIzXm3A/OL/2/viw3f1njNeeYe+QHX/yM+7PFHva7p+NU3Pmm9lSO+09MWu5sY92vDJem2Nmjy25aWPXIoAAAggggAACCDwXAUKGQ+xyiHWb4tq3Kc74/AgZz7VBexoEEEAAAQQQQAABBBD4MQFCBiGDkGENLGuAkPHjTZIFAQQQQAABBBBAAAEEnosAIcMhdjnEnvGNvhrXvtVByHiuDdrTIIAAAggggAACCCCAwI8JEDIIGYQMa2BZA4SMH2+SLAgggAACCCCAAAIIIPBcBAgZDrHLIdZtimvfpjjj8yNkPNcG7WkQQAABBBBAAAEEEEDgxwQIGYQMQoY1sKwBQsaPN0kWBBBAAAEEEEAAAQQQeC4ChAyH2OUQe8Y3+mpc+1YHIeO5NmhPgwACCCCAAAIIIIAAAj8mQMggZBAyrIFlDRAyfrxJsiCAAAIIIIAAAggggMBzESBkOMQuh1i3Ka59m+KMz+/qQsZzba+eBgEEEEAAAQQQh96M+wAAIABJREFUQAABBN6DACGDkEHIsAaWNUDIeI9tVk0EEEAAAQQQQAABBBA4kwAhwyF2OcSe8Y2+Gte+1UHIOHN7VQsBBBBAAAEEEEAAAQTegwAhg5BByLAGljVAyHiPbVZNBBBAAAEEEEAAAQQQOJMAIcMhdjnEuk1x7dsUZ3x+hIwzt1e1EEAAAQQQQAABBBBA4D0IEDIIGYQMa2BZA4SM99hm1UQAAQQQQAABBBBAAIEzCRAyHGKXQ+wZ3+irce1bHYSMM7dXtRBAAAEEEEAAAQQQQOA9CBAyCBmEDGtgWQOEjPfYZtVEAAEEEEAAAQQQQACBMwkQMhxil0Os2xTXvk1xxudHyDhze1ULAQQQQAABBBBAAAEE3oMAIYOQQciwBpY1QMh4j21WTQQQQAABBBBAAAEEEDiTACHDIXY5xJ7xjb4a177VQcg4c3tVCwEEEEAAAQQQQAABBN6DACGDkEHIsAaWNUDIeI9tVk0EEEAAAQQQQAABBBA4kwAhwyF2OcS6TXHt2xRnfH6EjDO3V7UQQAABBBBAAAEEEEDgPQgQMggZhAxrYFkDhIz32GbVRAABBBBAAAEEEEAAgTMJEDIcYpdD7Bnf6Ktx7VsdhIwzt1e1EEAAAQQQQAABBBBA4D0IEDIIGYQMa2BZA4SM99hm1UQAAQQQQAABBBBAAIEzCRAyHGKXQ6zbFNe+TXHG50fIOHN7VQsBBBBAAAEEEEAAAQTegwAhg5BByLAGljVAyHiPbVZNBBBAAAEEEEAAAQQQOJMAIcMhdjnEnvGNvhrXvtVByDhze1ULAQQQQAABBBBAAAEE3oMAIYOQQciwBpY1QMh4j21WTQQQQAABBBBAAAEEEDiTACHDIXY5xLpNce3bFGd8foSMM7dXtRBAAAEEEEAAAQQQQOA9CBAyCBmEDGtgWQOEjPfYZtVEAAEEEEAAAQQQQACBMwkQMhxil0PsGd/oq3HtWx2EjDO3V7UQQAABBBBAAAEEEEDgPQgQMggZhAxrYFkDhIz32GbVRAABBBBAAAEEEEAAgTMJEDIcYpdDrNsU175NccbnR8g4c3tVCwEEEEAAAQQQQAABBN6DACGDkEHIsAaWNUDIeI9tVk0EEEAAAQQQQAABBBA4kwAhwyF2OcSe8Y2+Gte+1UHIOHN7VQsBBBBAAAEEEEAAAQTegwAhg5BByLAGljVAyHiPbVZNBBBAAAEEEEAAAQQQOJMAIcMhdjnEuk1x7dsUZ3x+Vxcyvvvu31/GjxcCCCCAAAIIIIAAAgh8XgKEDEIGIcMaWNYAIePzbvbeGQIIIIAAAggggAACn4UAIcMhdjnEnvGNvhrXvtVByPgsW7v3gQACCCCAAAIIIIDA5yVAyCBkEDKsgWUNEDI+72bvnSGAAAIIIIAAAggg8FkIEDIcYpdDrNsU175NccbnR8j4LFu794EAAggggAACCCCAwOclQMggZBAyrIFlDRAyPu9m750hgAACCCCAAAIIIPBZCBAyHGKXQ+wZ3+irce1bHYSMl5ef/PRnqz914z8aV3OO9M+qmzpH5jwjJvPN2jPqz2pkrpmv2o7G1Rx9BBBAAAEEEEAAgeclQMggZBAyrIFlDRAyfhAyjmzZ43A8e7310LxWdzbXlu2tz7FVe+Zbe+73fI5Z7dlzzOJm74ENAQQQQAABBBBA4BoECBkOscsh1m2Ka9+mOOPzI2S8XcgYW//sMH30T8JbcuscH31433ruLV995jP6HznXGc+rBgIIIIAAAggggMDtBAgZhAxChjWwrAFCxnERYuvAPHxb/q2t+t68XvMtz9BrHRlvPfdHPsvWcxx5H2IQQAABBBBAAAEEnp8AIcMhdjnEnvGNvhrXvtVByLiWkBGBIG39k7Nli2+0s1f1r8X0vK241Ks5saWtvvTjq218o4299mNLW33pj3btNfLqK3XSVp8+AggggAACCCCAwGMIEDIIGYQMa2BZA4SM84SMbOk5AG+1iR3tiNt7pVaN67a9cebq8/Vx4upcs/4sL3Hd18ezOUZMj+u2Pp7Via3Wqv08Y+K2xrOYGq+PAAIIIIAAAggg8DEECBkOscsh1m2Ka9+mOOPzI2R8+5Y/h+Ta1m156zC85qv5a/06X++v5cRe503uzBdbb2t+9a3Zj8QcfY6jcX3O/mx9POKP1q65td/nrGN9BBBAAAEEEEAAgY8nQMggZBAyrIFlDRAyjt2IGFt1Dsez9i1b+doB+kjNmpvnSl4fx17bml/to7/liz9z9LbW2qpTfalRc3t/FlNrJP5IXI+Z1an10tcigAACCCCAAAIIfDwBQoZD7HKIPeMbfTWufauDkLF/YM82vXXQTcw97dG6OXj3NnPGnnHa2EfbX9U36/f4Op7Vq/70t+JmvvocqZE2voxHu1VjK67npfZaW2vpI4AAAggggAACCHwsAUIGIYOQYQ0sa4CQMT8Iz7blfvCdxQzb2kG42mvukbrJrXmZK7a1mPh7/GxcY/f6R557b469Gt0/e489JnOu2fO+ur+PE6dFAAEEEEAAAQQQeDwBQoZD7HKIdZvi2rcpzvj8CBnnCxm3bvNHDtBrMdU++nW89hw1pvbX4tfsR3PX4oZ9zVfnrDGznOpP3ixu+BKbNvHVV236CCCAAAIIIIAAAs9BgJBByCBkWAPLGiBkfDvc7m3Rs8PvXs4R/5G6I6bHddts3OfvNYZ/zTaz13p7/r3Ynt/Hs2cbMT2uj5O3ZZ/5klefO7a1+B5rjAACCCCAAAIIIPA+BAgZDrHLIfaMb/TVuPatDkLG/CA/237f6zB7tO6Iqz/jGWtufPXZY0tbfbUff9rqW+uP2FteqZ12lhtf2h6zZx/+8VqLi6/XrePkpq0+fQQQQAABBBBAAIHHECBkEDIIGdbAsgYIGY/ZiM2KAAIIIIAAAggggAACxwkQMhxil0Os2xTXvk1xxudHyDi+eYpEAAEEEEAAAQQQQACBxxAgZBAyCBnWwLIGCBmP2YjNigACCCCAAAIIIIAAAscJEDIcYpdD7Bnf6Ktx7VsdhIzjm6dIBBBAAAEEEEAAAQQQeAwBQgYhg5BhDSxrgJDxmI3YrAgggAACCCCAAAIIIHCcACHDIXY5xLpNce3bFGd8foSM45unSAQQQAABBBBAAAEEEHgMAUIGIYOQYQ0sa4CQ8ZiN2KwIIIAAAggggAACCCBwnAAhwyF2OcSe8Y2+Gte+1UHIOL55ikQAAQQQQAABBBBAAIHHECBkEDIIGdbAsgauLmQ8Zhs1KwIIIIAAAggggAACCHwkAUKGQ+xyiHWb4tq3Kc74/AgZH7n9mgsBBBBAAAEEEEAAAQTuIUDIIGQQMqyBZQ0QMu7ZRuUggAACCCCAAAIIIIDARxIgZDjELofYM77RV+PatzoIGR+5/ZoLAQQQQAABBBBAAAEE7iFAyCBkEDKsgWUNEDLu2UblIIAAAggggAACCCCAwEcSIGQ4xC6HWLcprn2b4ozPj5DxkduvuRBAAAEEEEAAAQQQQOAeAoQMQgYhwxpY1gAh455tVA4CCCCAAAIIIIAAAgh8JAFChkPscog94xt9Na59q4OQ8ZHbr7kQQAABBBBAAAEEEEDgHgKEDEIGIcMaWNYAIeOebVQOAggggAACCCCAAAIIfCQBQoZD7HKIdZvi2rcpzvj8CBkfuf2aCwEEEEAAAQQQQAABBO4hQMggZBAyrIFlDRAy7tlG5SCAAAIIIIAAAggggMBHEiBkOMQuh9gzvtFX49q3OggZH7n9mgsBBBBAAAEEEEAAAQTuIUDIIGQQMqyBZQ0QMu7ZRuUggAACCCCAAAIIIIDARxIgZDjELodYtymufZvijM+PkPGR26+5EEAAAQQQQAABBBBA4B4ChAxCBiHDGljWACHjnm1UDgIIIIAAAggggAACCHwkAUKGQ+xyiD3jG301rn2rg5DxkduvuRBAAAEEEEAAAQQQQOAeAoQMQgYhwxpY1gAh455tVA4CCCCAAAIIIIAAAgh8JAFChkPscoh1m+LatynO+PwIGR+5/ZoLAQQQQAABBBBAAAEE7iFAyCBkEDKsgWUNEDLu2UblIIAAAggggAACCCCAwEcSIGQ4xC6H2DO+0Vfj2rc6CBkfuf2aCwEEEEAAAQQQQAABBO4hQMggZBAyrIFlDRAy7tlG5SCAAAIIIIAAAggggMBHEiBkOMQuh1i3Ka59m+KMz4+Q8ZHbr7kQQAABBBBAAAEEEEDgHgKEDEIGIcMaWNYAIeOebVQOAggggAACCCCAAAIIfCQBQoZD7HKIPeMbfTWufauDkPGR26+5EEAAAQQQQAABBBBA4B4ChAxCBiHDGljWACHjnm1UDgIIIIAAAggggAACCHwkAUKGQ+xyiHWb4tq3Kc74/AgZH7n9mgsBBBBAAAEEEEAAAQTuIUDIIGQQMqyBZQ0QMu7ZRuUggAACCCCAAAIIIIDARxIgZDjELofYM77RV+PatzoIGR+5/ZoLAQQQQAABBBBAAAEE7iFAyCBkEDKsgWUNXF3I+O67f38ZP14IIIAAAggggAACCCDweQkQMhxil0Os2xTXvk1xxudHyPi8m713hgACCCCAAAIIIIDAZyFAyCBkEDKsgWUNEDI+y9bufSCAAAIIIIAAAggg8HkJEDIcYpdD7Bnf6Ktx7VsdhIzPu9l7ZwgggAACCCCAAAIIfBYChAxCBiHDGljWACHjs2zt3gcCCCCAAAIIIIAAAp+XACHDIXY5xLpNce3bFGd8foSMz7vZe2cIIIAAAggggAACCHwWAoQMQgYhwxpY1sBXFjJ+8tOfvRz9yR+AEb/3OhLTaxx9jntq97neMj4y/5GYtzzDPbnhe0+uHAQQQAABBBBAAIHHEyBkOMQuh9gzvtFX49q3Or6ykDHbjvcO4UcOxHs1ZvPObGfVmdW+1/aR7/8tz9hzjzx3zzFGAAEEEEAAAQQQeB4ChAxCBiHDGljWACHj9ea8Jx4cORDv1Xg94/rorDrrM9zu+cj3f/vT/ZDxjNzufS/yEEAAAQQQQAABBH4gQMhwiF0OsW5TXPs2xRmfHyHj9Z+GvUNw/GlfZ/8w2vLN4tdsZ9VZq3+PPc+UdlZjyzeLP9v26PnPfj/qIYAAAggggAACCLy8EDIIGYQMa2BZA4SM138W9g7B8Y82/dcVXlbtPW5vvFU/vvocsfW6Nab6Yk9bfWv9zLGVk5haI/Fpqy/9+NIO++j3V/xp48+4t6kz7OknZ9YmLr5Zvfi0CCCAAAIIIIAAAh9DgJDhELscYs/4Rl+Na9/qIGS83nj7Ifa19/XBOgfcIzGJnbU9P+O1Z6k1Ejva2KttzT6rPbPNasW2NV9iMn8dz2yzuXv9Pk6dntvHs7hZTOJGm9csbmZLvBYBBBBAAAEEEEDgfQgQMggZhAxrYFkDhIzXG+3eIbX7+3hUm9lez3JstFZn2Ge+o/ZZ7tHn7rl93OvM/LfErOVXgj2mjzNftdf+Wq0jMTVXHwEEEEAAAQQQQOD9CBAyHGKXQ6zbFNe+TXHG50fIeL3Zrh1eEzXzd1sfJ/fWdq3OsM98R+2z3Dzblm/EzPzdVse1nznSxpc29tpu+RLXY/p4xA1bt8/G1Vb7mSvtli8xWgQQQAABBBBAAIHzCBAyCBmEDGtgWQOEjNeb694BdeYftmqv/dfVbxut1enzpepRe+LW2tSbtSOnv1In9hoT31o7cmp8aqTtvq06azmZY1YrOYnp47X5eq2ap48AAggggAACCCBwPgFChkPscog94xt9Na59q4OQ8XqT3TugrvmrvffHeOvn9RN8G9U636zz2wXDnzlq7My+VrfnzcZrudW+1p/Vy/Md8Y26tXZyuq2PM8ea/ZY6idUigAACCCCAAAIIfCwBQgYhg5BhDSxrgJDxegOeHXZrxJY/vrQ1757+Wp1hn/mO2me5R59vKze+tKNm7a/NsRYz7NVX+7VWt/dxnmPNHn+tuWbrMcYIIIAAAggggAACH0OAkOEQuxxi3aa49m2KMz4/QsbrjXd22K0RR/x7MbXeVn+tzrBv+WrNxPb4Ph45ia35vT/LqzGzGrOcHnc0psf1Onkf9Zli67nVPvPFf7RWjzNGAAEEEEAAAQQQOI8AIYOQQciwBpY1QMh4vbmuHWgTdcS/F5Nae+1anWFf842a8Scm4z5f7Gm7fzZOzZlv2NZqxZ52lh9f2tSrsfGlncXE1mPGePZasyc2ddLGrkUAAQQQQAABBBD4OAKEDIfY5RB7xjf6alz7Vgch4+M2XzPdTmBPZLi9ogwEEEAAAQQQQACBKxIgZBAyCBnWwLIGCBlX3MY/1zOv3XQgYnyuz9m7QQABBBBAAAEE3kKAkOEQuxxi3aa49m2KMz4/QsZbtlO5ZxGImFHbs2qrgwACCCCAAAIIIHB9AoQMQgYhwxpY1gAh4/qbuneAAAIIIIAAAggggMBnJ0DIcIhdDrFnfKOvxrVvdRAyPvuW7/0hgAACCCCAAAIIIHB9AoQMQgYhwxpY1gAh4/qbuneAAAIIIIAAAggggMBnJ0DIcIhdDrFuU1z7NsUZnx8h47Nv+d4fAggggAACCCCAAALXJ0DIIGQQMqyBZQ0QMq6/qXsHCCCAAAIIIIAAAgh8dgKEDIfY5RB7xjf6alz7VsfVhYzPvmF7fwgggAACCCCAAAIIIPDyQsggZBAyrIFlDRAy/FlAAAEEEEAAAQQQQACBZydAyHCIXQ6xblNc+zbFGZ8fIePZt2zPhwACCCCAAAIIIIAAAoQMQgYhwxpY1gAhwx8FBBBAAAEEEEAAAQQQeHYChAyH2OUQe8Y3+mpc+1YHIePZt2zPhwACCCCAAAIIIIAAAoQMQgYhwxpY1gAhwx8FBBBAAAEEEEAAAQQQeHYChAyH2OUQ6zbFtW9TnPH5ETKefcv2fAgggAACCCCAAAIIIEDIIGQQMqyBZQ0QMvxRQAABBBBAAAEEEEAAgWcnQMhwiF0OsWd8o6/GtW91EDKefcv2fAgggAACCCCAAAIIIEDIIGQQMqyBZQ0QMvxRQAABBBBAAAEEEEAAgWcnQMhwiF0OsW5TXPs2xRmfHyHj2bdsz4cAAggggAACCCCAAAKEDEIGIcMaWNYAIcMfBQQQQAABBBBAAAEEEHh2AoQMh9jlEHvGN/pqXPtWByHj2bdsz4cAAggggAACCCCAAAKEDEIGIcMaWNYAIcMfBQQQQAABBBBAAAEEEHh2AoQMh9jlEOs2xbVvU5zx+REynn3L9nwIIIAAAggggAACCCBAyCBkEDKsgWUNEDL8UUAAAQQQQAABBBBAAIFnJ0DIcIhdDrFnfKOvxrVvdRAynn3L9nwIIIAAAggggAACCCBAyCBkEDKsgWUNEDL8UUAAAQQQQAABBBBAAIFnJ0DIcIhdDrFuU1z7NsUZnx8h49m3bM+HAAIIIIAAAggggAAChAxCBiHDGljWACHDHwUEEEAAAQQQQAABBBB4dgKEDIfY5RB7xjf6alz7Vgch49m3bM+HAAIIIIAAAggggAAChAxCBiHDGljWACHDHwUEEEAAAQQQQAABBBB4dgKEDIfY5RDrNsW1b1Oc8fkRMp59y/Z8CCCAAAIIIIAAAgggQMggZBAyrIFlDRAy/FFAAAEEEEAAAQQQQACBZydAyHCIXQ6xZ3yjr8a1b3UQMp59y/Z8CCCAAAIIIIAAAgggQMggZBAyrIFlDRAy/FFAAAEEEEAAAQQQQACBZydAyHCIXQ6xblNc+zbFGZ8fIePZt2zPhwACCCCAAAIIIIAAAoQMQgYhwxpY1gAhwx8FBBBAAAEEEEAAAQQQeHYChAyH2OUQe8Y3+mpc+1bH1YWM777795fx44UAAggggAACCCCAAAKflwAhg5BByLAGljVAyPi8m713hgACCCCAAAIIIIDAZyFAyHCIXQ6xblNc+zbFGZ8fIeOzbO3eBwIIIIAAAggggAACn5cAIYOQQciwBpY1QMj4vJu9d4YAAggggAACCCCAwGchQMhwiF0OsWd8o6/GtW91EDI+y9bufSCAAAIIIIAAAggg8HkJEDIIGYQMa2BZA4SMz7vZe2cIIIAAAggggAACCHwWAoQMh9jlEOs2xbVvU5zx+REyXl5+8tOfrf7UjX/E7b2OxKzVOPoca/mxp07G790eec9HYt77OXv9j+bU5zdGAAEEEEAAAQQQOE6AkEHIIGRYA8saIGT8IGQc2UKPHHzfcmB/S259/iPPWePf2j8y31nv7d5nnc1/5LnvnU8eAggggAACCCCAwLkECBkOscsh9oxv9NW49q0OQgYh461/Yo4IAjMh4a3z3pL/6PlveVaxCCCAAAIIIIAAAj8mQMggZBAyrIFlDRAybhMyxpa6dSje8v14O35teUturTTqnFWr1l3rZ660s7gt3yz+bNuj5z/7/aiHAAIIIIAAAgh8NQKEDIfY5RDrNsW1b1Oc8fkRMraFifoHIofh0aZf/aO/Zu9xs/EtuXmGtLXeli2+0c5e1b8W0/MSl9zuH+PEVF/i01Zf+vGlvbVW8nqbOsOe/vedlf+TuLhn9eLTIoAAAggggAACCJxPgJBByCBkWAPLGiBkzA/Zs623HmZzkO1xs5jEztqaX3OrvfZTY8vWY/p45K7Zat3EdVsfj1p5zeoOX42ZjWe2npOYap/Nt2Yb+fXV42rdHrc1Hr613JqnjwACCCCAAAIIIHA/AUKGQ+xyiD3jG301rn2rg5Dx7VCfg21t61bbD6t9PGJntlpjq1/n7f2tvD5vcpNz5JnWYtbsqd3nno27ba1mtdd+n2vN1+O2xnmmWqv213KPxNRcfQQQQAABBBBAAIFzCBAyCBmEDGtgWQOEjOPiw+wQ2219fMu2fVbuqFNr9fHsmWp892/5RuzM3211XPtrcx2J6bl13PP7OM/d7bNxtdV+nS/1us0YAQQQQAABBBBA4BwChAyH2OUQ6zbFtW9TnPH5ETLmB/HZdjs7xA5btdf+rMaW7Whu5uxtaseecdrYR9tf1Tfr9/g63qqXuBozq19tI6fGp0ba7qu5tZ/4tXqJ3Yo7OtesVq2rjwACCCCAAAIIIPA2AoQMQgYhwxpY1gAhY/vQXLfbfqiNr9p7PwfctTY1Rltzq732U6faeu5aTM3pc/Vxjd3rr+VW+1p/rXaN7zHVN/p1nNhu6+MRdyS35/Vx5tMigAACCCCAAAIIvC8BQoZD7HKIPeMbfTWufauDkHFMQBjb8tYhNr6092zjR3LXYqp99Ot47VlqTO2vxa/Zt3LjSztq1P6tNUduza/9Wqvb+zjPsWaPv9Zcs/UYYwQQQAABBBBAAIHzCRAyCBmEDGtgWQOEjGMH67EVzw69dYse/r2YGt/7R3Jnc3TbbHxkrtn8vVavM8azvBo3qzHL6XFHY3pcr7P2jLO4xK754q/vL7b+HD3GGAEEEEAAAQQQQOB+AoQMh9jlEOs2xbVvU5zx+REy9g/i2W73Dqpbh9/U2Gr36ic386Qd9ppb7Vs58dU2uWmrb61f557FrNWKPe1Wbo0Z/fqKL+3w9ZjYeswsLrF1jt5PnbTdb4wAAggggAACCCBwLgFCBiGDkGENLGuAkHHuBqva+xNYEx/ef2YzIIAAAggggAACCDyKACHDIXY5xJ7xjb4a177VQch41FZs3i0CazcdiBhb1PgQQAABBBBAAIHPS4CQQcggZFgDyxogZHzezf7q7yxiRm2v/p48PwIIIIAAAggggMB9BAgZDrHLIdZtimvfpjjj8yNk3LeRykIAAQQQQAABBBBAAIGPI0DIIGQQMqyBZQ0QMj5u8zUTAggggAACCCCAAAII3EeAkOEQuxxiz/hGX41r3+ogZNy3kcpCAAEEEEAAAQQQQACBjyNAyCBkEDKsgWUNEDI+bvM1EwIIIIAAAggggAACCNxHgJDhELscYt2muPZtijM+P0LGfRupLAQQQAABBBBAAAEEEPg4AoQMQgYhwxpY1sDVhYyP2zrNhAACCCCAAAIIIIAAAo8iQMhwiF0OsWd8o6/GtW91EDIetRWbFwEEEEAAAQQQQAABBI4SIGQQMggZ1sCyBggZR7dOcQgggAACCCCAAAIIIPAoAoQMh9jlEOs2xbVvU5zx+REyHrUVmxcBBBBAAAEEEEAAAQSOEiBkEDIIGdbAsgYIGUe3TnEIIIAAAggggAACCCDwKAKEDIfY5RB7xjf6alz7Vgch41FbsXkRQAABBBBAAAEEEEDgKAFCBiGDkGENLGuAkHF06xSHAAIIIIAAAggggAACjyJAyHCIXQ6xblNc+zbFGZ8fIeNRW7F5EUAAAQQQQAABBBBA4CgBQgYhg5BhDSxrgJBxdOsUhwACCCCAAAIIIIAAAo8iQMhwiF0OsWd8o6/GtW91EDIetRWbFwEEEEAAAQQQQAABBI4SIGQQMggZ1sCyBggZR7dOcQgggAACCCCAAAIIIPAoAoQMh9jlEOs2xbVvU5zx+REyHrUVmxcBBBBAAAEEEEAAAQSOEiBkEDIIGdbAsgYIGUe3TnEIIIAAAggggAACCCDwKAKEDIfY5RB7xjf6alz7Vgch41FbsXkRQAABBBBAAAEEEEDgKAFCBiGDkGENLGuAkHF06xSHAAIIIIAAAggggAACjyJAyHCIXQ6xblNc+zbFGZ8fIeNRW7F5EUAAAQQQQAABBBBA4CgBQgYhg5BhDSxrgJBxdOsUhwACCCCAAAIIIIAAAo8iQMhwiF0OsWd8o6/GtW91EDIetRWbFwEEEEAAAQQQQAABBI4SIGQQMggZ1sCyBggZR7dOcQgggAACCCCAAAIIIPAoAoQMh9jlEOs2xbVvU5zx+REyHrUVmxcBBBBAAAEEEEAAAQSOEiBkEDIIGdbAsgYIGUe3TnEIIIAAAggggAACCCDwKAKEDIfY5RB7xjf6alz7Vgch41FbsXkRQAABBBBAAAEEEEDgKAFCBiGDkGENLGv9BgRKAAAGFUlEQVSAkHF06xSHAAIIIIAAAggggAACjyJAyHCIXQ6xblNc+zbFGZ8fIeNRW7F5EUAAAQQQQAABBBBA4CgBQgYhg5BhDSxrgJBxdOsUhwACCCCAAAIIIIAAAo8iQMhwiF0OsWd8o6/GtW91EDIetRWbFwEEEEAAAQQQQAABBI4SIGQQMggZ1sCyBggZR7dOcQgggAACCCCAAAIIIPAoAoQMh9jlEOs2xbVvU5zx+REyHrUVmxcBBBBAAAEEEEAAAQSOEiBkEDIIGdbAsgYIGUe3TnEIIIAAAggggAACCCDwKAKEDIfY5RB7xjf6alz7Vgch41FbsXkRQAABBBBAAAEEEEDgKAFCBiGDkGENLGuAkHF06xSHAAIIIIAAAggggAACjyJAyHCIXQ6xblNc+zbFGZ8fIeNRW7F5EUAAAQQQQAABBBBA4CgBQgYhg5BhDSxrgJBxdOsUhwACCCCAAAIIIIAAAo8iQMhwiF0OsWd8o6/GtW91EDIetRWbFwEEEEAAAQQQQAABBI4SIGQQMggZ1sCyBggZR7dOcQgggAACCCCAAAIIIPAoAoQMh9jlEOs2xbVvU5zx+REyHrUVmxcBBBBAAAEEEEAAAQSOEiBkEDIIGdbAsgYIGUe3TnEIIIAAAggggAACCCDwKAKEDIfY5RB7xjf6alz7Vgch41FbsXkRQAABBBBAAAEEEEDgKAFCBiGDkGENLGuAkHF06xSHAAIIIIAAAggggAACjyJAyHCIXQ6xblNc+zbFGZ8fIeNRW7F5EUAAAQQQQAABBBBA4CgBQgYhg5BhDSxrgJBxdOsUhwACCCCAAAIIIIAAAo8iQMhwiF0OsWd8o6/GtW91EDIetRWbFwEEEEAAAQQQQAABBI4SIGQQMggZ1sCyBggZR7dOcQgggAACCCCAAAIIIPAoAoQMh9jlEOs2xbVvU5zx+REyHrUVmxcBBBBAAAEEEEAAAQSOEiBkEDIIGdbAsgYIGUe3TnEIIIAAAggggAACCCDwKAKEDIfY5RB7xjf6alz7Vgch41FbsXkRQAABBBBAAAEEEEDgKAFCBiGDkGENLGuAkHF06xSHAAIIIIAAAggggAACjyJAyHCIXQ6xblNc+zbFGZ8fIeNRW7F5EUAAAQQQQAABBBBA4CgBQgYhg5BhDSxrIELGaP/+n//98re//5+X//jb//7+5+imIg4BBBBAAAEEEEAAAQQQeE8ChAyH2OUQe8Y3+mpc+1bHTMiImPGeG5HaCCCAAAIIIIAAAggggMBRAoQMQgYhwxpY1gAh4+jWKQ4BBBBAAAEEEEAAAQQeRYCQ4RC7HGLdprj2bYqzPr+IGeOfltR/XvKoTcq8CCCAAAIIIIAAAggggEAlQMggZBAyrIFXa4CQUbdIfQQQQAABBBBAAAEEEHg2AoQMh9hXh9izvtVX57q3OyJkjLbeyPjnP//fs+1fngcBBBBAAAEEEEAAAQS+IAFCBiGDkGENvFoDXciImPGP//rvL7hFessIIIAAAggggAACCCDwbAQIGQ6xrw6xblJc9ybFWZ/dmpAx/t+wDjFj3Mz417/+9Wx7medBAAEEEEAAAQQQQACBT0xgnEHGWWScSQgZhAxChjXwozUQMaP+Bz/z/4b1r//xXy9/+es/Xv78l/98+dOf//7yxz/97eUPf/yPl9//4a8vv/v9X15++7s/v/zmt396+fVv/vjyq1//4eW7X/3+5Zff/e77n1/88rcv4+fnv/jN8vO/fv7rlyM/P//Fr1/8YGANWAPWgDVgDVgD1oA1YA081xrY+9/y9X/75zyQ88E4K4wzwzg7jDPEOEuMM8U4W4wzxjhrjDPHOHuMM8g4i4wvWAkZDrE/OsSe9c2+Ote93REhY7RVzBibxvi5RcyogkYVNcbmlY3sSPvL73774gcDa8AasAasAWvAGrAGrAFr4LnWwLH/Lf/DF5vjDDDOBFXAuFXEIGQQMYgY1sB0DawJGfVWxp6YUW9n5IZGRI2huuYnG9le+6tfD7XWDwbWgDVgDVgD1oA1YA1YA9bAM62B/f8d/+1/++f2RcSLegtj7yZGbmOMM8n/BwSY0Z2G+9xUAAAAAElFTkSuQmCC)"
      ]
    },
    {
      "cell_type": "code",
      "metadata": {
        "id": "GGaxTPcGn0JM",
        "outputId": "1dffe4cc-4491-4a5a-b26c-bcfaeb71dc64",
        "colab": {
          "base_uri": "https://localhost:8080/"
        }
      },
      "source": [
        "threshold = 0.5\n",
        "pred  = (pred >=threshold)*1\n",
        "print('F1 Score : ', f1_score(y_val, pred),'mean is :' ,np.mean(pred))"
      ],
      "execution_count": 66,
      "outputs": [
        {
          "output_type": "stream",
          "text": [
            "F1 Score :  0.9998952682180934 mean is : 0.500115219440662\n"
          ],
          "name": "stdout"
        }
      ]
    },
    {
      "cell_type": "code",
      "metadata": {
        "id": "o5vC7QaXpAR7",
        "outputId": "d7f89126-b629-4e28-ae67-0ae0439b49f4",
        "colab": {
          "base_uri": "https://localhost:8080/"
        }
      },
      "source": [
        "from sklearn.metrics import f1_score, classification_report\n",
        "print(classification_report(y_val, pred))"
      ],
      "execution_count": 67,
      "outputs": [
        {
          "output_type": "stream",
          "text": [
            "              precision    recall  f1-score   support\n",
            "\n",
            "           0       1.00      1.00      1.00     23867\n",
            "           1       1.00      1.00      1.00     23868\n",
            "\n",
            "    accuracy                           1.00     47735\n",
            "   macro avg       1.00      1.00      1.00     47735\n",
            "weighted avg       1.00      1.00      1.00     47735\n",
            "\n"
          ],
          "name": "stdout"
        }
      ]
    },
    {
      "cell_type": "markdown",
      "metadata": {
        "id": "WQ3XO6QHpT8F"
      },
      "source": [
        "# **Create-Submission**"
      ]
    },
    {
      "cell_type": "code",
      "metadata": {
        "id": "J6L8mobYpPZr"
      },
      "source": [
        "test_pred = lgb_model.predict(test.values,num_iteration  = lgb_model.best_iteration)"
      ],
      "execution_count": 68,
      "outputs": []
    },
    {
      "cell_type": "code",
      "metadata": {
        "id": "BeaTlWHTpaKT",
        "outputId": "ce6c7e9a-0e69-4378-908e-f39bc2ed3702",
        "colab": {
          "base_uri": "https://localhost:8080/"
        }
      },
      "source": [
        "submission = pd.DataFrame()\n",
        "submission['CID X LOC_NUM X VENDOR'] = test_id\n",
        "submission['target'] = (test_pred >= threshold)*1\n",
        "submission.target.value_counts() , np.mean(submission.target)"
      ],
      "execution_count": 69,
      "outputs": [
        {
          "output_type": "execute_result",
          "data": {
            "text/plain": [
              "(0    44932\n",
              " 1       87\n",
              " Name: target, dtype: int64, 0.0019325173815500122)"
            ]
          },
          "metadata": {
            "tags": []
          },
          "execution_count": 69
        }
      ]
    },
    {
      "cell_type": "code",
      "metadata": {
        "id": "LOmo5HAFXEOO",
        "outputId": "2b99d22f-06a5-4509-d637-30646cffe10f",
        "colab": {
          "base_uri": "https://localhost:8080/",
          "height": 195
        }
      },
      "source": [
        "submission.head()"
      ],
      "execution_count": 70,
      "outputs": [
        {
          "output_type": "execute_result",
          "data": {
            "text/html": [
              "<div>\n",
              "<style scoped>\n",
              "    .dataframe tbody tr th:only-of-type {\n",
              "        vertical-align: middle;\n",
              "    }\n",
              "\n",
              "    .dataframe tbody tr th {\n",
              "        vertical-align: top;\n",
              "    }\n",
              "\n",
              "    .dataframe thead th {\n",
              "        text-align: right;\n",
              "    }\n",
              "</style>\n",
              "<table border=\"1\" class=\"dataframe\">\n",
              "  <thead>\n",
              "    <tr style=\"text-align: right;\">\n",
              "      <th></th>\n",
              "      <th>CID X LOC_NUM X VENDOR</th>\n",
              "      <th>target</th>\n",
              "    </tr>\n",
              "  </thead>\n",
              "  <tbody>\n",
              "    <tr>\n",
              "      <th>0</th>\n",
              "      <td>TransactionId_50600</td>\n",
              "      <td>0</td>\n",
              "    </tr>\n",
              "    <tr>\n",
              "      <th>1</th>\n",
              "      <td>TransactionId_95109</td>\n",
              "      <td>0</td>\n",
              "    </tr>\n",
              "    <tr>\n",
              "      <th>2</th>\n",
              "      <td>TransactionId_47357</td>\n",
              "      <td>0</td>\n",
              "    </tr>\n",
              "    <tr>\n",
              "      <th>3</th>\n",
              "      <td>TransactionId_28185</td>\n",
              "      <td>0</td>\n",
              "    </tr>\n",
              "    <tr>\n",
              "      <th>4</th>\n",
              "      <td>TransactionId_22140</td>\n",
              "      <td>0</td>\n",
              "    </tr>\n",
              "  </tbody>\n",
              "</table>\n",
              "</div>"
            ],
            "text/plain": [
              "  CID X LOC_NUM X VENDOR  target\n",
              "0    TransactionId_50600       0\n",
              "1    TransactionId_95109       0\n",
              "2    TransactionId_47357       0\n",
              "3    TransactionId_28185       0\n",
              "4    TransactionId_22140       0"
            ]
          },
          "metadata": {
            "tags": []
          },
          "execution_count": 70
        }
      ]
    },
    {
      "cell_type": "code",
      "metadata": {
        "id": "XNIOBH7GXKLV",
        "outputId": "49235bc7-fda8-43c2-c3b9-ee693bc44441",
        "colab": {
          "base_uri": "https://localhost:8080/"
        }
      },
      "source": [
        "submission.shape"
      ],
      "execution_count": 71,
      "outputs": [
        {
          "output_type": "execute_result",
          "data": {
            "text/plain": [
              "(45019, 2)"
            ]
          },
          "metadata": {
            "tags": []
          },
          "execution_count": 71
        }
      ]
    },
    {
      "cell_type": "code",
      "metadata": {
        "id": "RhTORJtgpct7"
      },
      "source": [
        "submission.to_csv('LGBM_thresh_{}.csv'.format(threshold), index=False)"
      ],
      "execution_count": null,
      "outputs": []
    },
    {
      "cell_type": "code",
      "metadata": {
        "id": "g7QmhZK8gdZs",
        "colab": {
          "background_save": true
        }
      },
      "source": [
        "#modéle 2 Random Forest Classifier\n",
        "\n",
        "\n",
        "\n",
        "\n"
      ],
      "execution_count": null,
      "outputs": []
    },
    {
      "cell_type": "code",
      "metadata": {
        "id": "5mVRBUlEglHe"
      },
      "source": [
        "clf = RandomForestClassifier(n_estimators=100,criterion='entropy',max_depth=100,random_state=17)"
      ],
      "execution_count": 57,
      "outputs": []
    },
    {
      "cell_type": "code",
      "metadata": {
        "id": "pVCuRkc5iDZa",
        "outputId": "164a5ab0-f6bc-4a1b-9aee-ebbc294c2bf0",
        "colab": {
          "base_uri": "https://localhost:8080/"
        }
      },
      "source": [
        "clf.fit(X_train,y_train)"
      ],
      "execution_count": 58,
      "outputs": [
        {
          "output_type": "execute_result",
          "data": {
            "text/plain": [
              "RandomForestClassifier(bootstrap=True, ccp_alpha=0.0, class_weight=None,\n",
              "                       criterion='entropy', max_depth=100, max_features='auto',\n",
              "                       max_leaf_nodes=None, max_samples=None,\n",
              "                       min_impurity_decrease=0.0, min_impurity_split=None,\n",
              "                       min_samples_leaf=1, min_samples_split=2,\n",
              "                       min_weight_fraction_leaf=0.0, n_estimators=100,\n",
              "                       n_jobs=None, oob_score=False, random_state=17, verbose=0,\n",
              "                       warm_start=False)"
            ]
          },
          "metadata": {
            "tags": []
          },
          "execution_count": 58
        }
      ]
    },
    {
      "cell_type": "code",
      "metadata": {
        "id": "g-dh0HAWiNOR"
      },
      "source": [
        "y_pred = clf.predict(X_val)"
      ],
      "execution_count": 59,
      "outputs": []
    },
    {
      "cell_type": "code",
      "metadata": {
        "id": "yRnymfwgich2",
        "outputId": "8d87a48a-466c-467e-b48c-e7430ee78a97",
        "colab": {
          "base_uri": "https://localhost:8080/"
        }
      },
      "source": [
        "threshold = 0.5\n",
        "y_pred  = (y_pred >=threshold)*1\n",
        "print('F1 Score : ', f1_score(y_val, y_pred),'mean is :' ,np.mean(y_pred))"
      ],
      "execution_count": 60,
      "outputs": [
        {
          "output_type": "stream",
          "text": [
            "F1 Score :  0.9999162128194387 mean is : 0.5000942704514507\n"
          ],
          "name": "stdout"
        }
      ]
    },
    {
      "cell_type": "code",
      "metadata": {
        "id": "JspJty4bi7Bo",
        "outputId": "fa0c2593-d373-4234-9e07-9be251815467",
        "colab": {
          "base_uri": "https://localhost:8080/"
        }
      },
      "source": [
        "from sklearn.metrics import f1_score, classification_report\n",
        "print(classification_report(y_val, y_pred))"
      ],
      "execution_count": null,
      "outputs": [
        {
          "output_type": "stream",
          "text": [
            "              precision    recall  f1-score   support\n",
            "\n",
            "           0       1.00      1.00      1.00     23867\n",
            "           1       1.00      1.00      1.00     23868\n",
            "\n",
            "    accuracy                           1.00     47735\n",
            "   macro avg       1.00      1.00      1.00     47735\n",
            "weighted avg       1.00      1.00      1.00     47735\n",
            "\n"
          ],
          "name": "stdout"
        }
      ]
    },
    {
      "cell_type": "code",
      "metadata": {
        "id": "T4lmtODKjEvP"
      },
      "source": [
        "test_pred1 = clf.predict(test.values)"
      ],
      "execution_count": null,
      "outputs": []
    },
    {
      "cell_type": "code",
      "metadata": {
        "id": "M95PeYinjb9m",
        "outputId": "cf2a80b4-c080-40b2-ee57-16dab0a9247d",
        "colab": {
          "base_uri": "https://localhost:8080/"
        }
      },
      "source": [
        "submission = pd.DataFrame()\n",
        "submission['CID X LOC_NUM X VENDOR'] = test_id\n",
        "submission['target'] = (test_pred1 >= threshold)*1\n",
        "submission.target.value_counts() , np.mean(submission.target)"
      ],
      "execution_count": null,
      "outputs": [
        {
          "output_type": "execute_result",
          "data": {
            "text/plain": [
              "(0    44951\n",
              " 1       68\n",
              " Name: target, dtype: int64, 0.0015104733556942625)"
            ]
          },
          "metadata": {
            "tags": []
          },
          "execution_count": 63
        }
      ]
    },
    {
      "cell_type": "code",
      "metadata": {
        "id": "bnQNonJwjgwx"
      },
      "source": [
        "submission.to_csv('Random_Forest.csv', index=False)"
      ],
      "execution_count": null,
      "outputs": []
    },
    {
      "cell_type": "code",
      "metadata": {
        "id": "f4zqan5N-qh1"
      },
      "source": [
        "# setup parameters for xgboost\n",
        "param = {}\n",
        "param['booster'] = 'gbtree'\n",
        "param['objective'] = 'multi:softmax'\n",
        "param[\"eval_metric\"] = \"error\"\n",
        "param['eta'] = 0.4\n",
        "param['max_depth'] = 3\n",
        "param['min_child_weight']=2\n",
        "param['subsample']= 1\n",
        "param['colsample_bytree']=1\n",
        "param['base_score'] = 0.6\n",
        "param['learning_rate'] = 0.1\n",
        "param['num_class'] = 2"
      ],
      "execution_count": null,
      "outputs": []
    },
    {
      "cell_type": "code",
      "metadata": {
        "id": "J2ewSqTz_AEQ",
        "outputId": "07a1663b-1c93-4fce-e89c-b41cb91061d0",
        "colab": {
          "base_uri": "https://localhost:8080/"
        }
      },
      "source": [
        "xcl.set_params(**param)"
      ],
      "execution_count": null,
      "outputs": [
        {
          "output_type": "execute_result",
          "data": {
            "text/plain": [
              "XGBClassifier(base_score=0.6, booster='gbtree', colsample_bylevel=1,\n",
              "              colsample_bynode=1, colsample_bytree=1, eta=0.4,\n",
              "              eval_metric='error', gamma=0, learning_rate=0.1, max_delta_step=0,\n",
              "              max_depth=3, min_child_weight=2, missing=None, n_estimators=100,\n",
              "              n_jobs=1, nthread=None, num_class=2, objective='multi:softmax',\n",
              "              random_state=0, reg_alpha=0, reg_lambda=1, scale_pos_weight=1,\n",
              "              seed=0, silent=1, subsample=1, verbosity=1)"
            ]
          },
          "metadata": {
            "tags": []
          },
          "execution_count": 108
        }
      ]
    },
    {
      "cell_type": "code",
      "metadata": {
        "id": "KfOVp9UO_N2t",
        "outputId": "5af232dd-1ae6-4494-932d-50150a8ab55a",
        "colab": {
          "base_uri": "https://localhost:8080/"
        }
      },
      "source": [
        "xcl.fit(X_train, y_train)\n",
        "pred3 = xcl.predict(X_val)\n",
        "print(f1_score(y_val,pred3))\n",
        "print(np.mean(pred3))"
      ],
      "execution_count": null,
      "outputs": [
        {
          "output_type": "stream",
          "text": [
            "0.999539344193643\n",
            "0.5004713522572536\n"
          ],
          "name": "stdout"
        }
      ]
    },
    {
      "cell_type": "code",
      "metadata": {
        "id": "4zjze6Hv_eia"
      },
      "source": [
        "# essayer d'améliorer le modéle de RandomForestClassifier"
      ],
      "execution_count": null,
      "outputs": []
    },
    {
      "cell_type": "code",
      "metadata": {
        "id": "HRgWAOuCESAG",
        "outputId": "dee7c2e5-7997-403e-d596-a18324d47f69",
        "colab": {
          "base_uri": "https://localhost:8080/"
        }
      },
      "source": [
        "clf = RandomForestClassifier(n_estimators=100,criterion='gini',max_depth=100,random_state=17)\n",
        "clf.fit(X_train,y_train)\n",
        "y_pred = clf.predict(X_val)\n",
        "threshold = 0.5\n",
        "y_pred  = (y_pred >=threshold)*1\n",
        "print('F1 Score : ', f1_score(y_val, y_pred),'mean is :' ,np.mean(y_pred))"
      ],
      "execution_count": null,
      "outputs": [
        {
          "output_type": "stream",
          "text": [
            "F1 Score :  0.9999371582982467 mean is : 0.5000733214622395\n"
          ],
          "name": "stdout"
        }
      ]
    },
    {
      "cell_type": "code",
      "metadata": {
        "id": "KCwhHRinFNML",
        "outputId": "13f29017-e354-4956-8cf9-1bf120015848",
        "colab": {
          "base_uri": "https://localhost:8080/"
        }
      },
      "source": [
        "from sklearn.metrics import f1_score, classification_report\n",
        "print(classification_report(y_val, y_pred))"
      ],
      "execution_count": null,
      "outputs": [
        {
          "output_type": "stream",
          "text": [
            "              precision    recall  f1-score   support\n",
            "\n",
            "           0       1.00      1.00      1.00     23867\n",
            "           1       1.00      1.00      1.00     23868\n",
            "\n",
            "    accuracy                           1.00     47735\n",
            "   macro avg       1.00      1.00      1.00     47735\n",
            "weighted avg       1.00      1.00      1.00     47735\n",
            "\n"
          ],
          "name": "stdout"
        }
      ]
    },
    {
      "cell_type": "code",
      "metadata": {
        "id": "iV_UGaHoFsO5"
      },
      "source": [
        "test_pred1 = clf.predict(test.values)\n",
        "submission = pd.DataFrame()\n",
        "submission['CID X LOC_NUM X VENDOR'] = test_id\n",
        "submission['target'] = (test_pred1 >= threshold)*1\n",
        "submission.target.value_counts() , np.mean(submission.target)\n",
        "submission.to_csv('Random_Forest_V2.csv', index=False)"
      ],
      "execution_count": null,
      "outputs": []
    },
    {
      "cell_type": "code",
      "metadata": {
        "id": "7QkaEVcRPuq0"
      },
      "source": [
        ""
      ],
      "execution_count": null,
      "outputs": []
    },
    {
      "cell_type": "code",
      "metadata": {
        "id": "hrmragX2Puf6"
      },
      "source": [
        ""
      ],
      "execution_count": null,
      "outputs": []
    },
    {
      "cell_type": "code",
      "metadata": {
        "id": "-imijFlgIZQe"
      },
      "source": [
        "#travail du 2éme jour"
      ],
      "execution_count": 44,
      "outputs": []
    },
    {
      "cell_type": "code",
      "metadata": {
        "id": "3cfVBbk004tD"
      },
      "source": [
        "#utiliser d'autres modéles"
      ],
      "execution_count": 45,
      "outputs": []
    },
    {
      "cell_type": "code",
      "metadata": {
        "id": "06zJn8-83Jhy",
        "outputId": "f697e830-fb5a-490a-da58-4ff8c8293362",
        "colab": {
          "base_uri": "https://localhost:8080/",
          "height": 215
        }
      },
      "source": [
        "#essayer de mieux utiliser les données\n",
        "X2 = X\n",
        "y2 = y\n",
        "X2.head()"
      ],
      "execution_count": 46,
      "outputs": [
        {
          "output_type": "execute_result",
          "data": {
            "text/html": [
              "<div>\n",
              "<style scoped>\n",
              "    .dataframe tbody tr th:only-of-type {\n",
              "        vertical-align: middle;\n",
              "    }\n",
              "\n",
              "    .dataframe tbody tr th {\n",
              "        vertical-align: top;\n",
              "    }\n",
              "\n",
              "    .dataframe thead th {\n",
              "        text-align: right;\n",
              "    }\n",
              "</style>\n",
              "<table border=\"1\" class=\"dataframe\">\n",
              "  <thead>\n",
              "    <tr style=\"text-align: right;\">\n",
              "      <th></th>\n",
              "      <th>BatchId</th>\n",
              "      <th>AccountId</th>\n",
              "      <th>SubscriptionId</th>\n",
              "      <th>CustomerId</th>\n",
              "      <th>ProviderId</th>\n",
              "      <th>ProductId</th>\n",
              "      <th>ProductCategory</th>\n",
              "      <th>ChannelId</th>\n",
              "      <th>Amount</th>\n",
              "      <th>Value</th>\n",
              "      <th>PricingStrategy</th>\n",
              "      <th>hour</th>\n",
              "      <th>minute</th>\n",
              "      <th>day</th>\n",
              "    </tr>\n",
              "  </thead>\n",
              "  <tbody>\n",
              "    <tr>\n",
              "      <th>0</th>\n",
              "      <td>46980</td>\n",
              "      <td>2490</td>\n",
              "      <td>3535</td>\n",
              "      <td>2584</td>\n",
              "      <td>5</td>\n",
              "      <td>1</td>\n",
              "      <td>0</td>\n",
              "      <td>2</td>\n",
              "      <td>1000.0</td>\n",
              "      <td>1000</td>\n",
              "      <td>2</td>\n",
              "      <td>2</td>\n",
              "      <td>18</td>\n",
              "      <td>3</td>\n",
              "    </tr>\n",
              "    <tr>\n",
              "      <th>1</th>\n",
              "      <td>31755</td>\n",
              "      <td>3219</td>\n",
              "      <td>2366</td>\n",
              "      <td>2584</td>\n",
              "      <td>3</td>\n",
              "      <td>19</td>\n",
              "      <td>2</td>\n",
              "      <td>1</td>\n",
              "      <td>-20.0</td>\n",
              "      <td>20</td>\n",
              "      <td>2</td>\n",
              "      <td>2</td>\n",
              "      <td>19</td>\n",
              "      <td>3</td>\n",
              "    </tr>\n",
              "    <tr>\n",
              "      <th>2</th>\n",
              "      <td>60272</td>\n",
              "      <td>2713</td>\n",
              "      <td>996</td>\n",
              "      <td>2806</td>\n",
              "      <td>5</td>\n",
              "      <td>0</td>\n",
              "      <td>0</td>\n",
              "      <td>2</td>\n",
              "      <td>500.0</td>\n",
              "      <td>500</td>\n",
              "      <td>2</td>\n",
              "      <td>2</td>\n",
              "      <td>44</td>\n",
              "      <td>3</td>\n",
              "    </tr>\n",
              "    <tr>\n",
              "      <th>3</th>\n",
              "      <td>1797</td>\n",
              "      <td>3351</td>\n",
              "      <td>974</td>\n",
              "      <td>3733</td>\n",
              "      <td>0</td>\n",
              "      <td>11</td>\n",
              "      <td>8</td>\n",
              "      <td>2</td>\n",
              "      <td>20000.0</td>\n",
              "      <td>21800</td>\n",
              "      <td>2</td>\n",
              "      <td>3</td>\n",
              "      <td>32</td>\n",
              "      <td>3</td>\n",
              "    </tr>\n",
              "    <tr>\n",
              "      <th>4</th>\n",
              "      <td>48941</td>\n",
              "      <td>3219</td>\n",
              "      <td>2366</td>\n",
              "      <td>3733</td>\n",
              "      <td>3</td>\n",
              "      <td>19</td>\n",
              "      <td>2</td>\n",
              "      <td>1</td>\n",
              "      <td>-644.0</td>\n",
              "      <td>644</td>\n",
              "      <td>2</td>\n",
              "      <td>3</td>\n",
              "      <td>34</td>\n",
              "      <td>3</td>\n",
              "    </tr>\n",
              "  </tbody>\n",
              "</table>\n",
              "</div>"
            ],
            "text/plain": [
              "   BatchId  AccountId  SubscriptionId  ...  hour  minute  day\n",
              "0    46980       2490            3535  ...     2      18    3\n",
              "1    31755       3219            2366  ...     2      19    3\n",
              "2    60272       2713             996  ...     2      44    3\n",
              "3     1797       3351             974  ...     3      32    3\n",
              "4    48941       3219            2366  ...     3      34    3\n",
              "\n",
              "[5 rows x 14 columns]"
            ]
          },
          "metadata": {
            "tags": []
          },
          "execution_count": 46
        }
      ]
    },
    {
      "cell_type": "code",
      "metadata": {
        "id": "arvro0G7_ogX",
        "outputId": "7577cc47-f907-46ad-8006-37317a21da2a",
        "colab": {
          "base_uri": "https://localhost:8080/"
        }
      },
      "source": [
        "X2.shape"
      ],
      "execution_count": 47,
      "outputs": [
        {
          "output_type": "execute_result",
          "data": {
            "text/plain": [
              "(190938, 14)"
            ]
          },
          "metadata": {
            "tags": []
          },
          "execution_count": 47
        }
      ]
    },
    {
      "cell_type": "code",
      "metadata": {
        "id": "O6iZoQ5LASA7"
      },
      "source": [
        "X2['Time'] = X2.minute + X2.hour * 60 + X2.day * 1440"
      ],
      "execution_count": 48,
      "outputs": []
    },
    {
      "cell_type": "code",
      "metadata": {
        "id": "yo8_25q3BDRJ"
      },
      "source": [
        "X2.drop(['minute','hour','day'],axis=1,inplace=True)"
      ],
      "execution_count": 49,
      "outputs": []
    },
    {
      "cell_type": "code",
      "metadata": {
        "id": "AvA3bHgHEX1a",
        "outputId": "cd6752c7-1298-40dc-945e-ed5b9a51f92d",
        "colab": {
          "base_uri": "https://localhost:8080/"
        }
      },
      "source": [
        "X2.Time.max()"
      ],
      "execution_count": 50,
      "outputs": [
        {
          "output_type": "execute_result",
          "data": {
            "text/plain": [
              "10076"
            ]
          },
          "metadata": {
            "tags": []
          },
          "execution_count": 50
        }
      ]
    },
    {
      "cell_type": "code",
      "metadata": {
        "id": "6qsPG_iABNYf",
        "outputId": "dac45b1c-ce07-40c2-e4f3-566f4b6f1b7a",
        "colab": {
          "base_uri": "https://localhost:8080/",
          "height": 195
        }
      },
      "source": [
        "X2.head()"
      ],
      "execution_count": 51,
      "outputs": [
        {
          "output_type": "execute_result",
          "data": {
            "text/html": [
              "<div>\n",
              "<style scoped>\n",
              "    .dataframe tbody tr th:only-of-type {\n",
              "        vertical-align: middle;\n",
              "    }\n",
              "\n",
              "    .dataframe tbody tr th {\n",
              "        vertical-align: top;\n",
              "    }\n",
              "\n",
              "    .dataframe thead th {\n",
              "        text-align: right;\n",
              "    }\n",
              "</style>\n",
              "<table border=\"1\" class=\"dataframe\">\n",
              "  <thead>\n",
              "    <tr style=\"text-align: right;\">\n",
              "      <th></th>\n",
              "      <th>BatchId</th>\n",
              "      <th>AccountId</th>\n",
              "      <th>SubscriptionId</th>\n",
              "      <th>CustomerId</th>\n",
              "      <th>ProviderId</th>\n",
              "      <th>ProductId</th>\n",
              "      <th>ProductCategory</th>\n",
              "      <th>ChannelId</th>\n",
              "      <th>Amount</th>\n",
              "      <th>Value</th>\n",
              "      <th>PricingStrategy</th>\n",
              "      <th>Time</th>\n",
              "    </tr>\n",
              "  </thead>\n",
              "  <tbody>\n",
              "    <tr>\n",
              "      <th>0</th>\n",
              "      <td>46980</td>\n",
              "      <td>2490</td>\n",
              "      <td>3535</td>\n",
              "      <td>2584</td>\n",
              "      <td>5</td>\n",
              "      <td>1</td>\n",
              "      <td>0</td>\n",
              "      <td>2</td>\n",
              "      <td>1000.0</td>\n",
              "      <td>1000</td>\n",
              "      <td>2</td>\n",
              "      <td>4458</td>\n",
              "    </tr>\n",
              "    <tr>\n",
              "      <th>1</th>\n",
              "      <td>31755</td>\n",
              "      <td>3219</td>\n",
              "      <td>2366</td>\n",
              "      <td>2584</td>\n",
              "      <td>3</td>\n",
              "      <td>19</td>\n",
              "      <td>2</td>\n",
              "      <td>1</td>\n",
              "      <td>-20.0</td>\n",
              "      <td>20</td>\n",
              "      <td>2</td>\n",
              "      <td>4459</td>\n",
              "    </tr>\n",
              "    <tr>\n",
              "      <th>2</th>\n",
              "      <td>60272</td>\n",
              "      <td>2713</td>\n",
              "      <td>996</td>\n",
              "      <td>2806</td>\n",
              "      <td>5</td>\n",
              "      <td>0</td>\n",
              "      <td>0</td>\n",
              "      <td>2</td>\n",
              "      <td>500.0</td>\n",
              "      <td>500</td>\n",
              "      <td>2</td>\n",
              "      <td>4484</td>\n",
              "    </tr>\n",
              "    <tr>\n",
              "      <th>3</th>\n",
              "      <td>1797</td>\n",
              "      <td>3351</td>\n",
              "      <td>974</td>\n",
              "      <td>3733</td>\n",
              "      <td>0</td>\n",
              "      <td>11</td>\n",
              "      <td>8</td>\n",
              "      <td>2</td>\n",
              "      <td>20000.0</td>\n",
              "      <td>21800</td>\n",
              "      <td>2</td>\n",
              "      <td>4532</td>\n",
              "    </tr>\n",
              "    <tr>\n",
              "      <th>4</th>\n",
              "      <td>48941</td>\n",
              "      <td>3219</td>\n",
              "      <td>2366</td>\n",
              "      <td>3733</td>\n",
              "      <td>3</td>\n",
              "      <td>19</td>\n",
              "      <td>2</td>\n",
              "      <td>1</td>\n",
              "      <td>-644.0</td>\n",
              "      <td>644</td>\n",
              "      <td>2</td>\n",
              "      <td>4534</td>\n",
              "    </tr>\n",
              "  </tbody>\n",
              "</table>\n",
              "</div>"
            ],
            "text/plain": [
              "   BatchId  AccountId  SubscriptionId  ...  Value  PricingStrategy  Time\n",
              "0    46980       2490            3535  ...   1000                2  4458\n",
              "1    31755       3219            2366  ...     20                2  4459\n",
              "2    60272       2713             996  ...    500                2  4484\n",
              "3     1797       3351             974  ...  21800                2  4532\n",
              "4    48941       3219            2366  ...    644                2  4534\n",
              "\n",
              "[5 rows x 12 columns]"
            ]
          },
          "metadata": {
            "tags": []
          },
          "execution_count": 51
        }
      ]
    },
    {
      "cell_type": "code",
      "metadata": {
        "id": "e4P-K7vIBQRe"
      },
      "source": [
        "X2['Amount'] = X2['Amount'].astype('int64')"
      ],
      "execution_count": 52,
      "outputs": []
    },
    {
      "cell_type": "code",
      "metadata": {
        "id": "ddLP9ztKBpSh",
        "outputId": "ca65bfd8-58b9-44f8-fce0-d2f56121d388",
        "colab": {
          "base_uri": "https://localhost:8080/"
        }
      },
      "source": [
        "X2.info()"
      ],
      "execution_count": 53,
      "outputs": [
        {
          "output_type": "stream",
          "text": [
            "<class 'pandas.core.frame.DataFrame'>\n",
            "Int64Index: 190938 entries, 0 to 65321\n",
            "Data columns (total 12 columns):\n",
            " #   Column           Non-Null Count   Dtype\n",
            "---  ------           --------------   -----\n",
            " 0   BatchId          190938 non-null  int64\n",
            " 1   AccountId        190938 non-null  int64\n",
            " 2   SubscriptionId   190938 non-null  int64\n",
            " 3   CustomerId       190938 non-null  int64\n",
            " 4   ProviderId       190938 non-null  int64\n",
            " 5   ProductId        190938 non-null  int64\n",
            " 6   ProductCategory  190938 non-null  int64\n",
            " 7   ChannelId        190938 non-null  int64\n",
            " 8   Amount           190938 non-null  int64\n",
            " 9   Value            190938 non-null  int64\n",
            " 10  PricingStrategy  190938 non-null  int64\n",
            " 11  Time             190938 non-null  int64\n",
            "dtypes: int64(12)\n",
            "memory usage: 18.9 MB\n"
          ],
          "name": "stdout"
        }
      ]
    },
    {
      "cell_type": "code",
      "metadata": {
        "id": "QJlpTmGoCiBQ"
      },
      "source": [
        "X2['diff'] = abs(X2.Value) - abs(X2.Amount)"
      ],
      "execution_count": 61,
      "outputs": []
    },
    {
      "cell_type": "code",
      "metadata": {
        "id": "Sg71AoNrJn8w",
        "outputId": "274da69f-6d1a-447b-a7a4-190b14db7d5e",
        "colab": {
          "base_uri": "https://localhost:8080/",
          "height": 195
        }
      },
      "source": [
        "X2.head()"
      ],
      "execution_count": 62,
      "outputs": [
        {
          "output_type": "execute_result",
          "data": {
            "text/html": [
              "<div>\n",
              "<style scoped>\n",
              "    .dataframe tbody tr th:only-of-type {\n",
              "        vertical-align: middle;\n",
              "    }\n",
              "\n",
              "    .dataframe tbody tr th {\n",
              "        vertical-align: top;\n",
              "    }\n",
              "\n",
              "    .dataframe thead th {\n",
              "        text-align: right;\n",
              "    }\n",
              "</style>\n",
              "<table border=\"1\" class=\"dataframe\">\n",
              "  <thead>\n",
              "    <tr style=\"text-align: right;\">\n",
              "      <th></th>\n",
              "      <th>BatchId</th>\n",
              "      <th>AccountId</th>\n",
              "      <th>SubscriptionId</th>\n",
              "      <th>CustomerId</th>\n",
              "      <th>ProviderId</th>\n",
              "      <th>ProductId</th>\n",
              "      <th>ProductCategory</th>\n",
              "      <th>ChannelId</th>\n",
              "      <th>Amount</th>\n",
              "      <th>Value</th>\n",
              "      <th>PricingStrategy</th>\n",
              "      <th>Time</th>\n",
              "      <th>diff</th>\n",
              "    </tr>\n",
              "  </thead>\n",
              "  <tbody>\n",
              "    <tr>\n",
              "      <th>0</th>\n",
              "      <td>46980</td>\n",
              "      <td>2490</td>\n",
              "      <td>3535</td>\n",
              "      <td>2584</td>\n",
              "      <td>5</td>\n",
              "      <td>1</td>\n",
              "      <td>0</td>\n",
              "      <td>2</td>\n",
              "      <td>1000</td>\n",
              "      <td>1000</td>\n",
              "      <td>2</td>\n",
              "      <td>4458</td>\n",
              "      <td>0</td>\n",
              "    </tr>\n",
              "    <tr>\n",
              "      <th>1</th>\n",
              "      <td>31755</td>\n",
              "      <td>3219</td>\n",
              "      <td>2366</td>\n",
              "      <td>2584</td>\n",
              "      <td>3</td>\n",
              "      <td>19</td>\n",
              "      <td>2</td>\n",
              "      <td>1</td>\n",
              "      <td>-20</td>\n",
              "      <td>20</td>\n",
              "      <td>2</td>\n",
              "      <td>4459</td>\n",
              "      <td>0</td>\n",
              "    </tr>\n",
              "    <tr>\n",
              "      <th>2</th>\n",
              "      <td>60272</td>\n",
              "      <td>2713</td>\n",
              "      <td>996</td>\n",
              "      <td>2806</td>\n",
              "      <td>5</td>\n",
              "      <td>0</td>\n",
              "      <td>0</td>\n",
              "      <td>2</td>\n",
              "      <td>500</td>\n",
              "      <td>500</td>\n",
              "      <td>2</td>\n",
              "      <td>4484</td>\n",
              "      <td>0</td>\n",
              "    </tr>\n",
              "    <tr>\n",
              "      <th>3</th>\n",
              "      <td>1797</td>\n",
              "      <td>3351</td>\n",
              "      <td>974</td>\n",
              "      <td>3733</td>\n",
              "      <td>0</td>\n",
              "      <td>11</td>\n",
              "      <td>8</td>\n",
              "      <td>2</td>\n",
              "      <td>20000</td>\n",
              "      <td>21800</td>\n",
              "      <td>2</td>\n",
              "      <td>4532</td>\n",
              "      <td>1800</td>\n",
              "    </tr>\n",
              "    <tr>\n",
              "      <th>4</th>\n",
              "      <td>48941</td>\n",
              "      <td>3219</td>\n",
              "      <td>2366</td>\n",
              "      <td>3733</td>\n",
              "      <td>3</td>\n",
              "      <td>19</td>\n",
              "      <td>2</td>\n",
              "      <td>1</td>\n",
              "      <td>-644</td>\n",
              "      <td>644</td>\n",
              "      <td>2</td>\n",
              "      <td>4534</td>\n",
              "      <td>0</td>\n",
              "    </tr>\n",
              "  </tbody>\n",
              "</table>\n",
              "</div>"
            ],
            "text/plain": [
              "   BatchId  AccountId  SubscriptionId  ...  PricingStrategy  Time  diff\n",
              "0    46980       2490            3535  ...                2  4458     0\n",
              "1    31755       3219            2366  ...                2  4459     0\n",
              "2    60272       2713             996  ...                2  4484     0\n",
              "3     1797       3351             974  ...                2  4532  1800\n",
              "4    48941       3219            2366  ...                2  4534     0\n",
              "\n",
              "[5 rows x 13 columns]"
            ]
          },
          "metadata": {
            "tags": []
          },
          "execution_count": 62
        }
      ]
    },
    {
      "cell_type": "code",
      "metadata": {
        "id": "328nngJIOzYp",
        "outputId": "87dd13aa-f1fe-498d-8913-9955275a9fd7",
        "colab": {
          "base_uri": "https://localhost:8080/"
        }
      },
      "source": [
        "X2.PricingStrategy.value_counts()"
      ],
      "execution_count": 57,
      "outputs": [
        {
          "output_type": "execute_result",
          "data": {
            "text/plain": [
              "2    148355\n",
              "4     18897\n",
              "0     18275\n",
              "1      5411\n",
              "Name: PricingStrategy, dtype: int64"
            ]
          },
          "metadata": {
            "tags": []
          },
          "execution_count": 57
        }
      ]
    },
    {
      "cell_type": "code",
      "metadata": {
        "id": "O54hr6slbvzx",
        "outputId": "57392373-ffdc-4b0b-b8e3-997ba7d48bfd",
        "colab": {
          "base_uri": "https://localhost:8080/"
        }
      },
      "source": [
        "X2['Amount'][1]"
      ],
      "execution_count": 77,
      "outputs": [
        {
          "output_type": "execute_result",
          "data": {
            "text/plain": [
              "-20"
            ]
          },
          "metadata": {
            "tags": []
          },
          "execution_count": 77
        }
      ]
    },
    {
      "cell_type": "code",
      "metadata": {
        "id": "vA2vyyKRQuTt"
      },
      "source": [
        "diff2 =np.ones((X2.shape[0],1))\n",
        "diff2 = [X2.Amount == X2.Value]\n"
      ],
      "execution_count": 78,
      "outputs": []
    },
    {
      "cell_type": "code",
      "metadata": {
        "id": "IyuiEElTcbsp",
        "outputId": "3f74db2a-36f6-42fa-e6a8-c650ef478a0c",
        "colab": {
          "base_uri": "https://localhost:8080/"
        }
      },
      "source": [
        "X2['Amount'][1] == X2['Value'][1]"
      ],
      "execution_count": 84,
      "outputs": [
        {
          "output_type": "execute_result",
          "data": {
            "text/plain": [
              "False"
            ]
          },
          "metadata": {
            "tags": []
          },
          "execution_count": 84
        }
      ]
    },
    {
      "cell_type": "code",
      "metadata": {
        "id": "SOvuCy9qd3Rc",
        "outputId": "a99c4bfa-5e52-43e4-8ce3-641b7a2a04f8",
        "colab": {
          "base_uri": "https://localhost:8080/",
          "height": 215
        }
      },
      "source": [
        "X2.head()"
      ],
      "execution_count": 86,
      "outputs": [
        {
          "output_type": "execute_result",
          "data": {
            "text/html": [
              "<div>\n",
              "<style scoped>\n",
              "    .dataframe tbody tr th:only-of-type {\n",
              "        vertical-align: middle;\n",
              "    }\n",
              "\n",
              "    .dataframe tbody tr th {\n",
              "        vertical-align: top;\n",
              "    }\n",
              "\n",
              "    .dataframe thead th {\n",
              "        text-align: right;\n",
              "    }\n",
              "</style>\n",
              "<table border=\"1\" class=\"dataframe\">\n",
              "  <thead>\n",
              "    <tr style=\"text-align: right;\">\n",
              "      <th></th>\n",
              "      <th>BatchId</th>\n",
              "      <th>AccountId</th>\n",
              "      <th>SubscriptionId</th>\n",
              "      <th>CustomerId</th>\n",
              "      <th>ProviderId</th>\n",
              "      <th>ProductId</th>\n",
              "      <th>ProductCategory</th>\n",
              "      <th>ChannelId</th>\n",
              "      <th>Amount</th>\n",
              "      <th>Value</th>\n",
              "      <th>PricingStrategy</th>\n",
              "      <th>Time</th>\n",
              "      <th>diff</th>\n",
              "      <th>diff2</th>\n",
              "    </tr>\n",
              "  </thead>\n",
              "  <tbody>\n",
              "    <tr>\n",
              "      <th>0</th>\n",
              "      <td>46980</td>\n",
              "      <td>2490</td>\n",
              "      <td>3535</td>\n",
              "      <td>2584</td>\n",
              "      <td>5</td>\n",
              "      <td>1</td>\n",
              "      <td>0</td>\n",
              "      <td>2</td>\n",
              "      <td>1000</td>\n",
              "      <td>1000</td>\n",
              "      <td>2</td>\n",
              "      <td>4458</td>\n",
              "      <td>0</td>\n",
              "      <td>0</td>\n",
              "    </tr>\n",
              "    <tr>\n",
              "      <th>1</th>\n",
              "      <td>31755</td>\n",
              "      <td>3219</td>\n",
              "      <td>2366</td>\n",
              "      <td>2584</td>\n",
              "      <td>3</td>\n",
              "      <td>19</td>\n",
              "      <td>2</td>\n",
              "      <td>1</td>\n",
              "      <td>-20</td>\n",
              "      <td>20</td>\n",
              "      <td>2</td>\n",
              "      <td>4459</td>\n",
              "      <td>0</td>\n",
              "      <td>0</td>\n",
              "    </tr>\n",
              "    <tr>\n",
              "      <th>2</th>\n",
              "      <td>60272</td>\n",
              "      <td>2713</td>\n",
              "      <td>996</td>\n",
              "      <td>2806</td>\n",
              "      <td>5</td>\n",
              "      <td>0</td>\n",
              "      <td>0</td>\n",
              "      <td>2</td>\n",
              "      <td>500</td>\n",
              "      <td>500</td>\n",
              "      <td>2</td>\n",
              "      <td>4484</td>\n",
              "      <td>0</td>\n",
              "      <td>0</td>\n",
              "    </tr>\n",
              "    <tr>\n",
              "      <th>3</th>\n",
              "      <td>1797</td>\n",
              "      <td>3351</td>\n",
              "      <td>974</td>\n",
              "      <td>3733</td>\n",
              "      <td>0</td>\n",
              "      <td>11</td>\n",
              "      <td>8</td>\n",
              "      <td>2</td>\n",
              "      <td>20000</td>\n",
              "      <td>21800</td>\n",
              "      <td>2</td>\n",
              "      <td>4532</td>\n",
              "      <td>1800</td>\n",
              "      <td>1800</td>\n",
              "    </tr>\n",
              "    <tr>\n",
              "      <th>4</th>\n",
              "      <td>48941</td>\n",
              "      <td>3219</td>\n",
              "      <td>2366</td>\n",
              "      <td>3733</td>\n",
              "      <td>3</td>\n",
              "      <td>19</td>\n",
              "      <td>2</td>\n",
              "      <td>1</td>\n",
              "      <td>-644</td>\n",
              "      <td>644</td>\n",
              "      <td>2</td>\n",
              "      <td>4534</td>\n",
              "      <td>0</td>\n",
              "      <td>0</td>\n",
              "    </tr>\n",
              "  </tbody>\n",
              "</table>\n",
              "</div>"
            ],
            "text/plain": [
              "   BatchId  AccountId  SubscriptionId  ...  Time  diff  diff2\n",
              "0    46980       2490            3535  ...  4458     0      0\n",
              "1    31755       3219            2366  ...  4459     0      0\n",
              "2    60272       2713             996  ...  4484     0      0\n",
              "3     1797       3351             974  ...  4532  1800   1800\n",
              "4    48941       3219            2366  ...  4534     0      0\n",
              "\n",
              "[5 rows x 14 columns]"
            ]
          },
          "metadata": {
            "tags": []
          },
          "execution_count": 86
        }
      ]
    },
    {
      "cell_type": "code",
      "metadata": {
        "id": "SydvA5zJeJeS"
      },
      "source": [
        "X2.drop('diff2',axis=1,inplace=True)"
      ],
      "execution_count": 94,
      "outputs": []
    },
    {
      "cell_type": "code",
      "metadata": {
        "id": "yQ2mAqsmfhqZ"
      },
      "source": [
        "X2['diff2'] = X2.Value - X2.Amount"
      ],
      "execution_count": 95,
      "outputs": []
    },
    {
      "cell_type": "code",
      "metadata": {
        "id": "Ka5xcBeyfmvU",
        "outputId": "5fc9daac-7a11-498b-9ac8-4b527848bdb8",
        "colab": {
          "base_uri": "https://localhost:8080/",
          "height": 215
        }
      },
      "source": [
        "X2.head()"
      ],
      "execution_count": 96,
      "outputs": [
        {
          "output_type": "execute_result",
          "data": {
            "text/html": [
              "<div>\n",
              "<style scoped>\n",
              "    .dataframe tbody tr th:only-of-type {\n",
              "        vertical-align: middle;\n",
              "    }\n",
              "\n",
              "    .dataframe tbody tr th {\n",
              "        vertical-align: top;\n",
              "    }\n",
              "\n",
              "    .dataframe thead th {\n",
              "        text-align: right;\n",
              "    }\n",
              "</style>\n",
              "<table border=\"1\" class=\"dataframe\">\n",
              "  <thead>\n",
              "    <tr style=\"text-align: right;\">\n",
              "      <th></th>\n",
              "      <th>BatchId</th>\n",
              "      <th>AccountId</th>\n",
              "      <th>SubscriptionId</th>\n",
              "      <th>CustomerId</th>\n",
              "      <th>ProviderId</th>\n",
              "      <th>ProductId</th>\n",
              "      <th>ProductCategory</th>\n",
              "      <th>ChannelId</th>\n",
              "      <th>Amount</th>\n",
              "      <th>Value</th>\n",
              "      <th>PricingStrategy</th>\n",
              "      <th>Time</th>\n",
              "      <th>diff</th>\n",
              "      <th>diff2</th>\n",
              "    </tr>\n",
              "  </thead>\n",
              "  <tbody>\n",
              "    <tr>\n",
              "      <th>0</th>\n",
              "      <td>46980</td>\n",
              "      <td>2490</td>\n",
              "      <td>3535</td>\n",
              "      <td>2584</td>\n",
              "      <td>5</td>\n",
              "      <td>1</td>\n",
              "      <td>0</td>\n",
              "      <td>2</td>\n",
              "      <td>1000</td>\n",
              "      <td>1000</td>\n",
              "      <td>2</td>\n",
              "      <td>4458</td>\n",
              "      <td>0</td>\n",
              "      <td>0</td>\n",
              "    </tr>\n",
              "    <tr>\n",
              "      <th>1</th>\n",
              "      <td>31755</td>\n",
              "      <td>3219</td>\n",
              "      <td>2366</td>\n",
              "      <td>2584</td>\n",
              "      <td>3</td>\n",
              "      <td>19</td>\n",
              "      <td>2</td>\n",
              "      <td>1</td>\n",
              "      <td>-20</td>\n",
              "      <td>20</td>\n",
              "      <td>2</td>\n",
              "      <td>4459</td>\n",
              "      <td>0</td>\n",
              "      <td>40</td>\n",
              "    </tr>\n",
              "    <tr>\n",
              "      <th>2</th>\n",
              "      <td>60272</td>\n",
              "      <td>2713</td>\n",
              "      <td>996</td>\n",
              "      <td>2806</td>\n",
              "      <td>5</td>\n",
              "      <td>0</td>\n",
              "      <td>0</td>\n",
              "      <td>2</td>\n",
              "      <td>500</td>\n",
              "      <td>500</td>\n",
              "      <td>2</td>\n",
              "      <td>4484</td>\n",
              "      <td>0</td>\n",
              "      <td>0</td>\n",
              "    </tr>\n",
              "    <tr>\n",
              "      <th>3</th>\n",
              "      <td>1797</td>\n",
              "      <td>3351</td>\n",
              "      <td>974</td>\n",
              "      <td>3733</td>\n",
              "      <td>0</td>\n",
              "      <td>11</td>\n",
              "      <td>8</td>\n",
              "      <td>2</td>\n",
              "      <td>20000</td>\n",
              "      <td>21800</td>\n",
              "      <td>2</td>\n",
              "      <td>4532</td>\n",
              "      <td>1800</td>\n",
              "      <td>1800</td>\n",
              "    </tr>\n",
              "    <tr>\n",
              "      <th>4</th>\n",
              "      <td>48941</td>\n",
              "      <td>3219</td>\n",
              "      <td>2366</td>\n",
              "      <td>3733</td>\n",
              "      <td>3</td>\n",
              "      <td>19</td>\n",
              "      <td>2</td>\n",
              "      <td>1</td>\n",
              "      <td>-644</td>\n",
              "      <td>644</td>\n",
              "      <td>2</td>\n",
              "      <td>4534</td>\n",
              "      <td>0</td>\n",
              "      <td>1288</td>\n",
              "    </tr>\n",
              "  </tbody>\n",
              "</table>\n",
              "</div>"
            ],
            "text/plain": [
              "   BatchId  AccountId  SubscriptionId  ...  Time  diff  diff2\n",
              "0    46980       2490            3535  ...  4458     0      0\n",
              "1    31755       3219            2366  ...  4459     0     40\n",
              "2    60272       2713             996  ...  4484     0      0\n",
              "3     1797       3351             974  ...  4532  1800   1800\n",
              "4    48941       3219            2366  ...  4534     0   1288\n",
              "\n",
              "[5 rows x 14 columns]"
            ]
          },
          "metadata": {
            "tags": []
          },
          "execution_count": 96
        }
      ]
    },
    {
      "cell_type": "code",
      "metadata": {
        "id": "tvrSQ--1P1_E",
        "outputId": "bf1d954f-93cf-4c6a-c6f8-05c943ce60ef",
        "colab": {
          "base_uri": "https://localhost:8080/"
        }
      },
      "source": [
        "X2.ProviderId.value_counts()"
      ],
      "execution_count": 97,
      "outputs": [
        {
          "output_type": "execute_result",
          "data": {
            "text/plain": [
              "4    45947\n",
              "3    40611\n",
              "5    35657\n",
              "2    34879\n",
              "0    33826\n",
              "1       18\n",
              "Name: ProviderId, dtype: int64"
            ]
          },
          "metadata": {
            "tags": []
          },
          "execution_count": 97
        }
      ]
    },
    {
      "cell_type": "code",
      "metadata": {
        "id": "5FfS6jrTQHmr",
        "outputId": "91ce3b79-2389-427d-d183-d9180e9a2ae6",
        "colab": {
          "base_uri": "https://localhost:8080/"
        }
      },
      "source": [
        "X2.ChannelId.value_counts()"
      ],
      "execution_count": 98,
      "outputs": [
        {
          "output_type": "execute_result",
          "data": {
            "text/plain": [
              "2    147843\n",
              "1     39563\n",
              "0      2484\n",
              "3      1048\n",
              "Name: ChannelId, dtype: int64"
            ]
          },
          "metadata": {
            "tags": []
          },
          "execution_count": 98
        }
      ]
    },
    {
      "cell_type": "code",
      "metadata": {
        "id": "e7tqHrjso4EO",
        "outputId": "d2def1e7-bf4e-4a69-dd99-d779df4c56e2",
        "colab": {
          "base_uri": "https://localhost:8080/",
          "height": 360
        }
      },
      "source": [
        "# Calculate and plot\n",
        "mat = X2.corr()\n",
        "sns.heatmap(mat)"
      ],
      "execution_count": 108,
      "outputs": [
        {
          "output_type": "execute_result",
          "data": {
            "text/plain": [
              "<matplotlib.axes._subplots.AxesSubplot at 0x7f6d3acc4b38>"
            ]
          },
          "metadata": {
            "tags": []
          },
          "execution_count": 108
        },
        {
          "output_type": "display_data",
          "data": {
            "image/png": "[encoded data removed]",
            "text/plain": [
              "<Figure size 432x288 with 2 Axes>"
            ]
          },
          "metadata": {
            "tags": [],
            "needs_background": "light"
          }
        }
      ]
    },
    {
      "cell_type": "code",
      "metadata": {
        "id": "NQfvxKHvpmp0",
        "outputId": "c232c3d7-1484-4eb9-f16f-04e96e64863c",
        "colab": {
          "base_uri": "https://localhost:8080/"
        }
      },
      "source": [
        "from sklearn.model_selection import cross_val_score, StratifiedKFold, GridSearchCV\n",
        "# Initialize a stratified split of our dataset for the validation process\n",
        "skf = StratifiedKFold(n_splits=5, shuffle=True, random_state=42)\n",
        "\n",
        "# Initialize the classifier with the default parameters \n",
        "rfc = RandomForestClassifier(n_estimators=100,criterion='entropy',max_depth=100,random_state=17)\n",
        "\n",
        "# Train it on the training set\n",
        "results = cross_val_score(rfc, X2, y2, cv=skf)\n",
        "\n",
        "# Evaluate the accuracy on the test set\n",
        "print(\"CV accuracy score: {:.2f}%\".format(results.mean() * 100))"
      ],
      "execution_count": 109,
      "outputs": [
        {
          "output_type": "stream",
          "text": [
            "CV accuracy score: 99.99%\n"
          ],
          "name": "stdout"
        }
      ]
    },
    {
      "cell_type": "code",
      "metadata": {
        "id": "CWwpvzKwpmiF"
      },
      "source": [
        ""
      ],
      "execution_count": null,
      "outputs": []
    },
    {
      "cell_type": "code",
      "metadata": {
        "id": "XLr9-7bkpntN"
      },
      "source": [
        ""
      ],
      "execution_count": null,
      "outputs": []
    },
    {
      "cell_type": "code",
      "metadata": {
        "id": "esxwvaxipoB8"
      },
      "source": [
        ""
      ],
      "execution_count": null,
      "outputs": []
    },
    {
      "cell_type": "code",
      "metadata": {
        "id": "MB2dHXI-pniU"
      },
      "source": [
        ""
      ],
      "execution_count": null,
      "outputs": []
    },
    {
      "cell_type": "code",
      "metadata": {
        "id": "6wF00LRXCzeY"
      },
      "source": [
        "X_train2 , X_val2 , y_train2, y_val2 = train_test_split(X2,y2,test_size = 0.2,random_state=17)"
      ],
      "execution_count": 99,
      "outputs": []
    },
    {
      "cell_type": "code",
      "metadata": {
        "id": "DKaSwUmFDHa9"
      },
      "source": [
        "clf = RandomForestClassifier(n_estimators=100,criterion='entropy',max_depth=100,random_state=17)"
      ],
      "execution_count": 100,
      "outputs": []
    },
    {
      "cell_type": "code",
      "metadata": {
        "id": "kXGcU4vKDLcV",
        "outputId": "cae052aa-6054-4fc4-d98e-9e3cb1dbd4c2",
        "colab": {
          "base_uri": "https://localhost:8080/"
        }
      },
      "source": [
        "clf.fit(X_train2,y_train2)"
      ],
      "execution_count": 101,
      "outputs": [
        {
          "output_type": "execute_result",
          "data": {
            "text/plain": [
              "RandomForestClassifier(bootstrap=True, ccp_alpha=0.0, class_weight=None,\n",
              "                       criterion='entropy', max_depth=100, max_features='auto',\n",
              "                       max_leaf_nodes=None, max_samples=None,\n",
              "                       min_impurity_decrease=0.0, min_impurity_split=None,\n",
              "                       min_samples_leaf=1, min_samples_split=2,\n",
              "                       min_weight_fraction_leaf=0.0, n_estimators=100,\n",
              "                       n_jobs=None, oob_score=False, random_state=17, verbose=0,\n",
              "                       warm_start=False)"
            ]
          },
          "metadata": {
            "tags": []
          },
          "execution_count": 101
        }
      ]
    },
    {
      "cell_type": "code",
      "metadata": {
        "id": "aOewQcVQDQ3i",
        "outputId": "972cd6ab-6316-480b-e372-3ef4e5135952",
        "colab": {
          "base_uri": "https://localhost:8080/"
        }
      },
      "source": [
        "y_pred2 = clf.predict(X_val2)\n",
        "threshold = 0.5\n",
        "y_pred2  = (y_pred2 >=threshold)*1\n",
        "print('F1 Score : ', f1_score(y_val2, y_pred2),'mean is :' ,np.mean(y_pred2))\n",
        "from sklearn.metrics import f1_score, classification_report\n",
        "print(classification_report(y_val2, y_pred2))"
      ],
      "execution_count": 102,
      "outputs": [
        {
          "output_type": "stream",
          "text": [
            "F1 Score :  0.9998951177303477 mean is : 0.49939771656017595\n",
            "              precision    recall  f1-score   support\n",
            "\n",
            "           0       1.00      1.00      1.00     19121\n",
            "           1       1.00      1.00      1.00     19067\n",
            "\n",
            "    accuracy                           1.00     38188\n",
            "   macro avg       1.00      1.00      1.00     38188\n",
            "weighted avg       1.00      1.00      1.00     38188\n",
            "\n"
          ],
          "name": "stdout"
        }
      ]
    },
    {
      "cell_type": "code",
      "metadata": {
        "id": "Ek1N0z2YJVzg"
      },
      "source": [
        "#modéle "
      ],
      "execution_count": 110,
      "outputs": []
    },
    {
      "cell_type": "code",
      "metadata": {
        "id": "DRcFvxeDrcPT",
        "outputId": "e62ad5bf-b4e0-4cf5-a2c2-3144a3266172",
        "colab": {
          "base_uri": "https://localhost:8080/"
        }
      },
      "source": [
        "clf = RandomForestClassifier(n_estimators=500,criterion='entropy',max_depth=100,random_state=17,max_features=10,min_samples_leaf=1)\n",
        "clf.fit(X_train,y_train)\n",
        "y_pred = clf.predict(X_val)\n",
        "threshold = 0.5\n",
        "y_pred  = (y_pred >=threshold)*1\n",
        "print('F1 Score : ', f1_score(y_val, y_pred),'mean is :' ,np.mean(y_pred))\n"
      ],
      "execution_count": 117,
      "outputs": [
        {
          "output_type": "stream",
          "text": [
            "F1 Score :  0.9999162128194387 mean is : 0.5000942704514507\n"
          ],
          "name": "stdout"
        }
      ]
    },
    {
      "cell_type": "code",
      "metadata": {
        "id": "SNSgmPUu2EDh"
      },
      "source": [
        ""
      ],
      "execution_count": null,
      "outputs": []
    }
  ]
}